{
 "cells": [
  {
   "cell_type": "code",
   "execution_count": 8,
   "metadata": {},
   "outputs": [],
   "source": [
    "import datetime\n",
    "import os\n",
    "import pathlib\n",
    "import shutil\n",
    "import subprocess\n",
    "import sys\n",
    "import typing as t"
   ]
  },
  {
   "cell_type": "code",
   "execution_count": 2,
   "metadata": {},
   "outputs": [
    {
     "data": {
      "text/plain": [
       "'/nfs2/mbysiek/Software/Spack/opt/spack/linux-ubuntu14.04-x86_64/gcc-8.2.0/papi-5.6.0-5p5d3qi2imn6m3szyl47gj73dpixhxpf/include:/nfs2/mbysiek/Software/Spack/opt/spack/linux-ubuntu14.04-x86_64/gcc-8.2.0/hpctoolkit-master-wxx6jn7xuoo7lzqhg7kwxx4xl2nrlooc/include:/nfs2/mbysiek/Software/Spack/opt/spack/linux-ubuntu14.04-x86_64/gcc-8.2.0/amrex-18.08.1-crdvjfdihxbjlam4swf2jzopgjv3dopv/include:/nfs2/mbysiek/Software/Spack/opt/spack/linux-ubuntu14.04-x86_64/gcc-8.2.0/hypre-2.14.0-vea6lmriirgjzt4o6j4zxw2xbunynfs6/include:/nfs2/mbysiek/Software/Spack/opt/spack/linux-ubuntu14.04-x86_64/gcc-8.2.0/openblas-0.3.2-femnsy3tmxlxehbgrk4yd4gmig2zjsle/include:/nfs2/mbysiek/Software/Spack/opt/spack/linux-ubuntu14.04-x86_64/gcc-8.2.0/hdf5-1.8.20-p357p5eclyvy4vpqaownurdkn3mxv56v/include:/nfs2/mbysiek/Software/Spack/opt/spack/linux-ubuntu14.04-x86_64/gcc-8.2.0/zlib-1.2.11-z7cqiqbuz4k4x4ideyvz3syxata5g5gd/include:/nfs2/mbysiek/Software/Spack/opt/spack/linux-ubuntu14.04-x86_64/gcc-8.2.0/numactl-2.0.11-nawuf6bcuc5wuk7t5oncoltovb532qba/include:/nfs2/mbysiek/Software/Spack/opt/spack/linux-ubuntu14.04-x86_64/gcc-8.2.0/mpich-3.2.1-efty7pv4gu35zwzq2h2toqy4a2ou7qei/include:/nfs2/mbysiek/Software/Spack/opt/spack/linux-ubuntu14.04-x86_64/gcc-8.2.0/libszip-2.1.1-lypubweatvk73d4xhakqqowflfabj4g2/include:/homes/mbysiek/.local/include/python3.6m'"
      ]
     },
     "execution_count": 2,
     "metadata": {},
     "output_type": "execute_result"
    }
   ],
   "source": [
    "os.environ['CPATH']"
   ]
  },
  {
   "cell_type": "code",
   "execution_count": 6,
   "metadata": {
    "scrolled": true
   },
   "outputs": [
    {
     "data": {
      "text/plain": [
       "'/nfs2/mbysiek/Software/Spack/opt/spack/linux-ubuntu14.04-x86_64/gcc-8.2.0/hpctoolkit-master-wxx6jn7xuoo7lzqhg7kwxx4xl2nrlooc/bin/hpcrun'"
      ]
     },
     "execution_count": 6,
     "metadata": {},
     "output_type": "execute_result"
    }
   ],
   "source": [
    "shutil.which('hpcrun')"
   ]
  },
  {
   "cell_type": "code",
   "execution_count": 19,
   "metadata": {},
   "outputs": [],
   "source": [
    "try:\n",
    "    _HERE = pathlib.Path(__file__).parent.resolve()\n",
    "except NameError:\n",
    "    _HERE = pathlib.Path(os.getcwd()).resolve()"
   ]
  },
  {
   "cell_type": "code",
   "execution_count": 13,
   "metadata": {},
   "outputs": [],
   "source": [
    "def hpctoolkit_profile(executable, results_path, sample_size: int):\n",
    "    hpcrun = shutil.which('hpcrun')\n",
    "    # results_path = \"$HERE/results/profile_${NOW_DATE}_${app}_${experiment}\"\n",
    "    hpcrun_command = '{} -o \"{}\" {}'.format(hpcrun, results_path, executable)\n",
    "    for i in range(sample_size):\n",
    "        subprocess.run(hpcrun_command, shell=True)"
   ]
  },
  {
   "cell_type": "code",
   "execution_count": 14,
   "metadata": {},
   "outputs": [],
   "source": [
    "def hpctoolkit_summarize(executable, results_path, source_path):\n",
    "    hpcstruct = shutil.which('hpcstruct')\n",
    "    hpcprof = shutil.which('hpcprof')\n",
    "    # results_path = \"$HERE/results/profile_${NOW_DATE}_${app}_${experiment}\"\n",
    "    \n",
    "    struct_path = results_path.join(executable.name + '.hpcstruct')\n",
    "    \n",
    "    hpcstruct_command = '{} -I {} -o {} {}'.format(\n",
    "        hpcstruct, source_path, struct_path, executable)\n",
    "    subprocess.run(hpcstruct_command, shell=True)\n",
    "    \n",
    "    # hpcprof -I \"${source}\" \"${results_path}\" \\\n",
    "    #   -S \"${results_path}/flash4.hpcstruct\" \\\n",
    "    #   -M stats \\\n",
    "    #   -o \"${results_path}_db\"\n",
    "    hpcprof_command = '{} -I {} {} -S {} -M stats -o {}'.format(\n",
    "        hpcprof, source_path, results_path, struct_path, str(results_path) + '_db')\n",
    "    subprocess.run(hpcprof_command, shell=True)"
   ]
  },
  {
   "cell_type": "code",
   "execution_count": 20,
   "metadata": {},
   "outputs": [],
   "source": [
    "def profile_flash(app_name, experiment, sample_size: int):\n",
    "    _NOW = datetime.datetime.now()\n",
    "    executable = './flash'\n",
    "    results_path = pathlib.Path(_HERE, 'results', 'profile_{}_{}_{}'.format(\n",
    "        _NOW.strftime('%Y%m%d-%H%M%S'), app_name, experiment))\n",
    "    source_path = pathlib.Path(_HERE, '')\n",
    "    \n",
    "    hpctoolkit_profile(executable, results_path, sample_size)\n",
    "    hpctoolkit_summarize(executable, results_path, source_path)"
   ]
  },
  {
   "cell_type": "code",
   "execution_count": null,
   "metadata": {},
   "outputs": [],
   "source": [
    "def _run_and_check(test_name: str, cmd: str, wd: pathlib.Path, log_filename_prefix):\n",
    "    cmd_result = subprocess.run(cmd, stdout=subprocess.PIPE, stderr=subprocess.PIPE,\n",
    "                                shell=True, cwd=str(wd))\n",
    "    cmd_msg = None\n",
    "    if cmd_result.returncode != 0:\n",
    "        log_dir = pathlib.Path(\n",
    "            _HERE, 'results', '{}_{}'.format(_NOW.strftime('%Y%m%d-%H%M%S'), test_name))\n",
    "        log_dir.mkdir(parents=True, exist_ok=True)\n",
    "        cmd_stdout = cmd_result.stdout.decode()\n",
    "        with open(str(pathlib.Path(log_dir, '{}_stdout.log'.format(log_filename_prefix))),\n",
    "                  'w') as cmd_stdout_file:\n",
    "            cmd_stdout_file.write(cmd_stdout)\n",
    "        cmd_stderr = cmd_result.stderr.decode()\n",
    "        with open(str(pathlib.Path(log_dir, '{}_stderr.log'.format(log_filename_prefix))),\n",
    "                  'w') as cmd_stderr_file:\n",
    "            cmd_stderr_file.write(cmd_stderr)\n",
    "        cmd_msg = '\"{}\" failed, returncode={}, logs were written to \"{}\"' \\\n",
    "            ' and last 50 lines of stderr follow:\\n{}'.format(\n",
    "                cmd, cmd_result.returncode, log_dir,\n",
    "                ''.join(cmd_stderr.splitlines(keepends=True)[-50:]))\n",
    "    assert cmd_result.returncode == 0, cmd_msg"
   ]
  },
  {
   "cell_type": "code",
   "execution_count": null,
   "metadata": {},
   "outputs": [],
   "source": [
    "def setup_flash(test_name, experiment, setup_dir):\n",
    "    _run_and_check(test_name, './setup -site spack ' + expermient, setup_dir, 'setup')"
   ]
  },
  {
   "cell_type": "code",
   "execution_count": null,
   "metadata": {},
   "outputs": [],
   "source": [
    "def build_flash(test_name):\n",
    "    _run_and_check(test_name, 'make')"
   ]
  },
  {
   "cell_type": "code",
   "execution_count": null,
   "metadata": {},
   "outputs": [],
   "source": [
    "app_name = 'flash-subset'\n",
    "experiment 'Sedov -auto -2d +Mode1'\n",
    "branch = 'transpyle_experiments_outlined'\n",
    "\n",
    "# checkout right branch\n",
    "setup_flash()\n",
    "profile_flash()"
   ]
  }
 ],
 "metadata": {
  "kernelspec": {
   "display_name": "Python 3",
   "language": "python",
   "name": "python3"
  },
  "language_info": {
   "codemirror_mode": {
    "name": "ipython",
    "version": 3
   },
   "file_extension": ".py",
   "mimetype": "text/x-python",
   "name": "python",
   "nbconvert_exporter": "python",
   "pygments_lexer": "ipython3",
   "version": "3.6.6"
  }
 },
 "nbformat": 4,
 "nbformat_minor": 2
}
