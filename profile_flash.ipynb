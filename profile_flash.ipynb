{
 "cells": [
  {
   "cell_type": "markdown",
   "metadata": {},
   "source": [
    "# Profiling FLASH"
   ]
  },
  {
   "cell_type": "code",
   "execution_count": 1,
   "metadata": {
    "scrolled": true
   },
   "outputs": [],
   "source": [
    "import datetime\n",
    "import itertools\n",
    "import logging\n",
    "import os\n",
    "import pathlib\n",
    "import pprint\n",
    "import re\n",
    "import shutil\n",
    "import subprocess\n",
    "import sys\n",
    "import typing as t\n",
    "\n",
    "import git\n",
    "import pandas as pd"
   ]
  },
  {
   "cell_type": "code",
   "execution_count": 2,
   "metadata": {},
   "outputs": [],
   "source": [
    "logging.basicConfig(level=logging.WARNING)\n",
    "\n",
    "_LOG = logging.getLogger('profile_flash')"
   ]
  },
  {
   "cell_type": "code",
   "execution_count": 3,
   "metadata": {},
   "outputs": [
    {
     "data": {
      "text/plain": [
       "(PosixPath('/nfs2/mbysiek/Projects/docker-transpyle-flash'),\n",
       " PosixPath('/nfs2/mbysiek/Projects/docker-transpyle-flash/results'))"
      ]
     },
     "execution_count": 3,
     "metadata": {},
     "output_type": "execute_result"
    }
   ],
   "source": [
    "try:\n",
    "    _HERE = pathlib.Path(__file__).parent.resolve()\n",
    "except NameError:\n",
    "    _HERE = pathlib.Path(os.getcwd()).resolve()\n",
    "\n",
    "_RESULTS_ROOT = pathlib.Path(_HERE, 'results')\n",
    "\n",
    "_HERE, _RESULTS_ROOT"
   ]
  },
  {
   "cell_type": "markdown",
   "metadata": {},
   "source": [
    "check if the envvars are properly set"
   ]
  },
  {
   "cell_type": "code",
   "execution_count": 4,
   "metadata": {},
   "outputs": [
    {
     "data": {
      "text/plain": [
       "'/nfs2/mbysiek/Software/Spack/opt/spack/linux-ubuntu14.04-x86_64/gcc-8.2.0/superlu-5.2.1-bz4ai7ydn6puimqffcglkl7ky5mwsmq4/include:/nfs2/mbysiek/Software/Spack/opt/spack/linux-ubuntu14.04-x86_64/gcc-8.2.0/hpctoolkit-master-wxx6jn7xuoo7lzqhg7kwxx4xl2nrlooc/include:/nfs2/mbysiek/Software/Spack/opt/spack/linux-ubuntu14.04-x86_64/gcc-8.2.0/papi-5.6.0-5p5d3qi2imn6m3szyl47gj73dpixhxpf/include:/nfs2/mbysiek/Software/Spack/opt/spack/linux-ubuntu14.04-x86_64/gcc-8.2.0/gcc-8.2.0-35mxytud35rkqxpuwxalsxp5s3gqq23f/include:/nfs2/mbysiek/Software/Spack/opt/spack/linux-ubuntu14.04-x86_64/gcc-8.2.0/mpc-1.1.0-lfad2lpghnhcljoohbmyz4iznbldjxte/include:/nfs2/mbysiek/Software/Spack/opt/spack/linux-ubuntu14.04-x86_64/gcc-8.2.0/mpfr-4.0.1-baptjiihukqeehfh7a3ecoualvmw4jtu/include:/nfs2/mbysiek/Software/Spack/opt/spack/linux-ubuntu14.04-x86_64/gcc-8.2.0/isl-0.19-j2nkr2ed5lm3cngy5zamecra6vw6fyks/include:/nfs2/mbysiek/Software/Spack/opt/spack/linux-ubuntu14.04-x86_64/gcc-8.2.0/gmp-6.1.2-2ii23bc4vfcihjejzkzw5k53sr7e5sum/include:/nfs2/mbysiek/Software/Spack/opt/spack/linux-ubuntu14.04-x86_64/gcc-8.2.0/amrex-18.08.1-crdvjfdihxbjlam4swf2jzopgjv3dopv/include:/nfs2/mbysiek/Software/Spack/opt/spack/linux-ubuntu14.04-x86_64/gcc-8.2.0/hypre-2.14.0-vea6lmriirgjzt4o6j4zxw2xbunynfs6/include:/nfs2/mbysiek/Software/Spack/opt/spack/linux-ubuntu14.04-x86_64/gcc-8.2.0/openblas-0.3.2-femnsy3tmxlxehbgrk4yd4gmig2zjsle/include:/nfs2/mbysiek/Software/Spack/opt/spack/linux-ubuntu14.04-x86_64/gcc-8.2.0/hdf5-1.8.20-p357p5eclyvy4vpqaownurdkn3mxv56v/include:/nfs2/mbysiek/Software/Spack/opt/spack/linux-ubuntu14.04-x86_64/gcc-8.2.0/zlib-1.2.11-z7cqiqbuz4k4x4ideyvz3syxata5g5gd/include:/nfs2/mbysiek/Software/Spack/opt/spack/linux-ubuntu14.04-x86_64/gcc-8.2.0/numactl-2.0.11-nawuf6bcuc5wuk7t5oncoltovb532qba/include:/nfs2/mbysiek/Software/Spack/opt/spack/linux-ubuntu14.04-x86_64/gcc-8.2.0/mpich-3.2.1-efty7pv4gu35zwzq2h2toqy4a2ou7qei/include:/nfs2/mbysiek/Software/Spack/opt/spack/linux-ubuntu14.04-x86_64/gcc-8.2.0/libszip-2.1.1-lypubweatvk73d4xhakqqowflfabj4g2/include:/homes/mbysiek/.local/include/python3.6m'"
      ]
     },
     "execution_count": 4,
     "metadata": {},
     "output_type": "execute_result"
    }
   ],
   "source": [
    "os.environ['CPATH']"
   ]
  },
  {
   "cell_type": "code",
   "execution_count": 5,
   "metadata": {},
   "outputs": [
    {
     "data": {
      "text/plain": [
       "'/nfs2/mbysiek/Software/Spack/opt/spack/linux-ubuntu14.04-x86_64/gcc-8.2.0/superlu-5.2.1-bz4ai7ydn6puimqffcglkl7ky5mwsmq4/lib:/nfs2/mbysiek/Software/Spack/opt/spack/linux-ubuntu14.04-x86_64/gcc-8.2.0/hpctoolkit-master-wxx6jn7xuoo7lzqhg7kwxx4xl2nrlooc/lib:/nfs2/mbysiek/Software/Spack/opt/spack/linux-ubuntu14.04-x86_64/gcc-8.2.0/papi-5.6.0-5p5d3qi2imn6m3szyl47gj73dpixhxpf/lib:/nfs2/mbysiek/Software/Spack/opt/spack/linux-ubuntu14.04-x86_64/gcc-8.2.0/gcc-8.2.0-35mxytud35rkqxpuwxalsxp5s3gqq23f/lib64:/nfs2/mbysiek/Software/Spack/opt/spack/linux-ubuntu14.04-x86_64/gcc-8.2.0/gcc-8.2.0-35mxytud35rkqxpuwxalsxp5s3gqq23f/lib:/nfs2/mbysiek/Software/Spack/opt/spack/linux-ubuntu14.04-x86_64/gcc-8.2.0/mpc-1.1.0-lfad2lpghnhcljoohbmyz4iznbldjxte/lib:/nfs2/mbysiek/Software/Spack/opt/spack/linux-ubuntu14.04-x86_64/gcc-8.2.0/mpfr-4.0.1-baptjiihukqeehfh7a3ecoualvmw4jtu/lib:/nfs2/mbysiek/Software/Spack/opt/spack/linux-ubuntu14.04-x86_64/gcc-8.2.0/isl-0.19-j2nkr2ed5lm3cngy5zamecra6vw6fyks/lib:/nfs2/mbysiek/Software/Spack/opt/spack/linux-ubuntu14.04-x86_64/gcc-8.2.0/gmp-6.1.2-2ii23bc4vfcihjejzkzw5k53sr7e5sum/lib:/nfs2/mbysiek/Software/Spack/opt/spack/linux-ubuntu14.04-x86_64/gcc-8.2.0/amrex-18.08.1-crdvjfdihxbjlam4swf2jzopgjv3dopv/lib:/nfs2/mbysiek/Software/Spack/opt/spack/linux-ubuntu14.04-x86_64/gcc-8.2.0/hypre-2.14.0-vea6lmriirgjzt4o6j4zxw2xbunynfs6/lib:/nfs2/mbysiek/Software/Spack/opt/spack/linux-ubuntu14.04-x86_64/gcc-8.2.0/openblas-0.3.2-femnsy3tmxlxehbgrk4yd4gmig2zjsle/lib:/nfs2/mbysiek/Software/Spack/opt/spack/linux-ubuntu14.04-x86_64/gcc-8.2.0/hdf5-1.8.20-p357p5eclyvy4vpqaownurdkn3mxv56v/lib:/nfs2/mbysiek/Software/Spack/opt/spack/linux-ubuntu14.04-x86_64/gcc-8.2.0/zlib-1.2.11-z7cqiqbuz4k4x4ideyvz3syxata5g5gd/lib:/nfs2/mbysiek/Software/Spack/opt/spack/linux-ubuntu14.04-x86_64/gcc-8.2.0/numactl-2.0.11-nawuf6bcuc5wuk7t5oncoltovb532qba/lib:/nfs2/mbysiek/Software/Spack/opt/spack/linux-ubuntu14.04-x86_64/gcc-8.2.0/mpich-3.2.1-efty7pv4gu35zwzq2h2toqy4a2ou7qei/lib:/nfs2/mbysiek/Software/Spack/opt/spack/linux-ubuntu14.04-x86_64/gcc-8.2.0/libszip-2.1.1-lypubweatvk73d4xhakqqowflfabj4g2/lib'"
      ]
     },
     "execution_count": 5,
     "metadata": {},
     "output_type": "execute_result"
    }
   ],
   "source": [
    "os.environ['LD_LIBRARY_PATH']"
   ]
  },
  {
   "cell_type": "code",
   "execution_count": 6,
   "metadata": {
    "scrolled": true
   },
   "outputs": [
    {
     "data": {
      "text/plain": [
       "'/nfs2/mbysiek/Software/Spack/opt/spack/linux-ubuntu14.04-x86_64/gcc-8.2.0/hpctoolkit-master-wxx6jn7xuoo7lzqhg7kwxx4xl2nrlooc/bin/hpcrun'"
      ]
     },
     "execution_count": 6,
     "metadata": {},
     "output_type": "execute_result"
    }
   ],
   "source": [
    "shutil.which('hpcrun')"
   ]
  },
  {
   "cell_type": "markdown",
   "metadata": {},
   "source": [
    "get profiling framework implementation"
   ]
  },
  {
   "cell_type": "code",
   "execution_count": 7,
   "metadata": {},
   "outputs": [],
   "source": [
    "import profiling_flash\n",
    "from profiling_flash import profile_experiment, date_str, profile_path, profile_db_path"
   ]
  },
  {
   "cell_type": "code",
   "execution_count": 8,
   "metadata": {},
   "outputs": [],
   "source": [
    "import hpctoolkit_dataframe\n",
    "from hpctoolkit_dataframe import HPCtoolkitDataFrame"
   ]
  },
  {
   "cell_type": "markdown",
   "metadata": {},
   "source": [
    "# run the experiments"
   ]
  },
  {
   "cell_type": "code",
   "execution_count": 9,
   "metadata": {},
   "outputs": [],
   "source": [
    "_NOW = datetime.datetime.now()"
   ]
  },
  {
   "cell_type": "code",
   "execution_count": 10,
   "metadata": {
    "scrolled": true
   },
   "outputs": [
    {
     "data": {
      "text/plain": [
       "datetime.datetime(2018, 9, 12, 17, 17, 24, 213713)"
      ]
     },
     "execution_count": 10,
     "metadata": {},
     "output_type": "execute_result"
    }
   ],
   "source": [
    "_NOW"
   ]
  },
  {
   "cell_type": "code",
   "execution_count": 11,
   "metadata": {},
   "outputs": [],
   "source": [
    "profiling_flash._NOW = _NOW"
   ]
  },
  {
   "cell_type": "code",
   "execution_count": null,
   "metadata": {},
   "outputs": [],
   "source": [
    "clean_flash(pathlib.Path(_HERE, 'flash-subset', 'FLASH4.4', 'object'), 'subset_sedov_outlined_a')"
   ]
  },
  {
   "cell_type": "code",
   "execution_count": null,
   "metadata": {},
   "outputs": [],
   "source": [
    "# Experiment 1\n",
    "\n",
    "branch_nicknames = {\n",
    "    'transpyle_experiments': 'base',\n",
    "    'transpyle_experiments_outlined': 'outlined',\n",
    "    'transpyle_experiments_autoinlined': 'autoinlined'}\n",
    "problems = ['Sod', 'Sedov']\n",
    "samples = 50\n",
    "events = None\n",
    "\n",
    "test_name_template = 'subset_{}_{}_a'"
   ]
  },
  {
   "cell_type": "code",
   "execution_count": null,
   "metadata": {},
   "outputs": [],
   "source": [
    "# Experiment 2\n",
    "\n",
    "branch_nicknames = {\n",
    "    'transpyle_experiments': 'base',\n",
    "    #'transpyle_experiments_outlined': 'outlined',\n",
    "    #'transpyle_experiments_autoinlined': 'autoinlined'\n",
    "    }\n",
    "problems = ['Sod', 'Sedov']\n",
    "samples = 3\n",
    "events = {'PAPI_MEM_WCY': 100}\n",
    "\n",
    "test_name_template = 'subset_{}_{}_papi'"
   ]
  },
  {
   "cell_type": "code",
   "execution_count": null,
   "metadata": {},
   "outputs": [],
   "source": [
    "for branch, nickname in branch_nicknames.items():\n",
    "    for problem in problems:\n",
    "        test_name = test_name_template.format(problem, nickname)\n",
    "        profile_experiment('flash-subset', '{} -auto -2d +Mode1'.format(problem), branch, samples,\n",
    "                           events=events,\n",
    "                           test_name=test_name)"
   ]
  },
  {
   "cell_type": "code",
   "execution_count": null,
   "metadata": {},
   "outputs": [],
   "source": [
    "# Experiment 3\n",
    "\n",
    "branch_nicknames = {\n",
    "    'transpyle_experiments': 'base',\n",
    "    #'transpyle_experiments_outlined': 'outlined',\n",
    "    #'transpyle_experiments_autoinlined': 'autoinlined'\n",
    "    }\n",
    "problems = ['Sod', #'Sedov'\n",
    "           ]\n",
    "samples = 1\n",
    "events = {'PAPI_TOT_CYC': 100000, 'WALLCLOCK': 1 / 10}\n",
    "mpi_processes = [1, 2, 4]\n",
    "\n",
    "test_name_template = 'subset_{}_{}_scale_{}'"
   ]
  },
  {
   "cell_type": "code",
   "execution_count": null,
   "metadata": {},
   "outputs": [],
   "source": [
    "for (branch, nickname), problem, mpi_proc in itertools.product(branch_nicknames.items(), problems, mpi_processes):\n",
    "    test_name = test_name_template.format(problem, nickname, mpi_proc)\n",
    "    profile_experiment('flash-subset', '{} -auto -2d +Mode1'.format(problem), branch, samples,\n",
    "                       events=events, mpi_proc=mpi_proc, rebuild=False,\n",
    "                       test_name=test_name)"
   ]
  },
  {
   "cell_type": "code",
   "execution_count": 12,
   "metadata": {},
   "outputs": [],
   "source": [
    "# Experiment 4\n",
    "\n",
    "branch_nicknames = {\n",
    "    'SNIa_spack': 'base'}\n",
    "problems = [\n",
    "    ('SNIa_DoubleDetonation', '-auto -3d +cartesian -nxb=16 -nyb=16 -nzb=16 -maxblocks=100 xnet=True xnetData=Data_SN160 xnetGPU=False +uhd +starkiller starkillerGPU=False +Mode1 -debug +newMpole -objdir=sn1a-doubledet +noio'),\n",
    "    #('SNIa_DoubleDetonation', '-auto -3d +cartesian -nxb=16 -nyb=16 -nzb=16 -maxblocks=100 xnet=True xnetData=Data_SN160 xnetGPU=False +uhd +starkiller starkillerGPU=False +Mode1 -debug +newMpole -objdir=sn1a-doubledet'),\n",
    "    #('SNIa_DoubleDetonation', '-auto -3d +cartesian -nxb=16 -nyb=16 -nzb=16 -maxblocks=100 xnet=True xnetData=Data_SN160 xnetGPU=False +uhd +starkiller starkillerGPU=False +Mode1 +newMpole -objdir=sn1a-doubledet +noio'),\n",
    "    #('SNIa_DoubleDetonation', '-auto -3d +cartesian -nxb=16 -nyb=16 -nzb=16 -maxblocks=100 xnet=True xnetData=Data_SN160 xnetGPU=False +uhd +starkiller starkillerGPU=False +Mode1 +newMpole -objdir=sn1a-doubledet')\n",
    "    ]\n",
    "samples = 1\n",
    "events = {'PAPI_TOT_CYC': 100000, 'WALLCLOCK': 1 / 10}\n",
    "mpi_processes = [0] #[0, 1, 2, 4]\n",
    "\n",
    "test_name_template = 'subset_{}_{}_{}'"
   ]
  },
  {
   "cell_type": "code",
   "execution_count": 13,
   "metadata": {},
   "outputs": [
    {
     "name": "stderr",
     "output_type": "stream",
     "text": [
      "WARNING:profiling_flash:subset_SNIa_DoubleDetonation_base_0.profile: running the experiment 1 times...\n",
      "WARNING:profiling_flash:subset_SNIa_DoubleDetonation_base_0.profile: running \"hpcrun -e PAPI_TOT_CYC@100000 -e WALLCLOCK@f10 -o \"/nfs2/mbysiek/Projects/docker-transpyle-flash/results/profile_20180912-171724_subset_SNIa_DoubleDetonation_base_0\" /nfs2/mbysiek/Projects/docker-transpyle-flash/flash-subset/FLASH4.4/object/flash4\" with wd=\"/nfs2/mbysiek/Projects/docker-transpyle-flash/flash-subset/FLASH4.4/object\"\n",
      "WARNING:profiling_flash:subset_SNIa_DoubleDetonation_base_0.summarize.hpcstruct: running \"hpcstruct --verbose -I ./'*' -o /nfs2/mbysiek/Projects/docker-transpyle-flash/results/profile_20180912-171724_subset_SNIa_DoubleDetonation_base_0/flash4.hpcstruct /nfs2/mbysiek/Projects/docker-transpyle-flash/flash-subset/FLASH4.4/object/flash4\" with wd=\"/nfs2/mbysiek/Projects/docker-transpyle-flash/flash-subset\"\n",
      "WARNING:profiling_flash:subset_SNIa_DoubleDetonation_base_0.summarize.hpcprof: running \"hpcprof --verbose -I \"./+\" /nfs2/mbysiek/Projects/docker-transpyle-flash/results/profile_20180912-171724_subset_SNIa_DoubleDetonation_base_0 -S /nfs2/mbysiek/Projects/docker-transpyle-flash/results/profile_20180912-171724_subset_SNIa_DoubleDetonation_base_0/flash4.hpcstruct -M stats -o /nfs2/mbysiek/Projects/docker-transpyle-flash/results/profile_20180912-171724_subset_SNIa_DoubleDetonation_base_0_db\" with wd=\"/nfs2/mbysiek/Projects/docker-transpyle-flash/flash-subset\"\n",
      "WARNING:profiling_flash:subset_SNIa_DoubleDetonation_base_0.clean: running \"make clean\" with wd=\"/nfs2/mbysiek/Projects/docker-transpyle-flash/flash-subset/FLASH4.4/object\"\n"
     ]
    }
   ],
   "source": [
    "for (branch, nickname), (problem, options), mpi_proc in itertools.product(branch_nicknames.items(), problems, mpi_processes):\n",
    "    test_name = test_name_template.format(problem, nickname, mpi_proc)\n",
    "    profile_experiment('flash-subset', '{} {}'.format(problem, options), branch, samples,\n",
    "                       events=events, mpi_proc=mpi_proc, rebuild=False,\n",
    "                       test_name=test_name)"
   ]
  },
  {
   "cell_type": "markdown",
   "metadata": {},
   "source": [
    "### review past experiments"
   ]
  },
  {
   "cell_type": "code",
   "execution_count": null,
   "metadata": {},
   "outputs": [],
   "source": [
    "# Experiment 1\n",
    "\n",
    "test_date = datetime.datetime(2018, 9, 5, 12, 5, 19, 934255)"
   ]
  },
  {
   "cell_type": "code",
   "execution_count": null,
   "metadata": {},
   "outputs": [],
   "source": [
    "# Experiment 2\n",
    "\n",
    "test_date = datetime.datetime(2018, 9, 11, 10, 2, 31, 884551)"
   ]
  },
  {
   "cell_type": "code",
   "execution_count": null,
   "metadata": {},
   "outputs": [],
   "source": [
    "# Experiment 3\n",
    "\n",
    "test_date = datetime.datetime(2018, 9, 11, 11, 37, 45, 878931)"
   ]
  },
  {
   "cell_type": "code",
   "execution_count": 14,
   "metadata": {},
   "outputs": [],
   "source": [
    "# Experiment 4\n",
    "\n",
    "test_date = datetime.datetime(2018, 9, 12, 17, 17, 24, 213713)"
   ]
  },
  {
   "cell_type": "markdown",
   "metadata": {},
   "source": [
    "# compare bottlenecks"
   ]
  },
  {
   "cell_type": "markdown",
   "metadata": {},
   "source": [
    "experiment 1"
   ]
  },
  {
   "cell_type": "code",
   "execution_count": 11,
   "metadata": {
    "scrolled": false
   },
   "outputs": [
    {
     "name": "stdout",
     "output_type": "stream",
     "text": [
      "CPU times: user 36.8 s, sys: 486 ms, total: 37.3 s\n",
      "Wall time: 37.3 s\n"
     ]
    }
   ],
   "source": [
    "%%time\n",
    "\n",
    "timings = {}\n",
    "hot_paths = {}\n",
    "\n",
    "for (branch, nickname), problem in itertools.product(branch_nicknames.items(), problems):\n",
    "    test_name = test_name_template.format(problem, nickname)\n",
    "    _profile_path = profile_db_path(test_date, test_name=test_name).joinpath('experiment.xml')\n",
    "    df = HPCtoolkitDataFrame(path=_profile_path, max_depth=None)\n",
    "    timings[nickname, problem] = df\n",
    "    hot_paths[nickname, problem] = df.hot_path()"
   ]
  },
  {
   "cell_type": "code",
   "execution_count": 51,
   "metadata": {
    "scrolled": false
   },
   "outputs": [
    {
     "data": {
      "text/html": [
       "<div>\n",
       "<style scoped>\n",
       "    .dataframe tbody tr th:only-of-type {\n",
       "        vertical-align: middle;\n",
       "    }\n",
       "\n",
       "    .dataframe tbody tr th {\n",
       "        vertical-align: top;\n",
       "    }\n",
       "\n",
       "    .dataframe thead th {\n",
       "        text-align: right;\n",
       "    }\n",
       "</style>\n",
       "<table border=\"1\" class=\"dataframe\">\n",
       "  <thead>\n",
       "    <tr style=\"text-align: right;\">\n",
       "      <th></th>\n",
       "      <th>CPUTIME (usec):Mean (I)</th>\n",
       "      <th>CPUTIME (usec):Mean (I) ratio of total</th>\n",
       "      <th>CPUTIME (usec):Mean (I) ratio of parent</th>\n",
       "    </tr>\n",
       "  </thead>\n",
       "  <tbody>\n",
       "    <tr>\n",
       "      <th>('&lt;program root&gt;.6', 'main.8', 'driver_evolveflash_.1004', '&lt;loop 460.1436&gt;', 'hydro_.4266', 'hy_advance_.5235', '&lt;loop 6622.5443&gt;', 'hy_computefluxes_.5445', 'hy_getriemannstate_.6548', '&lt;loop 6882.6621&gt;', '&lt;loop 6884.6623&gt;', 'hy_datareconstonestep_.6701', '&lt;loop 6698.7398&gt;', 'hy_datareconstructnormaldir_ppm_.7400')</th>\n",
       "      <td>7615040.0</td>\n",
       "      <td>0.389404</td>\n",
       "      <td>0.981026</td>\n",
       "    </tr>\n",
       "    <tr>\n",
       "      <th>('&lt;program root&gt;.6', 'main.8', 'driver_evolveflash_.1004', '&lt;loop 460.1436&gt;', 'hydro_.4266', 'hy_advance_.5235', '&lt;loop 6622.5443&gt;', 'hy_computefluxes_.5445', 'hy_getriemannstate_.6548', '&lt;loop 6882.6621&gt;', '&lt;loop 6884.6623&gt;', 'hy_datareconstonestep_.6701', '&lt;loop 6698.7398&gt;', 'hy_datareconstructnormaldir_ppm_.7400', 'hy_upwindtransverseflux_.7411')</th>\n",
       "      <td>1165760.0</td>\n",
       "      <td>0.059613</td>\n",
       "      <td>0.153087</td>\n",
       "    </tr>\n",
       "    <tr>\n",
       "      <th>('&lt;program root&gt;.6', 'main.8', 'driver_evolveflash_.1004', '&lt;loop 460.1436&gt;', 'hydro_.4266', 'hy_advance_.5235', '&lt;loop 6622.5443&gt;', 'hy_computefluxes_.5445', 'hy_getriemannstate_.6548', '&lt;loop 6882.6621&gt;', '&lt;loop 6884.6623&gt;', 'hy_datareconstonestep_.6701', '&lt;loop 6698.7398&gt;', 'hy_datareconstructnormaldir_ppm_.7400', 'hy_upwindtransverseflux_.7411', '&lt;loop 7190.7415&gt;')</th>\n",
       "      <td>1013498.0</td>\n",
       "      <td>0.051826</td>\n",
       "      <td>0.869388</td>\n",
       "    </tr>\n",
       "  </tbody>\n",
       "</table>\n",
       "</div>"
      ],
      "text/plain": [
       "                                                    CPUTIME (usec):Mean (I)  \\\n",
       "('<program root>.6', 'main.8', 'driver_evolvefl...                7615040.0   \n",
       "('<program root>.6', 'main.8', 'driver_evolvefl...                1165760.0   \n",
       "('<program root>.6', 'main.8', 'driver_evolvefl...                1013498.0   \n",
       "\n",
       "                                                    CPUTIME (usec):Mean (I) ratio of total  \\\n",
       "('<program root>.6', 'main.8', 'driver_evolvefl...                                0.389404   \n",
       "('<program root>.6', 'main.8', 'driver_evolvefl...                                0.059613   \n",
       "('<program root>.6', 'main.8', 'driver_evolvefl...                                0.051826   \n",
       "\n",
       "                                                    CPUTIME (usec):Mean (I) ratio of parent  \n",
       "('<program root>.6', 'main.8', 'driver_evolvefl...                                 0.981026  \n",
       "('<program root>.6', 'main.8', 'driver_evolvefl...                                 0.153087  \n",
       "('<program root>.6', 'main.8', 'driver_evolvefl...                                 0.869388  "
      ]
     },
     "execution_count": 51,
     "metadata": {},
     "output_type": "execute_result"
    }
   ],
   "source": [
    "hot_paths['base', 'Sedov'].compact[-3:]"
   ]
  },
  {
   "cell_type": "code",
   "execution_count": 52,
   "metadata": {},
   "outputs": [
    {
     "data": {
      "text/html": [
       "<div>\n",
       "<style scoped>\n",
       "    .dataframe tbody tr th:only-of-type {\n",
       "        vertical-align: middle;\n",
       "    }\n",
       "\n",
       "    .dataframe tbody tr th {\n",
       "        vertical-align: top;\n",
       "    }\n",
       "\n",
       "    .dataframe thead th {\n",
       "        text-align: right;\n",
       "    }\n",
       "</style>\n",
       "<table border=\"1\" class=\"dataframe\">\n",
       "  <thead>\n",
       "    <tr style=\"text-align: right;\">\n",
       "      <th></th>\n",
       "      <th>CPUTIME (usec):Mean (I)</th>\n",
       "      <th>CPUTIME (usec):Mean (I) ratio of total</th>\n",
       "      <th>CPUTIME (usec):Mean (I) ratio of parent</th>\n",
       "    </tr>\n",
       "  </thead>\n",
       "  <tbody>\n",
       "    <tr>\n",
       "      <th>('&lt;program root&gt;.6', 'main.8', 'driver_evolveflash_.859', '&lt;loop 460.1273&gt;', 'hydro_.4166', 'hy_advance_.5116', '&lt;loop 6628.5311&gt;', 'hy_computefluxes_.5313', 'hy_getriemannstate_.6438', '&lt;loop 6888.6519&gt;', '&lt;loop 6890.6521&gt;', 'hy_datareconstonestep_.6602', '&lt;loop 6704.7269&gt;', 'hy_datareconstructnormaldir_ppm_.7271')</th>\n",
       "      <td>7950080.0</td>\n",
       "      <td>0.394674</td>\n",
       "      <td>0.982663</td>\n",
       "    </tr>\n",
       "    <tr>\n",
       "      <th>('&lt;program root&gt;.6', 'main.8', 'driver_evolveflash_.859', '&lt;loop 460.1273&gt;', 'hydro_.4166', 'hy_advance_.5116', '&lt;loop 6628.5311&gt;', 'hy_computefluxes_.5313', 'hy_getriemannstate_.6438', '&lt;loop 6888.6519&gt;', '&lt;loop 6890.6521&gt;', 'hy_datareconstonestep_.6602', '&lt;loop 6704.7269&gt;', 'hy_datareconstructnormaldir_ppm_.7271', 'hy_upwindtransverseflux_.7282')</th>\n",
       "      <td>1521750.0</td>\n",
       "      <td>0.075546</td>\n",
       "      <td>0.191413</td>\n",
       "    </tr>\n",
       "  </tbody>\n",
       "</table>\n",
       "</div>"
      ],
      "text/plain": [
       "                                                    CPUTIME (usec):Mean (I)  \\\n",
       "('<program root>.6', 'main.8', 'driver_evolvefl...                7950080.0   \n",
       "('<program root>.6', 'main.8', 'driver_evolvefl...                1521750.0   \n",
       "\n",
       "                                                    CPUTIME (usec):Mean (I) ratio of total  \\\n",
       "('<program root>.6', 'main.8', 'driver_evolvefl...                                0.394674   \n",
       "('<program root>.6', 'main.8', 'driver_evolvefl...                                0.075546   \n",
       "\n",
       "                                                    CPUTIME (usec):Mean (I) ratio of parent  \n",
       "('<program root>.6', 'main.8', 'driver_evolvefl...                                 0.982663  \n",
       "('<program root>.6', 'main.8', 'driver_evolvefl...                                 0.191413  "
      ]
     },
     "execution_count": 52,
     "metadata": {},
     "output_type": "execute_result"
    }
   ],
   "source": [
    "hot_paths['outlined', 'Sedov'].compact[-2:]"
   ]
  },
  {
   "cell_type": "code",
   "execution_count": 53,
   "metadata": {},
   "outputs": [
    {
     "data": {
      "text/html": [
       "<div>\n",
       "<style scoped>\n",
       "    .dataframe tbody tr th:only-of-type {\n",
       "        vertical-align: middle;\n",
       "    }\n",
       "\n",
       "    .dataframe tbody tr th {\n",
       "        vertical-align: top;\n",
       "    }\n",
       "\n",
       "    .dataframe thead th {\n",
       "        text-align: right;\n",
       "    }\n",
       "</style>\n",
       "<table border=\"1\" class=\"dataframe\">\n",
       "  <thead>\n",
       "    <tr style=\"text-align: right;\">\n",
       "      <th></th>\n",
       "      <th>CPUTIME (usec):Mean (I)</th>\n",
       "      <th>CPUTIME (usec):Mean (I) ratio of total</th>\n",
       "      <th>CPUTIME (usec):Mean (I) ratio of parent</th>\n",
       "    </tr>\n",
       "  </thead>\n",
       "  <tbody>\n",
       "    <tr>\n",
       "      <th>('&lt;program root&gt;.6', 'main.8', 'driver_evolveflash_.1006', '&lt;loop 460.1422&gt;', 'hydro_.4494', 'hy_advance_.5477', '&lt;loop 6624.5674&gt;', 'hy_computefluxes_.5676', 'hy_getriemannstate_.6771', '&lt;loop 6884.6828&gt;', '&lt;loop 6886.6830&gt;', 'hy_datareconstonestep_.6911', '&lt;loop 6700.7566&gt;', 'hy_datareconstructnormaldir_ppm_.7568')</th>\n",
       "      <td>7436440.0</td>\n",
       "      <td>0.380932</td>\n",
       "      <td>0.981087</td>\n",
       "    </tr>\n",
       "    <tr>\n",
       "      <th>('&lt;program root&gt;.6', 'main.8', 'driver_evolveflash_.1006', '&lt;loop 460.1422&gt;', 'hydro_.4494', 'hy_advance_.5477', '&lt;loop 6624.5674&gt;', 'hy_computefluxes_.5676', 'hy_getriemannstate_.6771', '&lt;loop 6884.6828&gt;', '&lt;loop 6886.6830&gt;', 'hy_datareconstonestep_.6911', '&lt;loop 6700.7566&gt;', 'hy_datareconstructnormaldir_ppm_.7568', 'hy_upwindtransverseflux_.7579')</th>\n",
       "      <td>1105940.0</td>\n",
       "      <td>0.056652</td>\n",
       "      <td>0.148719</td>\n",
       "    </tr>\n",
       "  </tbody>\n",
       "</table>\n",
       "</div>"
      ],
      "text/plain": [
       "                                                    CPUTIME (usec):Mean (I)  \\\n",
       "('<program root>.6', 'main.8', 'driver_evolvefl...                7436440.0   \n",
       "('<program root>.6', 'main.8', 'driver_evolvefl...                1105940.0   \n",
       "\n",
       "                                                    CPUTIME (usec):Mean (I) ratio of total  \\\n",
       "('<program root>.6', 'main.8', 'driver_evolvefl...                                0.380932   \n",
       "('<program root>.6', 'main.8', 'driver_evolvefl...                                0.056652   \n",
       "\n",
       "                                                    CPUTIME (usec):Mean (I) ratio of parent  \n",
       "('<program root>.6', 'main.8', 'driver_evolvefl...                                 0.981087  \n",
       "('<program root>.6', 'main.8', 'driver_evolvefl...                                 0.148719  "
      ]
     },
     "execution_count": 53,
     "metadata": {},
     "output_type": "execute_result"
    }
   ],
   "source": [
    "hot_paths['autoinlined', 'Sedov'].compact[-2:]"
   ]
  },
  {
   "cell_type": "code",
   "execution_count": 54,
   "metadata": {
    "scrolled": true
   },
   "outputs": [],
   "source": [
    "times = {\n",
    "    _: timing.at_paths(suffix=(re.compile('hy_upwindtransverseflux_\\..*'),)).compact\n",
    "    for _, timing in timings.items()}"
   ]
  },
  {
   "cell_type": "code",
   "execution_count": 69,
   "metadata": {},
   "outputs": [],
   "source": [
    "comparisons = {}\n",
    "for problem in problems:\n",
    "    problem_times = {name: val for name, val in times.items() if name[1] == problem}\n",
    "    comparisons[problem] = pd.DataFrame(\n",
    "        data=[val.values.tolist()[0] for _, val in problem_times.items()], index=list(problem_times.keys()),\n",
    "        columns=next(iter(problem_times.values())).columns.values)\n",
    "\n",
    "    base = comparisons[problem].at[('base', problem), 'CPUTIME (usec):Mean (I)']\n",
    "    comparisons[problem].insert(\n",
    "        0, 'speedup vs base',\n",
    "        [base / row['CPUTIME (usec):Mean (I)'] for _, row in comparisons[problem].iterrows()])"
   ]
  },
  {
   "cell_type": "code",
   "execution_count": 70,
   "metadata": {},
   "outputs": [
    {
     "data": {
      "text/html": [
       "<div>\n",
       "<style scoped>\n",
       "    .dataframe tbody tr th:only-of-type {\n",
       "        vertical-align: middle;\n",
       "    }\n",
       "\n",
       "    .dataframe tbody tr th {\n",
       "        vertical-align: top;\n",
       "    }\n",
       "\n",
       "    .dataframe thead th {\n",
       "        text-align: right;\n",
       "    }\n",
       "</style>\n",
       "<table border=\"1\" class=\"dataframe\">\n",
       "  <thead>\n",
       "    <tr style=\"text-align: right;\">\n",
       "      <th></th>\n",
       "      <th>speedup vs base</th>\n",
       "      <th>CPUTIME (usec):Mean (I)</th>\n",
       "      <th>CPUTIME (usec):Mean (I) ratio of total</th>\n",
       "      <th>CPUTIME (usec):Mean (I) ratio of parent</th>\n",
       "    </tr>\n",
       "  </thead>\n",
       "  <tbody>\n",
       "    <tr>\n",
       "      <th>(base, Sedov)</th>\n",
       "      <td>1.000000</td>\n",
       "      <td>1165760.0</td>\n",
       "      <td>0.059613</td>\n",
       "      <td>0.153087</td>\n",
       "    </tr>\n",
       "    <tr>\n",
       "      <th>(outlined, Sedov)</th>\n",
       "      <td>0.766065</td>\n",
       "      <td>1521750.0</td>\n",
       "      <td>0.075546</td>\n",
       "      <td>0.191413</td>\n",
       "    </tr>\n",
       "    <tr>\n",
       "      <th>(autoinlined, Sedov)</th>\n",
       "      <td>1.054090</td>\n",
       "      <td>1105940.0</td>\n",
       "      <td>0.056652</td>\n",
       "      <td>0.148719</td>\n",
       "    </tr>\n",
       "  </tbody>\n",
       "</table>\n",
       "</div>"
      ],
      "text/plain": [
       "                      speedup vs base  CPUTIME (usec):Mean (I)  \\\n",
       "(base, Sedov)                1.000000                1165760.0   \n",
       "(outlined, Sedov)            0.766065                1521750.0   \n",
       "(autoinlined, Sedov)         1.054090                1105940.0   \n",
       "\n",
       "                      CPUTIME (usec):Mean (I) ratio of total  \\\n",
       "(base, Sedov)                                       0.059613   \n",
       "(outlined, Sedov)                                   0.075546   \n",
       "(autoinlined, Sedov)                                0.056652   \n",
       "\n",
       "                      CPUTIME (usec):Mean (I) ratio of parent  \n",
       "(base, Sedov)                                        0.153087  \n",
       "(outlined, Sedov)                                    0.191413  \n",
       "(autoinlined, Sedov)                                 0.148719  "
      ]
     },
     "execution_count": 70,
     "metadata": {},
     "output_type": "execute_result"
    }
   ],
   "source": [
    "comparisons['Sedov']"
   ]
  },
  {
   "cell_type": "code",
   "execution_count": 71,
   "metadata": {},
   "outputs": [
    {
     "data": {
      "text/html": [
       "<div>\n",
       "<style scoped>\n",
       "    .dataframe tbody tr th:only-of-type {\n",
       "        vertical-align: middle;\n",
       "    }\n",
       "\n",
       "    .dataframe tbody tr th {\n",
       "        vertical-align: top;\n",
       "    }\n",
       "\n",
       "    .dataframe thead th {\n",
       "        text-align: right;\n",
       "    }\n",
       "</style>\n",
       "<table border=\"1\" class=\"dataframe\">\n",
       "  <thead>\n",
       "    <tr style=\"text-align: right;\">\n",
       "      <th></th>\n",
       "      <th>speedup vs base</th>\n",
       "      <th>CPUTIME (usec):Mean (I)</th>\n",
       "      <th>CPUTIME (usec):Mean (I) ratio of total</th>\n",
       "      <th>CPUTIME (usec):Mean (I) ratio of parent</th>\n",
       "    </tr>\n",
       "  </thead>\n",
       "  <tbody>\n",
       "    <tr>\n",
       "      <th>(base, Sod)</th>\n",
       "      <td>1.000000</td>\n",
       "      <td>945516.0</td>\n",
       "      <td>0.081821</td>\n",
       "      <td>0.293096</td>\n",
       "    </tr>\n",
       "    <tr>\n",
       "      <th>(outlined, Sod)</th>\n",
       "      <td>0.783505</td>\n",
       "      <td>1206778.0</td>\n",
       "      <td>0.097547</td>\n",
       "      <td>0.333384</td>\n",
       "    </tr>\n",
       "    <tr>\n",
       "      <th>(autoinlined, Sod)</th>\n",
       "      <td>1.005937</td>\n",
       "      <td>939936.0</td>\n",
       "      <td>0.081339</td>\n",
       "      <td>0.286377</td>\n",
       "    </tr>\n",
       "  </tbody>\n",
       "</table>\n",
       "</div>"
      ],
      "text/plain": [
       "                    speedup vs base  CPUTIME (usec):Mean (I)  \\\n",
       "(base, Sod)                1.000000                 945516.0   \n",
       "(outlined, Sod)            0.783505                1206778.0   \n",
       "(autoinlined, Sod)         1.005937                 939936.0   \n",
       "\n",
       "                    CPUTIME (usec):Mean (I) ratio of total  \\\n",
       "(base, Sod)                                       0.081821   \n",
       "(outlined, Sod)                                   0.097547   \n",
       "(autoinlined, Sod)                                0.081339   \n",
       "\n",
       "                    CPUTIME (usec):Mean (I) ratio of parent  \n",
       "(base, Sod)                                        0.293096  \n",
       "(outlined, Sod)                                    0.333384  \n",
       "(autoinlined, Sod)                                 0.286377  "
      ]
     },
     "execution_count": 71,
     "metadata": {},
     "output_type": "execute_result"
    }
   ],
   "source": [
    "comparisons['Sod']"
   ]
  },
  {
   "cell_type": "markdown",
   "metadata": {},
   "source": [
    "# scaling"
   ]
  },
  {
   "cell_type": "markdown",
   "metadata": {},
   "source": [
    "experiment 3"
   ]
  },
  {
   "cell_type": "code",
   "execution_count": null,
   "metadata": {},
   "outputs": [],
   "source": [
    "logging.getLogger('hpctoolkit_dataframe').setLevel(logging.INFO)"
   ]
  },
  {
   "cell_type": "code",
   "execution_count": 11,
   "metadata": {},
   "outputs": [
    {
     "name": "stdout",
     "output_type": "stream",
     "text": [
      "CPU times: user 36.7 s, sys: 860 ms, total: 37.6 s\n",
      "Wall time: 37.6 s\n"
     ]
    }
   ],
   "source": [
    "%%time\n",
    "\n",
    "timings = {}\n",
    "hot_paths = {}\n",
    "\n",
    "for (branch, nickname), problem, mpi_proc in itertools.product(branch_nicknames.items(), problems, mpi_processes):\n",
    "    test_name = test_name_template.format(problem, nickname, mpi_proc)\n",
    "    _profile_path = profile_db_path(test_date, test_name=test_name).joinpath('experiment.xml')\n",
    "    df = HPCtoolkitDataFrame(path=_profile_path, max_depth=None)\n",
    "    timings[nickname, problem, mpi_proc] = df\n",
    "    hot_paths[nickname, problem, mpi_proc] = df.hot_path()"
   ]
  },
  {
   "cell_type": "code",
   "execution_count": 18,
   "metadata": {},
   "outputs": [],
   "source": [
    "_cols = ['PAPI_TOT_CYC:Mean (I)', 'CPUTIME (usec):Mean (I)', 'CPUTIME (usec):Mean:num-src (I)']"
   ]
  },
  {
   "cell_type": "code",
   "execution_count": 19,
   "metadata": {},
   "outputs": [
    {
     "data": {
      "text/html": [
       "<div>\n",
       "<style scoped>\n",
       "    .dataframe tbody tr th:only-of-type {\n",
       "        vertical-align: middle;\n",
       "    }\n",
       "\n",
       "    .dataframe tbody tr th {\n",
       "        vertical-align: top;\n",
       "    }\n",
       "\n",
       "    .dataframe thead th {\n",
       "        text-align: right;\n",
       "    }\n",
       "</style>\n",
       "<table border=\"1\" class=\"dataframe\">\n",
       "  <thead>\n",
       "    <tr style=\"text-align: right;\">\n",
       "      <th></th>\n",
       "      <th>PAPI_TOT_CYC:Mean (I)</th>\n",
       "      <th>CPUTIME (usec):Mean (I)</th>\n",
       "      <th>CPUTIME (usec):Mean:num-src (I)</th>\n",
       "    </tr>\n",
       "  </thead>\n",
       "  <tbody>\n",
       "    <tr>\n",
       "      <th>('&lt;program root&gt;.6', 'main.8', 'driver_evolveflash_.641', '&lt;loop 458.710&gt;', 'hydro_.3051', 'hy_advance_.4517', '&lt;loop 6582.4825&gt;', 'hy_computefluxes_.4827', 'hy_getriemannstate_.6992', '&lt;loop 6842.7121&gt;', '&lt;loop 6844.7123&gt;', 'hy_datareconstonestep_.7388', '&lt;loop 6658.8226&gt;', 'hy_datareconstructnormaldir_mh_.8280')</th>\n",
       "      <td>1.264030e+10</td>\n",
       "      <td>3948620.0</td>\n",
       "      <td>1.0</td>\n",
       "    </tr>\n",
       "    <tr>\n",
       "      <th>('&lt;program root&gt;.6', 'main.8', 'driver_evolveflash_.641', '&lt;loop 458.710&gt;', 'hydro_.3051', 'hy_advance_.4517', '&lt;loop 6582.4825&gt;', 'hy_computefluxes_.4827', 'hy_getriemannstate_.6992', '&lt;loop 6842.7121&gt;', '&lt;loop 6844.7123&gt;', 'hy_datareconstonestep_.7388', '&lt;loop 6658.8226&gt;', 'hy_datareconstructnormaldir_mh_.8280', 'hy_upwindtransverseflux_.8472')</th>\n",
       "      <td>3.791800e+09</td>\n",
       "      <td>1048990.0</td>\n",
       "      <td>1.0</td>\n",
       "    </tr>\n",
       "    <tr>\n",
       "      <th>('&lt;program root&gt;.6', 'main.8', 'driver_evolveflash_.641', '&lt;loop 458.710&gt;', 'hydro_.3051', 'hy_advance_.4517', '&lt;loop 6582.4825&gt;', 'hy_computefluxes_.4827', 'hy_getriemannstate_.6992', '&lt;loop 6842.7121&gt;', '&lt;loop 6844.7123&gt;', 'hy_datareconstonestep_.7388', '&lt;loop 6658.8226&gt;', 'hy_datareconstructnormaldir_mh_.8280', 'hy_upwindtransverseflux_.8472', '&lt;loop 7150.8528&gt;')</th>\n",
       "      <td>3.282500e+09</td>\n",
       "      <td>857432.0</td>\n",
       "      <td>1.0</td>\n",
       "    </tr>\n",
       "  </tbody>\n",
       "</table>\n",
       "</div>"
      ],
      "text/plain": [
       "                                                    PAPI_TOT_CYC:Mean (I)  \\\n",
       "('<program root>.6', 'main.8', 'driver_evolvefl...           1.264030e+10   \n",
       "('<program root>.6', 'main.8', 'driver_evolvefl...           3.791800e+09   \n",
       "('<program root>.6', 'main.8', 'driver_evolvefl...           3.282500e+09   \n",
       "\n",
       "                                                    CPUTIME (usec):Mean (I)  \\\n",
       "('<program root>.6', 'main.8', 'driver_evolvefl...                3948620.0   \n",
       "('<program root>.6', 'main.8', 'driver_evolvefl...                1048990.0   \n",
       "('<program root>.6', 'main.8', 'driver_evolvefl...                 857432.0   \n",
       "\n",
       "                                                    CPUTIME (usec):Mean:num-src (I)  \n",
       "('<program root>.6', 'main.8', 'driver_evolvefl...                              1.0  \n",
       "('<program root>.6', 'main.8', 'driver_evolvefl...                              1.0  \n",
       "('<program root>.6', 'main.8', 'driver_evolvefl...                              1.0  "
      ]
     },
     "execution_count": 19,
     "metadata": {},
     "output_type": "execute_result"
    }
   ],
   "source": [
    "hot_paths['base', 'Sod', 1][_cols][-3:]"
   ]
  },
  {
   "cell_type": "code",
   "execution_count": 20,
   "metadata": {},
   "outputs": [
    {
     "data": {
      "text/html": [
       "<div>\n",
       "<style scoped>\n",
       "    .dataframe tbody tr th:only-of-type {\n",
       "        vertical-align: middle;\n",
       "    }\n",
       "\n",
       "    .dataframe tbody tr th {\n",
       "        vertical-align: top;\n",
       "    }\n",
       "\n",
       "    .dataframe thead th {\n",
       "        text-align: right;\n",
       "    }\n",
       "</style>\n",
       "<table border=\"1\" class=\"dataframe\">\n",
       "  <thead>\n",
       "    <tr style=\"text-align: right;\">\n",
       "      <th></th>\n",
       "      <th>PAPI_TOT_CYC:Mean (I)</th>\n",
       "      <th>CPUTIME (usec):Mean (I)</th>\n",
       "      <th>CPUTIME (usec):Mean:num-src (I)</th>\n",
       "    </tr>\n",
       "  </thead>\n",
       "  <tbody>\n",
       "    <tr>\n",
       "      <th>('&lt;program root&gt;.14', 'main.16', 'driver_evolveflash_.1825', '&lt;loop 458.1999&gt;', 'hydro_.7096', 'hy_advance_.9422', '&lt;loop 6582.10102&gt;', 'hy_computefluxes_.10104', 'hy_getriemannstate_.12216', '&lt;loop 6842.12353&gt;', '&lt;loop 6844.12355&gt;', 'hy_datareconstonestep_.12526', '&lt;loop 6658.13562&gt;', 'hy_datareconstructnormaldir_mh_.13621')</th>\n",
       "      <td>6.310650e+09</td>\n",
       "      <td>2151080.0</td>\n",
       "      <td>2.0</td>\n",
       "    </tr>\n",
       "    <tr>\n",
       "      <th>('&lt;program root&gt;.14', 'main.16', 'driver_evolveflash_.1825', '&lt;loop 458.1999&gt;', 'hydro_.7096', 'hy_advance_.9422', '&lt;loop 6582.10102&gt;', 'hy_computefluxes_.10104', 'hy_getriemannstate_.12216', '&lt;loop 6842.12353&gt;', '&lt;loop 6844.12355&gt;', 'hy_datareconstonestep_.12526', '&lt;loop 6658.13562&gt;', 'hy_datareconstructnormaldir_mh_.13621', 'hy_upwindtransverseflux_.13919')</th>\n",
       "      <td>1.889900e+09</td>\n",
       "      <td>592360.0</td>\n",
       "      <td>2.0</td>\n",
       "    </tr>\n",
       "    <tr>\n",
       "      <th>('&lt;program root&gt;.14', 'main.16', 'driver_evolveflash_.1825', '&lt;loop 458.1999&gt;', 'hydro_.7096', 'hy_advance_.9422', '&lt;loop 6582.10102&gt;', 'hy_computefluxes_.10104', 'hy_getriemannstate_.12216', '&lt;loop 6842.12353&gt;', '&lt;loop 6844.12355&gt;', 'hy_datareconstonestep_.12526', '&lt;loop 6658.13562&gt;', 'hy_datareconstructnormaldir_mh_.13621', 'hy_upwindtransverseflux_.13919', '&lt;loop 7150.13980&gt;')</th>\n",
       "      <td>1.626650e+09</td>\n",
       "      <td>516650.0</td>\n",
       "      <td>2.0</td>\n",
       "    </tr>\n",
       "  </tbody>\n",
       "</table>\n",
       "</div>"
      ],
      "text/plain": [
       "                                                    PAPI_TOT_CYC:Mean (I)  \\\n",
       "('<program root>.14', 'main.16', 'driver_evolve...           6.310650e+09   \n",
       "('<program root>.14', 'main.16', 'driver_evolve...           1.889900e+09   \n",
       "('<program root>.14', 'main.16', 'driver_evolve...           1.626650e+09   \n",
       "\n",
       "                                                    CPUTIME (usec):Mean (I)  \\\n",
       "('<program root>.14', 'main.16', 'driver_evolve...                2151080.0   \n",
       "('<program root>.14', 'main.16', 'driver_evolve...                 592360.0   \n",
       "('<program root>.14', 'main.16', 'driver_evolve...                 516650.0   \n",
       "\n",
       "                                                    CPUTIME (usec):Mean:num-src (I)  \n",
       "('<program root>.14', 'main.16', 'driver_evolve...                              2.0  \n",
       "('<program root>.14', 'main.16', 'driver_evolve...                              2.0  \n",
       "('<program root>.14', 'main.16', 'driver_evolve...                              2.0  "
      ]
     },
     "execution_count": 20,
     "metadata": {},
     "output_type": "execute_result"
    }
   ],
   "source": [
    "hot_paths['base', 'Sod', 2][_cols][-3:]"
   ]
  },
  {
   "cell_type": "code",
   "execution_count": 21,
   "metadata": {},
   "outputs": [
    {
     "data": {
      "text/html": [
       "<div>\n",
       "<style scoped>\n",
       "    .dataframe tbody tr th:only-of-type {\n",
       "        vertical-align: middle;\n",
       "    }\n",
       "\n",
       "    .dataframe tbody tr th {\n",
       "        vertical-align: top;\n",
       "    }\n",
       "\n",
       "    .dataframe thead th {\n",
       "        text-align: right;\n",
       "    }\n",
       "</style>\n",
       "<table border=\"1\" class=\"dataframe\">\n",
       "  <thead>\n",
       "    <tr style=\"text-align: right;\">\n",
       "      <th></th>\n",
       "      <th>PAPI_TOT_CYC:Mean (I)</th>\n",
       "      <th>CPUTIME (usec):Mean (I)</th>\n",
       "      <th>CPUTIME (usec):Mean:num-src (I)</th>\n",
       "    </tr>\n",
       "  </thead>\n",
       "  <tbody>\n",
       "    <tr>\n",
       "      <th>('&lt;program root&gt;.14', 'main.16', 'driver_evolveflash_.3396', '&lt;loop 458.3681&gt;', 'hydro_.10708', 'hy_advance_.13539', '&lt;loop 6582.14856&gt;', 'hy_computefluxes_.14858', 'hy_getriemannstate_.16763', '&lt;loop 6842.16886&gt;', '&lt;loop 6844.16888&gt;', 'hy_datareconstonestep_.17145', '&lt;loop 6658.17987&gt;', 'hy_datareconstructnormaldir_mh_.18041')</th>\n",
       "      <td>3.152425e+09</td>\n",
       "      <td>1095135.0</td>\n",
       "      <td>4.0</td>\n",
       "    </tr>\n",
       "  </tbody>\n",
       "</table>\n",
       "</div>"
      ],
      "text/plain": [
       "                                                    PAPI_TOT_CYC:Mean (I)  \\\n",
       "('<program root>.14', 'main.16', 'driver_evolve...           3.152425e+09   \n",
       "\n",
       "                                                    CPUTIME (usec):Mean (I)  \\\n",
       "('<program root>.14', 'main.16', 'driver_evolve...                1095135.0   \n",
       "\n",
       "                                                    CPUTIME (usec):Mean:num-src (I)  \n",
       "('<program root>.14', 'main.16', 'driver_evolve...                              4.0  "
      ]
     },
     "execution_count": 21,
     "metadata": {},
     "output_type": "execute_result"
    }
   ],
   "source": [
    "hot_paths['base', 'Sod', 4][_cols][-1:]"
   ]
  },
  {
   "cell_type": "code",
   "execution_count": 46,
   "metadata": {},
   "outputs": [
    {
     "name": "stdout",
     "output_type": "stream",
     "text": [
      "transpyle_experiments base\n",
      "scaling efficiency vs 1 MPI rank(s)\n",
      "at 2 MPI ranks: 0.8985329456301092 i.e. loss: 0.10146705436989083\n",
      "at 4 MPI ranks: 0.5713035894931454 i.e. loss: 0.4286964105068546\n"
     ]
    }
   ],
   "source": [
    "# total_cycles = {}\n",
    "column = 'PAPI_TOT_CYC:Mean (I)'\n",
    "#column = 'CPUTIME (usec):Mean (I)'\n",
    "for (branch, nickname), problem in itertools.product(branch_nicknames.items(), problems):\n",
    "    # print(_timing['PAPI_TOT_CYC:Mean (I)'] * mpi_proc, mpi_proc)\n",
    "    #total_cycles[nickname, problem, mpi_proc] = _timing['PAPI_TOT_CYC:Mean (I)']\n",
    "    print(branch, nickname)\n",
    "    base_mpi_proc = mpi_processes[0]\n",
    "    print('scaling efficiency vs', base_mpi_proc, 'MPI rank(s)')\n",
    "    base_value = timings[nickname, problem, base_mpi_proc].loc['()'][column] * base_mpi_proc\n",
    "    #print(base_value)\n",
    "    for mpi_proc in mpi_processes[1:]:\n",
    "        value = timings[nickname, problem, mpi_proc].loc['()'][column] * mpi_proc\n",
    "        #print(value)\n",
    "        loss = (value - base_value) / value\n",
    "        eff = 1.0 - loss\n",
    "        print('at', mpi_proc, 'MPI ranks:', eff, 'i.e. loss:', loss)"
   ]
  },
  {
   "cell_type": "code",
   "execution_count": 18,
   "metadata": {},
   "outputs": [],
   "source": [
    "metrics_by_id = {4: 'PAPI_TOT_CYC:Sum (I)',\n",
    " 5: 'PAPI_TOT_CYC:Mean (I)',\n",
    " 6: 'PAPI_TOT_CYC:Mean:num-src (I)',\n",
    " 7: 'PAPI_TOT_CYC:StdDev (I)',\n",
    " 8: 'PAPI_TOT_CYC:StdDev:accum2 (I)',\n",
    " 9: 'PAPI_TOT_CYC:StdDev:num-src (I)',\n",
    " 10: 'PAPI_TOT_CYC:CfVar (I)',\n",
    " 11: 'PAPI_TOT_CYC:CfVar:accum2 (I)',\n",
    " 12: 'PAPI_TOT_CYC:CfVar:num-src (I)',\n",
    " 13: 'PAPI_TOT_CYC:Min (I)',\n",
    " 14: 'PAPI_TOT_CYC:Max (I)',\n",
    " 15: 'PAPI_TOT_CYC:Sum (E)',\n",
    " 16: 'PAPI_TOT_CYC:Mean (E)',\n",
    " 17: 'PAPI_TOT_CYC:Mean:num-src (E)',\n",
    " 18: 'PAPI_TOT_CYC:StdDev (E)',\n",
    " 19: 'PAPI_TOT_CYC:StdDev:accum2 (E)',\n",
    " 20: 'PAPI_TOT_CYC:StdDev:num-src (E)',\n",
    " 21: 'PAPI_TOT_CYC:CfVar (E)',\n",
    " 22: 'PAPI_TOT_CYC:CfVar:accum2 (E)',\n",
    " 23: 'PAPI_TOT_CYC:CfVar:num-src (E)',\n",
    " 24: 'PAPI_TOT_CYC:Min (E)',\n",
    " 25: 'PAPI_TOT_CYC:Max (E)',\n",
    " 26: 'CPUTIME (usec):Sum (I)',\n",
    " 27: 'CPUTIME (usec):Mean (I)',\n",
    " 28: 'CPUTIME (usec):Mean:num-src (I)',\n",
    " 29: 'CPUTIME (usec):StdDev (I)',\n",
    " 30: 'CPUTIME (usec):StdDev:accum2 (I)',\n",
    " 31: 'CPUTIME (usec):StdDev:num-src (I)',\n",
    " 32: 'CPUTIME (usec):CfVar (I)',\n",
    " 33: 'CPUTIME (usec):CfVar:accum2 (I)',\n",
    " 34: 'CPUTIME (usec):CfVar:num-src (I)',\n",
    " 35: 'CPUTIME (usec):Min (I)',\n",
    " 36: 'CPUTIME (usec):Max (I)',\n",
    " 37: 'CPUTIME (usec):Sum (E)',\n",
    " 38: 'CPUTIME (usec):Mean (E)',\n",
    " 39: 'CPUTIME (usec):Mean:num-src (E)',\n",
    " 40: 'CPUTIME (usec):StdDev (E)',\n",
    " 41: 'CPUTIME (usec):StdDev:accum2 (E)',\n",
    " 42: 'CPUTIME (usec):StdDev:num-src (E)',\n",
    " 43: 'CPUTIME (usec):CfVar (E)',\n",
    " 44: 'CPUTIME (usec):CfVar:accum2 (E)',\n",
    " 45: 'CPUTIME (usec):CfVar:num-src (E)',\n",
    " 46: 'CPUTIME (usec):Min (E)',\n",
    " 47: 'CPUTIME (usec):Max (E)'}"
   ]
  },
  {
   "cell_type": "code",
   "execution_count": 19,
   "metadata": {},
   "outputs": [],
   "source": [
    "data = {'PAPI_TOT_CYC:Sum (I)': 40943900000.0, 'PAPI_TOT_CYC:Mean (I)': 40943900000.0, 'PAPI_TOT_CYC:Mean:num-src (I)': 1.0, 'PAPI_TOT_CYC:StdDev (I)': 40943900000.0, 'PAPI_TOT_CYC:StdDev:accum2 (I)': 1.6764e+21, 'PAPI_TOT_CYC:StdDev:num-src (I)': 1.0, 'PAPI_TOT_CYC:CfVar (I)': 40943900000.0, 'PAPI_TOT_CYC:CfVar:accum2 (I)': 1.6764e+21, 'PAPI_TOT_CYC:CfVar:num-src (I)': 1.0, 'PAPI_TOT_CYC:Min (I)': 40943900000.0, 'PAPI_TOT_CYC:Max (I)': 40943900000.0, 'PAPI_TOT_CYC:Mean:num-src (E)': 1.0, 'PAPI_TOT_CYC:StdDev:num-src (E)': 1.0, 'PAPI_TOT_CYC:CfVar:num-src (E)': 1.0, 'PAPI_TOT_CYC:Min (E)': 2.22507e-308, 'CPUTIME (usec):Sum (I)': 14399400.0, 'CPUTIME (usec):Mean (I)': 14399400.0, 'CPUTIME (usec):Mean:num-src (I)': 1.0, 'CPUTIME (usec):StdDev (I)': 14399400.0, 'CPUTIME (usec):StdDev:accum2 (I)': 207342000000000.0, 'CPUTIME (usec):StdDev:num-src (I)': 1.0, 'CPUTIME (usec):CfVar (I)': 14399400.0, 'CPUTIME (usec):CfVar:accum2 (I)': 207342000000000.0, 'CPUTIME (usec):CfVar:num-src (I)': 1.0, 'CPUTIME (usec):Min (I)': 14399400.0, 'CPUTIME (usec):Max (I)': 14399400.0, 'CPUTIME (usec):Mean:num-src (E)': 1.0, 'CPUTIME (usec):StdDev:num-src (E)': 1.0, 'CPUTIME (usec):CfVar:num-src (E)': 1.0, 'CPUTIME (usec):Min (E)': 2.22507e-308, 'location': ()}"
   ]
  },
  {
   "cell_type": "code",
   "execution_count": 31,
   "metadata": {},
   "outputs": [
    {
     "data": {
      "text/plain": [
       "{'PAPI_TOT_CYC:Sum (I)': 40943900000.0,\n",
       " 'PAPI_TOT_CYC:Mean (I)': 40943900000.0,\n",
       " 'PAPI_TOT_CYC:Mean:num-src (I)': 1.0,\n",
       " 'PAPI_TOT_CYC:StdDev (I)': 40943900000.0,\n",
       " 'PAPI_TOT_CYC:StdDev:accum2 (I)': 1.6764e+21,\n",
       " 'PAPI_TOT_CYC:StdDev:num-src (I)': 1.0,\n",
       " 'PAPI_TOT_CYC:CfVar (I)': 40943900000.0,\n",
       " 'PAPI_TOT_CYC:CfVar:accum2 (I)': 1.6764e+21,\n",
       " 'PAPI_TOT_CYC:CfVar:num-src (I)': 1.0,\n",
       " 'PAPI_TOT_CYC:Min (I)': 40943900000.0,\n",
       " 'PAPI_TOT_CYC:Max (I)': 40943900000.0,\n",
       " 'PAPI_TOT_CYC:Mean:num-src (E)': 1.0,\n",
       " 'PAPI_TOT_CYC:StdDev:num-src (E)': 1.0,\n",
       " 'PAPI_TOT_CYC:CfVar:num-src (E)': 1.0,\n",
       " 'PAPI_TOT_CYC:Min (E)': 2.22507e-308,\n",
       " 'CPUTIME (usec):Sum (I)': 14399400.0,\n",
       " 'CPUTIME (usec):Mean (I)': 14399400.0,\n",
       " 'CPUTIME (usec):Mean:num-src (I)': 1.0,\n",
       " 'CPUTIME (usec):StdDev (I)': 14399400.0,\n",
       " 'CPUTIME (usec):StdDev:accum2 (I)': 207342000000000.0,\n",
       " 'CPUTIME (usec):StdDev:num-src (I)': 1.0,\n",
       " 'CPUTIME (usec):CfVar (I)': 14399400.0,\n",
       " 'CPUTIME (usec):CfVar:accum2 (I)': 207342000000000.0,\n",
       " 'CPUTIME (usec):CfVar:num-src (I)': 1.0,\n",
       " 'CPUTIME (usec):Min (I)': 14399400.0,\n",
       " 'CPUTIME (usec):Max (I)': 14399400.0,\n",
       " 'CPUTIME (usec):Mean:num-src (E)': 1.0,\n",
       " 'CPUTIME (usec):StdDev:num-src (E)': 1.0,\n",
       " 'CPUTIME (usec):CfVar:num-src (E)': 1.0,\n",
       " 'CPUTIME (usec):Min (E)': 2.22507e-308,\n",
       " 'location': ()}"
      ]
     },
     "execution_count": 31,
     "metadata": {},
     "output_type": "execute_result"
    }
   ],
   "source": [
    "data"
   ]
  },
  {
   "cell_type": "code",
   "execution_count": 23,
   "metadata": {},
   "outputs": [],
   "source": [
    "from math import sqrt"
   ]
  },
  {
   "cell_type": "code",
   "execution_count": 22,
   "metadata": {},
   "outputs": [
    {
     "ename": "ValueError",
     "evalue": "math domain error",
     "output_type": "error",
     "traceback": [
      "\u001b[0;31m---------------------------------------------------------------------------\u001b[0m",
      "\u001b[0;31mValueError\u001b[0m                                Traceback (most recent call last)",
      "\u001b[0;32m<ipython-input-22-bf94947d0f05>\u001b[0m in \u001b[0;36m<module>\u001b[0;34m()\u001b[0m\n\u001b[0;32m----> 1\u001b[0;31m \u001b[0msqrt\u001b[0m\u001b[0;34m(\u001b[0m\u001b[0;34m(\u001b[0m\u001b[0mdata\u001b[0m\u001b[0;34m.\u001b[0m\u001b[0mget\u001b[0m\u001b[0;34m(\u001b[0m\u001b[0mmetrics_by_id\u001b[0m\u001b[0;34m[\u001b[0m\u001b[0;36m8\u001b[0m\u001b[0;34m]\u001b[0m\u001b[0;34m)\u001b[0m \u001b[0;34m/\u001b[0m \u001b[0mdata\u001b[0m\u001b[0;34m.\u001b[0m\u001b[0mget\u001b[0m\u001b[0;34m(\u001b[0m\u001b[0mmetrics_by_id\u001b[0m\u001b[0;34m[\u001b[0m\u001b[0;36m9\u001b[0m\u001b[0;34m]\u001b[0m\u001b[0;34m)\u001b[0m\u001b[0;34m)\u001b[0m \u001b[0;34m-\u001b[0m \u001b[0mpow\u001b[0m\u001b[0;34m(\u001b[0m\u001b[0mdata\u001b[0m\u001b[0;34m.\u001b[0m\u001b[0mget\u001b[0m\u001b[0;34m(\u001b[0m\u001b[0mmetrics_by_id\u001b[0m\u001b[0;34m[\u001b[0m\u001b[0;36m7\u001b[0m\u001b[0;34m]\u001b[0m\u001b[0;34m)\u001b[0m \u001b[0;34m/\u001b[0m \u001b[0mdata\u001b[0m\u001b[0;34m.\u001b[0m\u001b[0mget\u001b[0m\u001b[0;34m(\u001b[0m\u001b[0mmetrics_by_id\u001b[0m\u001b[0;34m[\u001b[0m\u001b[0;36m9\u001b[0m\u001b[0;34m]\u001b[0m\u001b[0;34m)\u001b[0m\u001b[0;34m,\u001b[0m \u001b[0;36m2\u001b[0m\u001b[0;34m)\u001b[0m\u001b[0;34m)\u001b[0m\u001b[0;34m\u001b[0m\u001b[0m\n\u001b[0m",
      "\u001b[0;31mValueError\u001b[0m: math domain error"
     ]
    }
   ],
   "source": [
    "sqrt(\n",
    "    (data.get(metrics_by_id[8]) / data.get(metrics_by_id[9]))\n",
    "    - pow(data.get(metrics_by_id[7]) / data.get(metrics_by_id[9]), 2))"
   ]
  },
  {
   "cell_type": "code",
   "execution_count": 29,
   "metadata": {},
   "outputs": [],
   "source": [
    "_ = (data.get(metrics_by_id[8]) / data.get(metrics_by_id[9])) - pow(data.get(metrics_by_id[7]) / data.get(metrics_by_id[9]), 2)"
   ]
  },
  {
   "cell_type": "code",
   "execution_count": 30,
   "metadata": {},
   "outputs": [
    {
     "ename": "ValueError",
     "evalue": "math domain error",
     "output_type": "error",
     "traceback": [
      "\u001b[0;31m---------------------------------------------------------------------------\u001b[0m",
      "\u001b[0;31mValueError\u001b[0m                                Traceback (most recent call last)",
      "\u001b[0;32m<ipython-input-30-cacd2f52e06a>\u001b[0m in \u001b[0;36m<module>\u001b[0;34m()\u001b[0m\n\u001b[0;32m----> 1\u001b[0;31m \u001b[0msqrt\u001b[0m\u001b[0;34m(\u001b[0m\u001b[0m_\u001b[0m\u001b[0;34m)\u001b[0m\u001b[0;34m\u001b[0m\u001b[0m\n\u001b[0m",
      "\u001b[0;31mValueError\u001b[0m: math domain error"
     ]
    }
   ],
   "source": [
    "sqrt(_)"
   ]
  },
  {
   "cell_type": "markdown",
   "metadata": {},
   "source": [
    "## SNIa scaling\n",
    "\n",
    "experiment 4"
   ]
  },
  {
   "cell_type": "code",
   "execution_count": 15,
   "metadata": {},
   "outputs": [
    {
     "name": "stdout",
     "output_type": "stream",
     "text": [
      "CPU times: user 6.43 s, sys: 80.9 ms, total: 6.51 s\n",
      "Wall time: 6.57 s\n"
     ]
    }
   ],
   "source": [
    "%%time\n",
    "\n",
    "timings = {}\n",
    "hot_paths = {}\n",
    "\n",
    "for (branch, nickname), (problem, options), mpi_proc in itertools.product(\n",
    "        branch_nicknames.items(), problems, mpi_processes):\n",
    "    test_name = test_name_template.format(problem, nickname, mpi_proc)\n",
    "    _profile_path = profile_db_path(test_date, test_name=test_name).joinpath('experiment.xml')\n",
    "    df = HPCtoolkitDataFrame(path=_profile_path)\n",
    "    timings[nickname, problem, mpi_proc] = df\n",
    "    hot_paths[nickname, problem, mpi_proc] = df.hot_path()"
   ]
  },
  {
   "cell_type": "code",
   "execution_count": null,
   "metadata": {},
   "outputs": [],
   "source": [
    "hot_paths['base', 'SNIa_DoubleDetonation', 0][:]"
   ]
  },
  {
   "cell_type": "code",
   "execution_count": 22,
   "metadata": {},
   "outputs": [
    {
     "data": {
      "text/html": [
       "<div>\n",
       "<style scoped>\n",
       "    .dataframe tbody tr th:only-of-type {\n",
       "        vertical-align: middle;\n",
       "    }\n",
       "\n",
       "    .dataframe tbody tr th {\n",
       "        vertical-align: top;\n",
       "    }\n",
       "\n",
       "    .dataframe thead th {\n",
       "        text-align: right;\n",
       "    }\n",
       "</style>\n",
       "<table border=\"1\" class=\"dataframe\">\n",
       "  <thead>\n",
       "    <tr style=\"text-align: right;\">\n",
       "      <th></th>\n",
       "      <th>CPUTIME (usec):Mean (I)</th>\n",
       "      <th>CPUTIME (usec):Mean (I) ratio of total</th>\n",
       "      <th>CPUTIME (usec):Mean (I) ratio of parent</th>\n",
       "    </tr>\n",
       "  </thead>\n",
       "  <tbody>\n",
       "    <tr>\n",
       "      <th>('&lt;program root&gt;.10', 'main.12', 'driver_evolveflash_.698', '&lt;loop 458.748&gt;', 'hydro_.3210', 'hy_advance_.4836', 'grid_putfluxdata_.4838')</th>\n",
       "      <td>123758.0</td>\n",
       "      <td>0.008609</td>\n",
       "      <td>0.012841</td>\n",
       "    </tr>\n",
       "    <tr>\n",
       "      <th>('&lt;program root&gt;.10', 'main.12', 'driver_evolveflash_.698', '&lt;loop 458.748&gt;', 'hydro_.3210', 'hy_advance_.4836', 'timers_startstring_.4938')</th>\n",
       "      <td>3991.0</td>\n",
       "      <td>0.000278</td>\n",
       "      <td>0.000414</td>\n",
       "    </tr>\n",
       "    <tr>\n",
       "      <th>('&lt;program root&gt;.10', 'main.12', 'driver_evolveflash_.698', '&lt;loop 458.748&gt;', 'hydro_.3210', 'hy_advance_.4836', 'grid_conservefluxes_.4946')</th>\n",
       "      <td>79471.0</td>\n",
       "      <td>0.005528</td>\n",
       "      <td>0.008246</td>\n",
       "    </tr>\n",
       "    <tr>\n",
       "      <th>('&lt;program root&gt;.10', 'main.12', 'driver_evolveflash_.698', '&lt;loop 458.748&gt;', 'hydro_.3210', 'hy_advance_.4836', 'timers_stopstring_.5130')</th>\n",
       "      <td>NaN</td>\n",
       "      <td>NaN</td>\n",
       "      <td>NaN</td>\n",
       "    </tr>\n",
       "    <tr>\n",
       "      <th>('&lt;program root&gt;.10', 'main.12', 'driver_evolveflash_.698', '&lt;loop 458.748&gt;', 'hydro_.3210', 'hy_advance_.4836', '&lt;loop 6582.5132&gt;')</th>\n",
       "      <td>9246560.0</td>\n",
       "      <td>0.643248</td>\n",
       "      <td>0.959441</td>\n",
       "    </tr>\n",
       "    <tr>\n",
       "      <th>('&lt;program root&gt;.10', 'main.12', 'driver_evolveflash_.698', '&lt;loop 458.748&gt;', 'hydro_.3210', 'hy_advance_.4836', '&lt;loop 6584.9815&gt;')</th>\n",
       "      <td>183670.0</td>\n",
       "      <td>0.012777</td>\n",
       "      <td>0.019058</td>\n",
       "    </tr>\n",
       "  </tbody>\n",
       "</table>\n",
       "</div>"
      ],
      "text/plain": [
       "                                                    CPUTIME (usec):Mean (I)  \\\n",
       "('<program root>.10', 'main.12', 'driver_evolve...                 123758.0   \n",
       "('<program root>.10', 'main.12', 'driver_evolve...                   3991.0   \n",
       "('<program root>.10', 'main.12', 'driver_evolve...                  79471.0   \n",
       "('<program root>.10', 'main.12', 'driver_evolve...                      NaN   \n",
       "('<program root>.10', 'main.12', 'driver_evolve...                9246560.0   \n",
       "('<program root>.10', 'main.12', 'driver_evolve...                 183670.0   \n",
       "\n",
       "                                                    CPUTIME (usec):Mean (I) ratio of total  \\\n",
       "('<program root>.10', 'main.12', 'driver_evolve...                                0.008609   \n",
       "('<program root>.10', 'main.12', 'driver_evolve...                                0.000278   \n",
       "('<program root>.10', 'main.12', 'driver_evolve...                                0.005528   \n",
       "('<program root>.10', 'main.12', 'driver_evolve...                                     NaN   \n",
       "('<program root>.10', 'main.12', 'driver_evolve...                                0.643248   \n",
       "('<program root>.10', 'main.12', 'driver_evolve...                                0.012777   \n",
       "\n",
       "                                                    CPUTIME (usec):Mean (I) ratio of parent  \n",
       "('<program root>.10', 'main.12', 'driver_evolve...                                 0.012841  \n",
       "('<program root>.10', 'main.12', 'driver_evolve...                                 0.000414  \n",
       "('<program root>.10', 'main.12', 'driver_evolve...                                 0.008246  \n",
       "('<program root>.10', 'main.12', 'driver_evolve...                                      NaN  \n",
       "('<program root>.10', 'main.12', 'driver_evolve...                                 0.959441  \n",
       "('<program root>.10', 'main.12', 'driver_evolve...                                 0.019058  "
      ]
     },
     "execution_count": 22,
     "metadata": {},
     "output_type": "execute_result"
    }
   ],
   "source": [
    "timings['base', 'SNIa_DoubleDetonation', 0] \\\n",
    "    .at_paths(prefix=('<program root>.10', 'main.12', 'driver_evolveflash_.698', '<loop 458.748>',\n",
    "                      'hydro_.3210', 'hy_advance_.4836')) \\\n",
    "    .at_depth(7).compact"
   ]
  },
  {
   "cell_type": "markdown",
   "metadata": {},
   "source": [
    "### Profiling data analysis itself"
   ]
  },
  {
   "cell_type": "code",
   "execution_count": 9,
   "metadata": {
    "scrolled": false
   },
   "outputs": [
    {
     "name": "stdout",
     "output_type": "stream",
     "text": [
      "CPU times: user 7.57 s, sys: 66.9 ms, total: 7.64 s\n",
      "Wall time: 7.63 s\n"
     ]
    }
   ],
   "source": [
    "%%time\n",
    "\n",
    "import line_profiler\n",
    "profiler = line_profiler.LineProfiler()\n",
    "profiler.add_module(hpctoolkit_dataframe)\n",
    "profiler.enable()\n",
    "\n",
    "_profile_path = profile_db_path(\n",
    "    datetime.datetime(2018, 9, 5, 12, 5, 19, 934255), test_name='subset_Sedov_base_a').joinpath('experiment.xml')\n",
    "df = HPCtoolkitDataFrame(path=_profile_path, max_depth=None)\n",
    "\n",
    "profiler.disable()"
   ]
  },
  {
   "cell_type": "code",
   "execution_count": 10,
   "metadata": {},
   "outputs": [
    {
     "name": "stdout",
     "output_type": "stream",
     "text": [
      "CPU times: user 4 s, sys: 3.48 ms, total: 4 s\n",
      "Wall time: 3.99 s\n"
     ]
    }
   ],
   "source": [
    "%%time\n",
    "\n",
    "profiler.enable()\n",
    "\n",
    "hot_path = df.hot_path(threshold=0.01)\n",
    "\n",
    "profiler.disable()"
   ]
  },
  {
   "cell_type": "code",
   "execution_count": 11,
   "metadata": {},
   "outputs": [
    {
     "name": "stdout",
     "output_type": "stream",
     "text": [
      "CPU times: user 3.73 ms, sys: 0 ns, total: 3.73 ms\n",
      "Wall time: 2.93 ms\n"
     ]
    }
   ],
   "source": [
    "%%time\n",
    "\n",
    "profiler.enable()\n",
    "\n",
    "df.compact\n",
    "df.basic_i\n",
    "\n",
    "profiler.disable()"
   ]
  },
  {
   "cell_type": "code",
   "execution_count": 12,
   "metadata": {
    "scrolled": false
   },
   "outputs": [
    {
     "name": "stdout",
     "output_type": "stream",
     "text": [
      "Timer unit: 1e-06 s\n",
      "\n",
      "Total time: 0.241474 s\n",
      "File: /nfs2/mbysiek/Projects/docker-transpyle-flash/hpctoolkit_dataframe.py\n",
      "Function: _read_xml at line 16\n",
      "\n",
      "Line #      Hits         Time  Per Hit   % Time  Line Contents\n",
      "==============================================================\n",
      "    16                                           def _read_xml(path: pathlib.Path) -> ET.ElementTree:\n",
      "    17         1       1283.0   1283.0      0.5      with path.open() as xml_file:\n",
      "    18         1     240189.0 240189.0     99.5          xml_data = ET.parse(xml_file)\n",
      "    19         1          2.0      2.0      0.0      return xml_data\n",
      "\n",
      "Total time: 4.8e-05 s\n",
      "File: /nfs2/mbysiek/Projects/docker-transpyle-flash/hpctoolkit_dataframe.py\n",
      "Function: _metrics_formula_sub_predicate at line 22\n",
      "\n",
      "Line #      Hits         Time  Per Hit   % Time  Line Contents\n",
      "==============================================================\n",
      "    22                                           def _metrics_formula_sub_predicate(match: t.Match) -> str:\n",
      "    23        36         48.0      1.3    100.0      return 'data.get(self._metrics_by_id[{}])'.format(match.group()[1:])\n",
      "\n",
      "Total time: 0.001457 s\n",
      "File: /nfs2/mbysiek/Projects/docker-transpyle-flash/hpctoolkit_dataframe.py\n",
      "Function: _derive_metrics_formulas at line 26\n",
      "\n",
      "Line #      Hits         Time  Per Hit   % Time  Line Contents\n",
      "==============================================================\n",
      "    26                                           def _derive_metrics_formulas(\n",
      "    27                                                   metrics: ET.Element) -> t.Dict[str, t.Tuple[str, t.Callable[[pd.DataFrame, dict], t.Any]]]:\n",
      "    28         1          1.0      1.0      0.1      metrics_formulas = {}\n",
      "    29        23         14.0      0.6      1.0      for metric in metrics:\n",
      "    30        22        262.0     11.9     18.0          formulas = metric.findall('./MetricFormula')\n",
      "    31        44         20.0      0.5      1.4          for formula in formulas:\n",
      "    32        40         23.0      0.6      1.6              if formula.attrib['t'] != 'finalize':\n",
      "    33        22          7.0      0.3      0.5                  continue\n",
      "    34        18          5.0      0.3      0.3              raw_formula = formula.attrib['frm']\n",
      "    35        18        406.0     22.6     27.9              formula_code = re.sub('\\$[0-9]+', _metrics_formula_sub_predicate, raw_formula)\n",
      "    36        18        692.0     38.4     47.5              compiled_formula = eval('lambda self, data: {}'.format(formula_code), None, None)\n",
      "    37        18         19.0      1.1      1.3              metrics_formulas[metric.attrib['n']] = (formula_code, compiled_formula)\n",
      "    38        18          8.0      0.4      0.5              break\n",
      "    39         1          0.0      0.0      0.0      return metrics_formulas\n",
      "\n",
      "Total time: 1.55412 s\n",
      "File: /nfs2/mbysiek/Projects/docker-transpyle-flash/hpctoolkit_dataframe.py\n",
      "Function: _location_filter at line 42\n",
      "\n",
      "Line #      Hits         Time  Per Hit   % Time  Line Contents\n",
      "==============================================================\n",
      "    42                                           def _location_filter(series: pd.Series, fragments: t.Sequence[tuple],\n",
      "    43                                                                prefix: tuple, suffix: tuple) -> bool:\n",
      "    44     50608    1018819.0     20.1     65.6      location = series.at['location']\n",
      "    45     50608      26591.0      0.5      1.7      for fragment in fragments:\n",
      "    46                                                   if fragment:\n",
      "    47                                                       raise NotImplementedError('filtering by arbitrary fragment not supported')\n",
      "    48     50608      17609.0      0.3      1.1      if prefix:\n",
      "    49     44336      24964.0      0.6      1.6          if len(location) < len(prefix):\n",
      "    50        18          8.0      0.4      0.0              return False\n",
      "    51    250498     110477.0      0.4      7.1          for location_item, prefix_item in zip(location[:len(prefix)], prefix):\n",
      "    52    212433     248393.0      1.2     16.0              if not (prefix_item.fullmatch(location_item) if isinstance(prefix_item, t.Pattern)\n",
      "    53    212433      76145.0      0.4      4.9                      else prefix_item == location_item):\n",
      "    54      6253       2279.0      0.4      0.1                  return False\n",
      "    55     44337      14999.0      0.3      1.0      if suffix:\n",
      "    56                                                   if len(location) < len(suffix):\n",
      "    57                                                       return False\n",
      "    58                                                   for location_item, suffix_item in zip(location[-len(suffix):], suffix):\n",
      "    59                                                       if not (suffix_item.fullmatch(location_item) if isinstance(suffix_item, t.Pattern)\n",
      "    60                                                               else suffix_item == location_item):\n",
      "    61                                                           return False\n",
      "    62     44337      13832.0      0.3      0.9      return True\n",
      "\n",
      "Total time: 0.904964 s\n",
      "File: /nfs2/mbysiek/Projects/docker-transpyle-flash/hpctoolkit_dataframe.py\n",
      "Function: _depth_filter at line 65\n",
      "\n",
      "Line #      Hits         Time  Per Hit   % Time  Line Contents\n",
      "==============================================================\n",
      "    65                                           def _depth_filter(\n",
      "    66                                                   series: pd.Series, min_depth: t.Optional[int], max_depth: t.Optional[int]) -> bool:\n",
      "    67     44337     870755.0     19.6     96.2      depth = len(series.at['location'])\n",
      "    68     44337      23261.0      0.5      2.6      if min_depth is not None and depth < min_depth or max_depth is not None and depth > max_depth:\n",
      "    69     43968      10840.0      0.2      1.2          return False\n",
      "    70       369        108.0      0.3      0.0      return True\n",
      "\n",
      "Total time: 1.72781 s\n",
      "File: /nfs2/mbysiek/Projects/docker-transpyle-flash/hpctoolkit_dataframe.py\n",
      "Function: __init__ at line 86\n",
      "\n",
      "Line #      Hits         Time  Per Hit   % Time  Line Contents\n",
      "==============================================================\n",
      "    86                                               def __init__(self, *args,\n",
      "    87                                                            path: pathlib.Path = None, max_depth: t.Optional[int] = None, **kwargs):\n",
      "    88      3839       6752.0      1.8      0.4          if path is None:\n",
      "    89      3838      56876.0     14.8      3.3              super().__init__(*args, **kwargs)\n",
      "    90      3838       4555.0      1.2      0.3              return\n",
      "    91                                           \n",
      "    92         1     241591.0 241591.0     14.0          profile_data = _read_xml(path).find('./SecCallPathProfile')\n",
      "    93         1         14.0     14.0      0.0          _LOG.info('%s', profile_data.attrib['n'])\n",
      "    94                                           \n",
      "    95         1         14.0     14.0      0.0          self._max_depth = max_depth\n",
      "    96                                           \n",
      "    97         1         33.0     33.0      0.0          metrics = profile_data.find('./SecHeader/MetricTable')\n",
      "    98         1         13.0     13.0      0.0          _LOG.debug('%s', [(_, _.attrib) for _ in metrics])\n",
      "    99         1         20.0     20.0      0.0          self._metrics_by_id = {int(_.attrib['i']): _.attrib['n'] for _ in metrics}\n",
      "   100         1        467.0    467.0      0.0          _LOG.info('%s', pprint.pformat(self._metrics_by_id))\n",
      "   101                                           \n",
      "   102         1       1567.0   1567.0      0.1          self._metrics_formulas = _derive_metrics_formulas(metrics)\n",
      "   103         1       1964.0   1964.0      0.1          _LOG.info('%s', pprint.pformat(self._metrics_formulas))\n",
      "   104                                           \n",
      "   105         1         37.0     37.0      0.0          procedures = profile_data.find('./SecHeader/ProcedureTable')\n",
      "   106         1        176.0    176.0      0.0          _LOG.debug('%s', [(_, _.attrib) for _ in procedures])\n",
      "   107         1        348.0    348.0      0.0          self._procedures_by_id = {int(_.attrib['i']): _.attrib['n'] for _ in procedures}\n",
      "   108         1      16776.0  16776.0      1.0          _LOG.info('%s', pprint.pformat(self._procedures_by_id))\n",
      "   109                                           \n",
      "   110         1         32.0     32.0      0.0          measurements = profile_data.find('./SecCallPathProfileData')\n",
      "   111         1          8.0      8.0      0.0          _LOG.debug('%s', [(_, _.attrib) for _ in measurements])\n",
      "   112                                           \n",
      "   113         1         11.0     11.0      0.0          columns = [metric for _, metric in sorted(self._metrics_by_id.items())]\n",
      "   114         1          2.0      2.0      0.0          columns.append('location')\n",
      "   115                                           \n",
      "   116         1    1364477.0 1364477.0     79.0          rows = self._add_measurements(measurements)\n",
      "   117         1      28726.0  28726.0      1.7          super().__init__(data=rows, index=[str(_['location']) for _ in rows], columns=columns)\n",
      "   118         1       2320.0   2320.0      0.1          self._fix_root_measurement()\n",
      "   119         1       1032.0   1032.0      0.1          self._add_percentage_columns()\n",
      "\n",
      "Total time: 0.286644 s\n",
      "File: /nfs2/mbysiek/Projects/docker-transpyle-flash/hpctoolkit_dataframe.py\n",
      "Function: _evaluate_measurements_data at line 121\n",
      "\n",
      "Line #      Hits         Time  Per Hit   % Time  Line Contents\n",
      "==============================================================\n",
      "   121                                               def _evaluate_measurements_data(self, data: dict) -> dict:\n",
      "   122      6272       2418.0      0.4      0.8          processed_data = {}\n",
      "   123    140889      46209.0      0.3     16.1          for column, entry in data.items():\n",
      "   124    134617      46729.0      0.3     16.3              if column not in self._metrics_formulas:\n",
      "   125     28606       8858.0      0.3      3.1                  processed_data[column] = entry\n",
      "   126     28606       7620.0      0.3      2.7                  continue\n",
      "   127    106011      37616.0      0.4     13.1              formula_code, formula = self._metrics_formulas[column]\n",
      "   128    106011      28383.0      0.3      9.9              try:\n",
      "   129    106011     107096.0      1.0     37.4                  processed_data[column] = formula(self, data)\n",
      "   130                                                       except ValueError as error:\n",
      "   131                                                           raise ValueError(\n",
      "   132                                                               'error while evaluating \"\"\"{}\"\"\" to compute \"{}\" in row {}'\n",
      "   133                                                               .format(formula_code, column, data)) from error\n",
      "   134      6272       1715.0      0.3      0.6          return processed_data\n",
      "\n",
      "Total time: 0.946761 s\n",
      "File: /nfs2/mbysiek/Projects/docker-transpyle-flash/hpctoolkit_dataframe.py\n",
      "Function: _add_measurements at line 136\n",
      "\n",
      "Line #      Hits         Time  Per Hit   % Time  Line Contents\n",
      "==============================================================\n",
      "   136                                               def _add_measurements(self, measurements: ET.Element, location: tuple = (), *,\n",
      "   137                                                                     depth: int = 0, add_local: bool = True) -> t.List[pd.Series]:\n",
      "   138      8299       4506.0      0.5      0.5          rows = []\n",
      "   139                                           \n",
      "   140                                                   # split measurements into M and non-M items\n",
      "   141      8299       4759.0      0.6      0.5          local_measurements = {}\n",
      "   142      8299       4350.0      0.5      0.5          nonlocal_measurements = []\n",
      "   143    175347      96218.0      0.5     10.2          for measurement in measurements:\n",
      "   144    167048      94340.0      0.6     10.0              if measurement.tag == 'M':\n",
      "   145                                                           local_measurements[self._metrics_by_id[int(measurement.attrib['n'])]] = \\\n",
      "   146    158750     189931.0      1.2     20.1                      float(measurement.attrib['v'])\n",
      "   147                                                       else:\n",
      "   148      8298       5615.0      0.7      0.6                  nonlocal_measurements.append(measurement)\n",
      "   149                                           \n",
      "   150      8299       4429.0      0.5      0.5          if add_local:\n",
      "   151                                                       # data = {self._metrics_by_id[int(metric.attrib['n'])]: float(metric.attrib['v'])\n",
      "   152                                                       #        for metric in measurements if metric.tag == 'M'}\n",
      "   153      6272       3532.0      0.6      0.4              local_measurements['location'] = location\n",
      "   154      6272     466237.0     74.3     49.2              local_measurements = self._evaluate_measurements_data(local_measurements)\n",
      "   155      6272       4451.0      0.7      0.5              rows.append(local_measurements)\n",
      "   156                                           \n",
      "   157      8299       5156.0      0.6      0.5          if self._max_depth is not None and depth >= self._max_depth:\n",
      "   158                                                       return rows\n",
      "   159                                           \n",
      "   160     16597      10472.0      0.6      1.1          for measurement in nonlocal_measurements:  # measurements:\n",
      "   161      8298       4538.0      0.5      0.5              add_local = True\n",
      "   162                                                       # if measurement.tag == 'M':  # metric data\n",
      "   163                                                       #    continue\n",
      "   164      8298       5369.0      0.6      0.6              if measurement.tag == 'PF':  # procedure frame\n",
      "   165      2553       3260.0      1.3      0.3                  _ = '{}.{}'.format(self._procedures_by_id[int(measurement.attrib['n'])],\n",
      "   166      2553       2747.0      1.1      0.3                                     measurement.attrib['i'])\n",
      "   167      2553       2318.0      0.9      0.2                  new_location = (*location, _)\n",
      "   168      5745       3422.0      0.6      0.4              elif measurement.tag == 'C':\n",
      "   169      2027       1248.0      0.6      0.1                  if self._skip_callsite:\n",
      "   170      2027       1081.0      0.5      0.1                      new_location = location\n",
      "   171      2027       1113.0      0.5      0.1                      add_local = False\n",
      "   172      2027       1360.0      0.7      0.1                      depth -= 1\n",
      "   173                                                           else:\n",
      "   174                                                               _ = '<callsite {}.{}>'.format(measurement.attrib['s'], measurement.attrib['i'])\n",
      "   175                                                               new_location = (*location, _)\n",
      "   176      3718       2229.0      0.6      0.2              elif measurement.tag == 'S':\n",
      "   177      2407       2713.0      1.1      0.3                  _ = '<statement {}>'.format(measurement.attrib['s'])\n",
      "   178      2407       2155.0      0.9      0.2                  new_location = (*location, _)\n",
      "   179      1311        787.0      0.6      0.1              elif measurement.tag == 'L':\n",
      "   180      1311       1581.0      1.2      0.2                  _ = '<loop {}.{}>'.format(measurement.attrib['s'], measurement.attrib['i'])\n",
      "   181      1311       1172.0      0.9      0.1                  new_location = (*location, _)\n",
      "   182                                                       else:\n",
      "   183                                                           raise NotImplementedError(\n",
      "   184                                                               (measurement.tag, measurement.attrib, [_ for _ in measurement]))\n",
      "   185      8298       5571.0      0.7      0.6              rows += self._add_measurements(measurement, new_location,\n",
      "   186      8298       5878.0      0.7      0.6                                             depth=depth + 1, add_local=add_local)\n",
      "   187                                           \n",
      "   188      8299       4223.0      0.5      0.4          return rows\n",
      "\n",
      "Total time: 0.002304 s\n",
      "File: /nfs2/mbysiek/Projects/docker-transpyle-flash/hpctoolkit_dataframe.py\n",
      "Function: _fix_root_measurement at line 190\n",
      "\n",
      "Line #      Hits         Time  Per Hit   % Time  Line Contents\n",
      "==============================================================\n",
      "   190                                               def _fix_root_measurement(self):\n",
      "   191                                                   selected_columns = [\n",
      "   192         1          0.0      0.0      0.0              r'CPUTIME (usec):Sum ({})', r'CPUTIME (usec):Mean ({})',\n",
      "   193         1          1.0      1.0      0.0              r'CPUTIME (usec):Min ({})', r'CPUTIME (usec):Max ({})', r'CPUTIME (usec):StdDev ({})']\n",
      "   194         6          3.0      0.5      0.1          for column in selected_columns:\n",
      "   195         5       2300.0    460.0     99.8              self.at['()', column.format('E')] = self.at['()', column.format('I')]\n",
      "\n",
      "Total time: 5.94241 s\n",
      "File: /nfs2/mbysiek/Projects/docker-transpyle-flash/hpctoolkit_dataframe.py\n",
      "Function: _add_percentage_columns at line 197\n",
      "\n",
      "Line #      Hits         Time  Per Hit   % Time  Line Contents\n",
      "==============================================================\n",
      "   197                                               def _add_percentage_columns(self, base_columns: t.Dict[str, str] = None) -> None:\n",
      "   198         1          1.0      1.0      0.0          if base_columns is None:\n",
      "   199                                                       base_columns = (\n",
      "   200         1          0.0      0.0      0.0                  ('CPUTIME (usec):Mean (I)', 'total'), ('CPUTIME (usec):Mean (I)', 'parent'))\n",
      "   201         3          5.0      1.7      0.0          for base_column, method in base_columns:\n",
      "   202         2          1.0      0.5      0.0              self._add_percentage_column(\n",
      "   203         2    5942404.0 2971202.0    100.0                  base_column, '{} ratio of {}'.format(base_column, method), method)\n",
      "\n",
      "Total time: 5.8889 s\n",
      "File: /nfs2/mbysiek/Projects/docker-transpyle-flash/hpctoolkit_dataframe.py\n",
      "Function: _add_percentage_column at line 205\n",
      "\n",
      "Line #      Hits         Time  Per Hit   % Time  Line Contents\n",
      "==============================================================\n",
      "   205                                               def _add_percentage_column(self, base_column: str, column_name: str, method: str) -> None:\n",
      "   206         2         50.0     25.0      0.0          assert base_column in self.columns, base_column\n",
      "   207         2          9.0      4.5      0.0          column_index = self.columns.get_loc(base_column) + 1\n",
      "   208         2       2527.0   1263.5      0.0          simple_self = self[[base_column, 'location']]\n",
      "   209         2          2.0      1.0      0.0          if method == 'total':\n",
      "   210         1       1085.0   1085.0      0.0              filtered = simple_self.loc[['()']]\n",
      "   211         1        117.0    117.0      0.0              total = filtered[base_column].item()\n",
      "   212         1     852398.0 852398.0     14.5              data = [row.at[base_column] / total for _, row in simple_self.iterrows()]\n",
      "   213                                                   else:\n",
      "   214         1          1.0      1.0      0.0              assert method == 'parent'\n",
      "   215         1          0.0      0.0      0.0              data = []\n",
      "   216         1          1.0      1.0      0.0              _cache = {}\n",
      "   217      6273     789601.0    125.9     13.4              for _, row in simple_self.iterrows():\n",
      "   218      6272     178282.0     28.4      3.0                  value = row.at[base_column]\n",
      "   219      6272     137725.0     22.0      2.3                  base_location = row.at['location']\n",
      "   220      6272       4164.0      0.7      0.1                  base = None\n",
      "   221     10065       7275.0      0.7      0.1                  while base is None or base < value:\n",
      "   222      6272       6083.0      1.0      0.1                      base_location = base_location[:-1]\n",
      "   223      6272       5805.0      0.9      0.1                      if base_location in _cache:\n",
      "   224      2479       1941.0      0.8      0.0                          base = _cache[base_location]\n",
      "   225      2479       1455.0      0.6      0.0                          break\n",
      "   226      3793       1942.0      0.5      0.0                      try:\n",
      "   227      3793    3554027.0    937.0     60.4                          filtered = simple_self.loc[[str(base_location)]]\n",
      "   228                                                               except KeyError:\n",
      "   229                                                                   _LOG.exception('no measurements for location %s', base_location)\n",
      "   230                                                                   continue\n",
      "   231      3793      10324.0      2.7      0.2                      assert len(filtered) == 1, \\\n",
      "   232                                                                   (base_column, row.at['location'], base_location, filtered)\n",
      "   233      3793     320567.0     84.5      5.4                      base = filtered[base_column].item()\n",
      "   234      3793       4634.0      1.2      0.1                      _cache[base_location] = base\n",
      "   235      6272       6721.0      1.1      0.1                  data.append(value / base)\n",
      "   236         1        233.0    233.0      0.0              del _cache\n",
      "   237         2       1934.0    967.0      0.0          self.insert(column_index, column_name, data)\n",
      "\n",
      "Total time: 0.001506 s\n",
      "File: /nfs2/mbysiek/Projects/docker-transpyle-flash/hpctoolkit_dataframe.py\n",
      "Function: select_basic at line 246\n",
      "\n",
      "Line #      Hits         Time  Per Hit   % Time  Line Contents\n",
      "==============================================================\n",
      "   246                                               def select_basic(self, category: str) -> pd.DataFrame:\n",
      "   247                                                   selected_columns = [\n",
      "   248         1          1.0      1.0      0.1              r'CPUTIME (usec):Mean ({})',\n",
      "   249         1          1.0      1.0      0.1              r'CPUTIME (usec):Mean ({}) ratio of total', r'CPUTIME (usec):Mean ({}) ratio of parent',\n",
      "   250         1          1.0      1.0      0.1              r'CPUTIME (usec):Min ({})', r'CPUTIME (usec):Max ({})', r'CPUTIME (usec):StdDev ({})']\n",
      "   251         1          7.0      7.0      0.5          selected_columns = [_.format(category) for _ in selected_columns]\n",
      "   252         1       1496.0   1496.0     99.3          return self[selected_columns]\n",
      "\n",
      "Total time: 2.50316 s\n",
      "File: /nfs2/mbysiek/Projects/docker-transpyle-flash/hpctoolkit_dataframe.py\n",
      "Function: at_paths at line 262\n",
      "\n",
      "Line #      Hits         Time  Per Hit   % Time  Line Contents\n",
      "==============================================================\n",
      "   262                                               def at_paths(self, *fragments, prefix: tuple = (), suffix: tuple = ()) -> pd.DataFrame:\n",
      "   263        19    2491237.0 131117.7     99.5          mask = self.apply(_location_filter, axis=1, args=(fragments, prefix, suffix))\n",
      "   264        19      11922.0    627.5      0.5          return self[mask]\n",
      "\n",
      "Total time: 1.46895 s\n",
      "File: /nfs2/mbysiek/Projects/docker-transpyle-flash/hpctoolkit_dataframe.py\n",
      "Function: at_depths at line 266\n",
      "\n",
      "Line #      Hits         Time  Per Hit   % Time  Line Contents\n",
      "==============================================================\n",
      "   266                                               def at_depths(self, min_depth: t.Optional[int] = None,\n",
      "   267                                                             max_depth: t.Optional[int] = None) -> pd.DataFrame:\n",
      "   268        19    1460236.0  76854.5     99.4          mask = self.apply(_depth_filter, axis=1, args=(min_depth, max_depth))\n",
      "   269        19       8711.0    458.5      0.6          return self[mask]\n",
      "\n",
      "Total time: 1.46906 s\n",
      "File: /nfs2/mbysiek/Projects/docker-transpyle-flash/hpctoolkit_dataframe.py\n",
      "Function: at_depth at line 271\n",
      "\n",
      "Line #      Hits         Time  Per Hit   % Time  Line Contents\n",
      "==============================================================\n",
      "   271                                               def at_depth(self, depth: int) -> pd.DataFrame:\n",
      "   272        19    1469056.0  77318.7    100.0          return self.at_depths(depth, depth)\n",
      "\n",
      "Total time: 3.99109 s\n",
      "File: /nfs2/mbysiek/Projects/docker-transpyle-flash/hpctoolkit_dataframe.py\n",
      "Function: hot_path at line 274\n",
      "\n",
      "Line #      Hits         Time  Per Hit   % Time  Line Contents\n",
      "==============================================================\n",
      "   274                                               def hot_path(self, location: tuple = (), threshold: int = 0.05) -> pd.DataFrame:\n",
      "   275         1          1.0      1.0      0.0          base_column = 'CPUTIME (usec):Mean (I) ratio of total'\n",
      "   276         1       2123.0   2123.0      0.1          simple_self = self[[base_column, 'location']]\n",
      "   277         1          1.0      1.0      0.0          hot_locations = []\n",
      "   278                                           \n",
      "   279         1          1.0      1.0      0.0          while True:\n",
      "   280        19         24.0      1.3      0.0              hot_locations.append(location)\n",
      "   281                                           \n",
      "   282        19    2503583.0 131767.5     62.7              simple_self = simple_self.at_paths(prefix=location)\n",
      "   283        19        174.0      9.2      0.0              _LOG.debug('%i at target location', len(simple_self))\n",
      "   284        19    1469193.0  77325.9     36.8              at_depth = simple_self.at_depth(len(location) + 1)\n",
      "   285        19        169.0      8.9      0.0              _LOG.debug('%i at depth %i', len(at_depth), len(location) + 1)\n",
      "   286                                           \n",
      "   287        19        191.0     10.1      0.0              if at_depth.empty:\n",
      "   288         1          1.0      1.0      0.0                  break\n",
      "   289                                           \n",
      "   290        18       3835.0    213.1      0.1              hottest_index = at_depth[base_column].idxmax()\n",
      "   291        18       9237.0    513.2      0.2              hottest_row = simple_self.loc[hottest_index]\n",
      "   292        18        541.0     30.1      0.0              location = hottest_row.at['location']\n",
      "   293        18        410.0     22.8      0.0              if hottest_row.at[base_column] < threshold:\n",
      "   294                                                           break\n",
      "   295                                           \n",
      "   296         1       1611.0   1611.0      0.0          return self[self.location.isin(hot_locations)]\n",
      "\n"
     ]
    }
   ],
   "source": [
    "profiler.print_stats()"
   ]
  },
  {
   "cell_type": "code",
   "execution_count": 13,
   "metadata": {},
   "outputs": [
    {
     "data": {
      "text/html": [
       "<div>\n",
       "<style scoped>\n",
       "    .dataframe tbody tr th:only-of-type {\n",
       "        vertical-align: middle;\n",
       "    }\n",
       "\n",
       "    .dataframe tbody tr th {\n",
       "        vertical-align: top;\n",
       "    }\n",
       "\n",
       "    .dataframe thead th {\n",
       "        text-align: right;\n",
       "    }\n",
       "</style>\n",
       "<table border=\"1\" class=\"dataframe\">\n",
       "  <thead>\n",
       "    <tr style=\"text-align: right;\">\n",
       "      <th></th>\n",
       "      <th>CPUTIME (usec):Mean (I)</th>\n",
       "      <th>CPUTIME (usec):Mean (I) ratio of total</th>\n",
       "      <th>CPUTIME (usec):Mean (I) ratio of parent</th>\n",
       "    </tr>\n",
       "  </thead>\n",
       "  <tbody>\n",
       "    <tr>\n",
       "      <th>()</th>\n",
       "      <td>19555620.0</td>\n",
       "      <td>1.000000</td>\n",
       "      <td>1.000000</td>\n",
       "    </tr>\n",
       "    <tr>\n",
       "      <th>('&lt;program root&gt;.6',)</th>\n",
       "      <td>19542820.0</td>\n",
       "      <td>0.999345</td>\n",
       "      <td>0.999345</td>\n",
       "    </tr>\n",
       "    <tr>\n",
       "      <th>('&lt;program root&gt;.6', 'main.8')</th>\n",
       "      <td>19542820.0</td>\n",
       "      <td>0.999345</td>\n",
       "      <td>1.000000</td>\n",
       "    </tr>\n",
       "    <tr>\n",
       "      <th>('&lt;program root&gt;.6', 'main.8', 'driver_evolveflash_.1004')</th>\n",
       "      <td>19218840.0</td>\n",
       "      <td>0.982778</td>\n",
       "      <td>0.983422</td>\n",
       "    </tr>\n",
       "    <tr>\n",
       "      <th>('&lt;program root&gt;.6', 'main.8', 'driver_evolveflash_.1004', '&lt;loop 460.1436&gt;')</th>\n",
       "      <td>19180260.0</td>\n",
       "      <td>0.980806</td>\n",
       "      <td>0.997993</td>\n",
       "    </tr>\n",
       "    <tr>\n",
       "      <th>('&lt;program root&gt;.6', 'main.8', 'driver_evolveflash_.1004', '&lt;loop 460.1436&gt;', 'hydro_.4266')</th>\n",
       "      <td>16446600.0</td>\n",
       "      <td>0.841017</td>\n",
       "      <td>0.857475</td>\n",
       "    </tr>\n",
       "    <tr>\n",
       "      <th>('&lt;program root&gt;.6', 'main.8', 'driver_evolveflash_.1004', '&lt;loop 460.1436&gt;', 'hydro_.4266', 'hy_advance_.5235')</th>\n",
       "      <td>12673020.0</td>\n",
       "      <td>0.648050</td>\n",
       "      <td>0.770556</td>\n",
       "    </tr>\n",
       "    <tr>\n",
       "      <th>('&lt;program root&gt;.6', 'main.8', 'driver_evolveflash_.1004', '&lt;loop 460.1436&gt;', 'hydro_.4266', 'hy_advance_.5235', '&lt;loop 6622.5443&gt;')</th>\n",
       "      <td>12300100.0</td>\n",
       "      <td>0.628980</td>\n",
       "      <td>0.970574</td>\n",
       "    </tr>\n",
       "    <tr>\n",
       "      <th>('&lt;program root&gt;.6', 'main.8', 'driver_evolveflash_.1004', '&lt;loop 460.1436&gt;', 'hydro_.4266', 'hy_advance_.5235', '&lt;loop 6622.5443&gt;', 'hy_computefluxes_.5445')</th>\n",
       "      <td>12288460.0</td>\n",
       "      <td>0.628385</td>\n",
       "      <td>0.999054</td>\n",
       "    </tr>\n",
       "    <tr>\n",
       "      <th>('&lt;program root&gt;.6', 'main.8', 'driver_evolveflash_.1004', '&lt;loop 460.1436&gt;', 'hydro_.4266', 'hy_advance_.5235', '&lt;loop 6622.5443&gt;', 'hy_computefluxes_.5445', 'hy_getriemannstate_.6548')</th>\n",
       "      <td>9489420.0</td>\n",
       "      <td>0.485253</td>\n",
       "      <td>0.772222</td>\n",
       "    </tr>\n",
       "    <tr>\n",
       "      <th>('&lt;program root&gt;.6', 'main.8', 'driver_evolveflash_.1004', '&lt;loop 460.1436&gt;', 'hydro_.4266', 'hy_advance_.5235', '&lt;loop 6622.5443&gt;', 'hy_computefluxes_.5445', 'hy_getriemannstate_.6548', '&lt;loop 6882.6621&gt;')</th>\n",
       "      <td>9456260.0</td>\n",
       "      <td>0.483557</td>\n",
       "      <td>0.996506</td>\n",
       "    </tr>\n",
       "    <tr>\n",
       "      <th>('&lt;program root&gt;.6', 'main.8', 'driver_evolveflash_.1004', '&lt;loop 460.1436&gt;', 'hydro_.4266', 'hy_advance_.5235', '&lt;loop 6622.5443&gt;', 'hy_computefluxes_.5445', 'hy_getriemannstate_.6548', '&lt;loop 6882.6621&gt;', '&lt;loop 6884.6623&gt;')</th>\n",
       "      <td>9450980.0</td>\n",
       "      <td>0.483287</td>\n",
       "      <td>0.999442</td>\n",
       "    </tr>\n",
       "    <tr>\n",
       "      <th>('&lt;program root&gt;.6', 'main.8', 'driver_evolveflash_.1004', '&lt;loop 460.1436&gt;', 'hydro_.4266', 'hy_advance_.5235', '&lt;loop 6622.5443&gt;', 'hy_computefluxes_.5445', 'hy_getriemannstate_.6548', '&lt;loop 6882.6621&gt;', '&lt;loop 6884.6623&gt;', 'hy_datareconstonestep_.6701')</th>\n",
       "      <td>8700720.0</td>\n",
       "      <td>0.444922</td>\n",
       "      <td>0.920616</td>\n",
       "    </tr>\n",
       "    <tr>\n",
       "      <th>('&lt;program root&gt;.6', 'main.8', 'driver_evolveflash_.1004', '&lt;loop 460.1436&gt;', 'hydro_.4266', 'hy_advance_.5235', '&lt;loop 6622.5443&gt;', 'hy_computefluxes_.5445', 'hy_getriemannstate_.6548', '&lt;loop 6882.6621&gt;', '&lt;loop 6884.6623&gt;', 'hy_datareconstonestep_.6701', '&lt;loop 6698.7398&gt;')</th>\n",
       "      <td>7762320.0</td>\n",
       "      <td>0.396936</td>\n",
       "      <td>0.892147</td>\n",
       "    </tr>\n",
       "    <tr>\n",
       "      <th>('&lt;program root&gt;.6', 'main.8', 'driver_evolveflash_.1004', '&lt;loop 460.1436&gt;', 'hydro_.4266', 'hy_advance_.5235', '&lt;loop 6622.5443&gt;', 'hy_computefluxes_.5445', 'hy_getriemannstate_.6548', '&lt;loop 6882.6621&gt;', '&lt;loop 6884.6623&gt;', 'hy_datareconstonestep_.6701', '&lt;loop 6698.7398&gt;', 'hy_datareconstructnormaldir_ppm_.7400')</th>\n",
       "      <td>7615040.0</td>\n",
       "      <td>0.389404</td>\n",
       "      <td>0.981026</td>\n",
       "    </tr>\n",
       "    <tr>\n",
       "      <th>('&lt;program root&gt;.6', 'main.8', 'driver_evolveflash_.1004', '&lt;loop 460.1436&gt;', 'hydro_.4266', 'hy_advance_.5235', '&lt;loop 6622.5443&gt;', 'hy_computefluxes_.5445', 'hy_getriemannstate_.6548', '&lt;loop 6882.6621&gt;', '&lt;loop 6884.6623&gt;', 'hy_datareconstonestep_.6701', '&lt;loop 6698.7398&gt;', 'hy_datareconstructnormaldir_ppm_.7400', 'hy_upwindtransverseflux_.7411')</th>\n",
       "      <td>1165760.0</td>\n",
       "      <td>0.059613</td>\n",
       "      <td>0.153087</td>\n",
       "    </tr>\n",
       "    <tr>\n",
       "      <th>('&lt;program root&gt;.6', 'main.8', 'driver_evolveflash_.1004', '&lt;loop 460.1436&gt;', 'hydro_.4266', 'hy_advance_.5235', '&lt;loop 6622.5443&gt;', 'hy_computefluxes_.5445', 'hy_getriemannstate_.6548', '&lt;loop 6882.6621&gt;', '&lt;loop 6884.6623&gt;', 'hy_datareconstonestep_.6701', '&lt;loop 6698.7398&gt;', 'hy_datareconstructnormaldir_ppm_.7400', 'hy_upwindtransverseflux_.7411', '&lt;loop 7190.7415&gt;')</th>\n",
       "      <td>1013498.0</td>\n",
       "      <td>0.051826</td>\n",
       "      <td>0.869388</td>\n",
       "    </tr>\n",
       "    <tr>\n",
       "      <th>('&lt;program root&gt;.6', 'main.8', 'driver_evolveflash_.1004', '&lt;loop 460.1436&gt;', 'hydro_.4266', 'hy_advance_.5235', '&lt;loop 6622.5443&gt;', 'hy_computefluxes_.5445', 'hy_getriemannstate_.6548', '&lt;loop 6882.6621&gt;', '&lt;loop 6884.6623&gt;', 'hy_datareconstonestep_.6701', '&lt;loop 6698.7398&gt;', 'hy_datareconstructnormaldir_ppm_.7400', 'hy_upwindtransverseflux_.7411', '&lt;loop 7190.7415&gt;', '&lt;loop 7194.7419&gt;')</th>\n",
       "      <td>276674.0</td>\n",
       "      <td>0.014148</td>\n",
       "      <td>0.272989</td>\n",
       "    </tr>\n",
       "    <tr>\n",
       "      <th>('&lt;program root&gt;.6', 'main.8', 'driver_evolveflash_.1004', '&lt;loop 460.1436&gt;', 'hydro_.4266', 'hy_advance_.5235', '&lt;loop 6622.5443&gt;', 'hy_computefluxes_.5445', 'hy_getriemannstate_.6548', '&lt;loop 6882.6621&gt;', '&lt;loop 6884.6623&gt;', 'hy_datareconstonestep_.6701', '&lt;loop 6698.7398&gt;', 'hy_datareconstructnormaldir_ppm_.7400', 'hy_upwindtransverseflux_.7411', '&lt;loop 7190.7415&gt;', '&lt;loop 7194.7419&gt;', '&lt;statement 7195&gt;')</th>\n",
       "      <td>276674.0</td>\n",
       "      <td>0.014148</td>\n",
       "      <td>1.000000</td>\n",
       "    </tr>\n",
       "  </tbody>\n",
       "</table>\n",
       "</div>"
      ],
      "text/plain": [
       "                                                    CPUTIME (usec):Mean (I)  \\\n",
       "()                                                               19555620.0   \n",
       "('<program root>.6',)                                            19542820.0   \n",
       "('<program root>.6', 'main.8')                                   19542820.0   \n",
       "('<program root>.6', 'main.8', 'driver_evolvefl...               19218840.0   \n",
       "('<program root>.6', 'main.8', 'driver_evolvefl...               19180260.0   \n",
       "('<program root>.6', 'main.8', 'driver_evolvefl...               16446600.0   \n",
       "('<program root>.6', 'main.8', 'driver_evolvefl...               12673020.0   \n",
       "('<program root>.6', 'main.8', 'driver_evolvefl...               12300100.0   \n",
       "('<program root>.6', 'main.8', 'driver_evolvefl...               12288460.0   \n",
       "('<program root>.6', 'main.8', 'driver_evolvefl...                9489420.0   \n",
       "('<program root>.6', 'main.8', 'driver_evolvefl...                9456260.0   \n",
       "('<program root>.6', 'main.8', 'driver_evolvefl...                9450980.0   \n",
       "('<program root>.6', 'main.8', 'driver_evolvefl...                8700720.0   \n",
       "('<program root>.6', 'main.8', 'driver_evolvefl...                7762320.0   \n",
       "('<program root>.6', 'main.8', 'driver_evolvefl...                7615040.0   \n",
       "('<program root>.6', 'main.8', 'driver_evolvefl...                1165760.0   \n",
       "('<program root>.6', 'main.8', 'driver_evolvefl...                1013498.0   \n",
       "('<program root>.6', 'main.8', 'driver_evolvefl...                 276674.0   \n",
       "('<program root>.6', 'main.8', 'driver_evolvefl...                 276674.0   \n",
       "\n",
       "                                                    CPUTIME (usec):Mean (I) ratio of total  \\\n",
       "()                                                                                1.000000   \n",
       "('<program root>.6',)                                                             0.999345   \n",
       "('<program root>.6', 'main.8')                                                    0.999345   \n",
       "('<program root>.6', 'main.8', 'driver_evolvefl...                                0.982778   \n",
       "('<program root>.6', 'main.8', 'driver_evolvefl...                                0.980806   \n",
       "('<program root>.6', 'main.8', 'driver_evolvefl...                                0.841017   \n",
       "('<program root>.6', 'main.8', 'driver_evolvefl...                                0.648050   \n",
       "('<program root>.6', 'main.8', 'driver_evolvefl...                                0.628980   \n",
       "('<program root>.6', 'main.8', 'driver_evolvefl...                                0.628385   \n",
       "('<program root>.6', 'main.8', 'driver_evolvefl...                                0.485253   \n",
       "('<program root>.6', 'main.8', 'driver_evolvefl...                                0.483557   \n",
       "('<program root>.6', 'main.8', 'driver_evolvefl...                                0.483287   \n",
       "('<program root>.6', 'main.8', 'driver_evolvefl...                                0.444922   \n",
       "('<program root>.6', 'main.8', 'driver_evolvefl...                                0.396936   \n",
       "('<program root>.6', 'main.8', 'driver_evolvefl...                                0.389404   \n",
       "('<program root>.6', 'main.8', 'driver_evolvefl...                                0.059613   \n",
       "('<program root>.6', 'main.8', 'driver_evolvefl...                                0.051826   \n",
       "('<program root>.6', 'main.8', 'driver_evolvefl...                                0.014148   \n",
       "('<program root>.6', 'main.8', 'driver_evolvefl...                                0.014148   \n",
       "\n",
       "                                                    CPUTIME (usec):Mean (I) ratio of parent  \n",
       "()                                                                                 1.000000  \n",
       "('<program root>.6',)                                                              0.999345  \n",
       "('<program root>.6', 'main.8')                                                     1.000000  \n",
       "('<program root>.6', 'main.8', 'driver_evolvefl...                                 0.983422  \n",
       "('<program root>.6', 'main.8', 'driver_evolvefl...                                 0.997993  \n",
       "('<program root>.6', 'main.8', 'driver_evolvefl...                                 0.857475  \n",
       "('<program root>.6', 'main.8', 'driver_evolvefl...                                 0.770556  \n",
       "('<program root>.6', 'main.8', 'driver_evolvefl...                                 0.970574  \n",
       "('<program root>.6', 'main.8', 'driver_evolvefl...                                 0.999054  \n",
       "('<program root>.6', 'main.8', 'driver_evolvefl...                                 0.772222  \n",
       "('<program root>.6', 'main.8', 'driver_evolvefl...                                 0.996506  \n",
       "('<program root>.6', 'main.8', 'driver_evolvefl...                                 0.999442  \n",
       "('<program root>.6', 'main.8', 'driver_evolvefl...                                 0.920616  \n",
       "('<program root>.6', 'main.8', 'driver_evolvefl...                                 0.892147  \n",
       "('<program root>.6', 'main.8', 'driver_evolvefl...                                 0.981026  \n",
       "('<program root>.6', 'main.8', 'driver_evolvefl...                                 0.153087  \n",
       "('<program root>.6', 'main.8', 'driver_evolvefl...                                 0.869388  \n",
       "('<program root>.6', 'main.8', 'driver_evolvefl...                                 0.272989  \n",
       "('<program root>.6', 'main.8', 'driver_evolvefl...                                 1.000000  "
      ]
     },
     "execution_count": 13,
     "metadata": {},
     "output_type": "execute_result"
    }
   ],
   "source": [
    "hot_path.compact"
   ]
  },
  {
   "cell_type": "markdown",
   "metadata": {},
   "source": [
    "### Profiling data access"
   ]
  },
  {
   "cell_type": "markdown",
   "metadata": {},
   "source": [
    "#### 1\n",
    "\n",
    "`DataFrame.loc[[str(...)]]` vs `DataFrame[DataFrame.col == ...]` vs `DataFrame[DataFrame['col'] == ...]`\n",
    "\n",
    "assuming that `DataFrame` is indexed by stringified column `col`"
   ]
  },
  {
   "cell_type": "code",
   "execution_count": 18,
   "metadata": {},
   "outputs": [
    {
     "name": "stdout",
     "output_type": "stream",
     "text": [
      "544 µs ± 20.8 µs per loop (mean ± std. dev. of 7 runs, 1000 loops each)\n"
     ]
    }
   ],
   "source": [
    "%%timeit\n",
    "\n",
    "df.loc[[str(())]]"
   ]
  },
  {
   "cell_type": "code",
   "execution_count": 19,
   "metadata": {},
   "outputs": [
    {
     "data": {
      "text/plain": [
       "hpctoolkit_dataframe.HPCtoolkitDataFrame"
      ]
     },
     "execution_count": 19,
     "metadata": {},
     "output_type": "execute_result"
    }
   ],
   "source": [
    "type(df.loc[[str(())]])"
   ]
  },
  {
   "cell_type": "code",
   "execution_count": 20,
   "metadata": {
    "scrolled": true
   },
   "outputs": [
    {
     "name": "stdout",
     "output_type": "stream",
     "text": [
      "804 µs ± 69.4 µs per loop (mean ± std. dev. of 7 runs, 1000 loops each)\n"
     ]
    }
   ],
   "source": [
    "%%timeit\n",
    "\n",
    "df[df.location == ()]"
   ]
  },
  {
   "cell_type": "code",
   "execution_count": 21,
   "metadata": {},
   "outputs": [
    {
     "data": {
      "text/plain": [
       "hpctoolkit_dataframe.HPCtoolkitDataFrame"
      ]
     },
     "execution_count": 21,
     "metadata": {},
     "output_type": "execute_result"
    }
   ],
   "source": [
    "type(df[df.location == ()])"
   ]
  },
  {
   "cell_type": "code",
   "execution_count": 22,
   "metadata": {},
   "outputs": [
    {
     "name": "stdout",
     "output_type": "stream",
     "text": [
      "739 µs ± 12.6 µs per loop (mean ± std. dev. of 7 runs, 1000 loops each)\n"
     ]
    }
   ],
   "source": [
    "%%timeit\n",
    "\n",
    "df[df['location'] == ()]"
   ]
  },
  {
   "cell_type": "markdown",
   "metadata": {},
   "source": [
    "#### 2\n",
    "\n",
    "`Series.at[...]` vs `Series.get(...)` vs `Series[...]`"
   ]
  },
  {
   "cell_type": "code",
   "execution_count": 23,
   "metadata": {},
   "outputs": [],
   "source": [
    "filtered = df.loc['()']"
   ]
  },
  {
   "cell_type": "code",
   "execution_count": 24,
   "metadata": {},
   "outputs": [
    {
     "data": {
      "text/plain": [
       "pandas.core.series.Series"
      ]
     },
     "execution_count": 24,
     "metadata": {},
     "output_type": "execute_result"
    }
   ],
   "source": [
    "type(filtered)"
   ]
  },
  {
   "cell_type": "code",
   "execution_count": 25,
   "metadata": {},
   "outputs": [
    {
     "name": "stdout",
     "output_type": "stream",
     "text": [
      "133 µs ± 1.29 µs per loop (mean ± std. dev. of 7 runs, 10000 loops each)\n"
     ]
    }
   ],
   "source": [
    "%%timeit\n",
    "\n",
    "df.loc['()']"
   ]
  },
  {
   "cell_type": "code",
   "execution_count": 26,
   "metadata": {},
   "outputs": [
    {
     "name": "stdout",
     "output_type": "stream",
     "text": [
      "8.31 µs ± 59.8 ns per loop (mean ± std. dev. of 7 runs, 100000 loops each)\n"
     ]
    }
   ],
   "source": [
    "%%timeit\n",
    "\n",
    "filtered.at['location']"
   ]
  },
  {
   "cell_type": "code",
   "execution_count": 27,
   "metadata": {},
   "outputs": [
    {
     "data": {
      "text/plain": [
       "tuple"
      ]
     },
     "execution_count": 27,
     "metadata": {},
     "output_type": "execute_result"
    }
   ],
   "source": [
    "type(filtered.at['location'])"
   ]
  },
  {
   "cell_type": "code",
   "execution_count": 28,
   "metadata": {},
   "outputs": [
    {
     "name": "stdout",
     "output_type": "stream",
     "text": [
      "9.68 µs ± 115 ns per loop (mean ± std. dev. of 7 runs, 100000 loops each)\n"
     ]
    }
   ],
   "source": [
    "%%timeit\n",
    "\n",
    "filtered.get('location')"
   ]
  },
  {
   "cell_type": "code",
   "execution_count": 29,
   "metadata": {},
   "outputs": [
    {
     "data": {
      "text/plain": [
       "tuple"
      ]
     },
     "execution_count": 29,
     "metadata": {},
     "output_type": "execute_result"
    }
   ],
   "source": [
    "type(filtered.get('location'))"
   ]
  },
  {
   "cell_type": "code",
   "execution_count": 30,
   "metadata": {},
   "outputs": [
    {
     "name": "stdout",
     "output_type": "stream",
     "text": [
      "9.48 µs ± 34.1 ns per loop (mean ± std. dev. of 7 runs, 100000 loops each)\n"
     ]
    }
   ],
   "source": [
    "%%timeit\n",
    "\n",
    "filtered['location']"
   ]
  },
  {
   "cell_type": "code",
   "execution_count": 31,
   "metadata": {},
   "outputs": [
    {
     "data": {
      "text/plain": [
       "tuple"
      ]
     },
     "execution_count": 31,
     "metadata": {},
     "output_type": "execute_result"
    }
   ],
   "source": [
    "type(filtered['location'])"
   ]
  },
  {
   "cell_type": "markdown",
   "metadata": {},
   "source": [
    "#### 3\n",
    "\n",
    "`DataFrame.at['index', 'col']` vs `DataFrame.get('col').item()` vs `DataFrame['col'].item()`\n",
    "\n",
    "assuming that `Dataframe` contains only one row (indexed as `'index'`)"
   ]
  },
  {
   "cell_type": "code",
   "execution_count": 32,
   "metadata": {},
   "outputs": [],
   "source": [
    "filtered = df.loc[['()']]"
   ]
  },
  {
   "cell_type": "code",
   "execution_count": 33,
   "metadata": {},
   "outputs": [
    {
     "data": {
      "text/plain": [
       "hpctoolkit_dataframe.HPCtoolkitDataFrame"
      ]
     },
     "execution_count": 33,
     "metadata": {},
     "output_type": "execute_result"
    }
   ],
   "source": [
    "type(filtered)"
   ]
  },
  {
   "cell_type": "code",
   "execution_count": 34,
   "metadata": {},
   "outputs": [
    {
     "name": "stdout",
     "output_type": "stream",
     "text": [
      "526 µs ± 5.13 µs per loop (mean ± std. dev. of 7 runs, 1000 loops each)\n"
     ]
    }
   ],
   "source": [
    "%%timeit\n",
    "\n",
    "df.loc[['()']]"
   ]
  },
  {
   "cell_type": "code",
   "execution_count": 35,
   "metadata": {},
   "outputs": [
    {
     "name": "stdout",
     "output_type": "stream",
     "text": [
      "3.92 µs ± 40.4 ns per loop (mean ± std. dev. of 7 runs, 100000 loops each)\n"
     ]
    }
   ],
   "source": [
    "%%timeit\n",
    "\n",
    "filtered.at['()', 'location']"
   ]
  },
  {
   "cell_type": "code",
   "execution_count": 36,
   "metadata": {},
   "outputs": [
    {
     "data": {
      "text/plain": [
       "tuple"
      ]
     },
     "execution_count": 36,
     "metadata": {},
     "output_type": "execute_result"
    }
   ],
   "source": [
    "type(filtered.at['()', 'location'])"
   ]
  },
  {
   "cell_type": "code",
   "execution_count": 37,
   "metadata": {},
   "outputs": [
    {
     "name": "stdout",
     "output_type": "stream",
     "text": [
      "2.56 µs ± 49.1 ns per loop (mean ± std. dev. of 7 runs, 100000 loops each)\n"
     ]
    }
   ],
   "source": [
    "%%timeit\n",
    "\n",
    "filtered.get('location').item()"
   ]
  },
  {
   "cell_type": "code",
   "execution_count": 38,
   "metadata": {},
   "outputs": [
    {
     "data": {
      "text/plain": [
       "tuple"
      ]
     },
     "execution_count": 38,
     "metadata": {},
     "output_type": "execute_result"
    }
   ],
   "source": [
    "type(filtered.get('location').item())"
   ]
  },
  {
   "cell_type": "code",
   "execution_count": 39,
   "metadata": {},
   "outputs": [
    {
     "name": "stdout",
     "output_type": "stream",
     "text": [
      "2.38 µs ± 33.3 ns per loop (mean ± std. dev. of 7 runs, 100000 loops each)\n"
     ]
    }
   ],
   "source": [
    "%%timeit\n",
    "\n",
    "filtered['location'].item()"
   ]
  },
  {
   "cell_type": "code",
   "execution_count": 40,
   "metadata": {
    "scrolled": true
   },
   "outputs": [
    {
     "data": {
      "text/plain": [
       "tuple"
      ]
     },
     "execution_count": 40,
     "metadata": {},
     "output_type": "execute_result"
    }
   ],
   "source": [
    "type(filtered['location'].item())"
   ]
  }
 ],
 "metadata": {
  "kernelspec": {
   "display_name": "Python 3",
   "language": "python",
   "name": "python3"
  },
  "language_info": {
   "codemirror_mode": {
    "name": "ipython",
    "version": 3
   },
   "file_extension": ".py",
   "mimetype": "text/x-python",
   "name": "python",
   "nbconvert_exporter": "python",
   "pygments_lexer": "ipython3",
   "version": "3.6.6"
  }
 },
 "nbformat": 4,
 "nbformat_minor": 2
}
