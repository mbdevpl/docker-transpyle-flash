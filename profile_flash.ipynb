{
 "cells": [
  {
   "cell_type": "markdown",
   "metadata": {},
   "source": [
    "# Profiling FLASH"
   ]
  },
  {
   "cell_type": "markdown",
   "metadata": {},
   "source": [
    "initialization, import all required modules"
   ]
  },
  {
   "cell_type": "code",
   "execution_count": 1,
   "metadata": {
    "scrolled": true
   },
   "outputs": [],
   "source": [
    "import datetime\n",
    "import itertools\n",
    "import logging\n",
    "import os\n",
    "import pathlib\n",
    "import pprint\n",
    "import re\n",
    "import shutil\n",
    "import subprocess\n",
    "import sys\n",
    "import typing as t\n",
    "\n",
    "import git\n",
    "import pandas as pd"
   ]
  },
  {
   "cell_type": "code",
   "execution_count": 2,
   "metadata": {},
   "outputs": [],
   "source": [
    "logging.basicConfig(level=logging.WARNING)\n",
    "\n",
    "_LOG = logging.getLogger('profile_flash')"
   ]
  },
  {
   "cell_type": "code",
   "execution_count": 3,
   "metadata": {},
   "outputs": [
    {
     "data": {
      "text/plain": [
       "(PosixPath('/nfs2/mbysiek/Projects/docker-transpyle-flash'),\n",
       " PosixPath('/nfs2/mbysiek/Projects/docker-transpyle-flash/results'))"
      ]
     },
     "execution_count": 3,
     "metadata": {},
     "output_type": "execute_result"
    }
   ],
   "source": [
    "try:\n",
    "    _HERE = pathlib.Path(__file__).parent.resolve()\n",
    "except NameError:\n",
    "    _HERE = pathlib.Path(os.getcwd()).resolve()\n",
    "\n",
    "_RESULTS_ROOT = pathlib.Path(_HERE, 'results')\n",
    "\n",
    "_HERE, _RESULTS_ROOT"
   ]
  },
  {
   "cell_type": "markdown",
   "metadata": {},
   "source": [
    "check if the envvars are properly set"
   ]
  },
  {
   "cell_type": "code",
   "execution_count": 4,
   "metadata": {},
   "outputs": [
    {
     "data": {
      "text/plain": [
       "('/nfs2/mbysiek/Software/Spack/opt/spack/linux-ubuntu14.04-x86_64/gcc-8.2.0/hpctoolkit-master-wxx6jn7xuoo7lzqhg7kwxx4xl2nrlooc/include:/nfs2/mbysiek/Software/Spack/opt/spack/linux-ubuntu14.04-x86_64/gcc-8.2.0/papi-5.6.0-5p5d3qi2imn6m3szyl47gj73dpixhxpf/include:/nfs2/mbysiek/Software/Spack/opt/spack/linux-ubuntu14.04-x86_64/gcc-8.2.0/gcc-8.2.0-35mxytud35rkqxpuwxalsxp5s3gqq23f/include:/nfs2/mbysiek/Software/Spack/opt/spack/linux-ubuntu14.04-x86_64/gcc-8.2.0/mpc-1.1.0-lfad2lpghnhcljoohbmyz4iznbldjxte/include:/nfs2/mbysiek/Software/Spack/opt/spack/linux-ubuntu14.04-x86_64/gcc-8.2.0/mpfr-4.0.1-baptjiihukqeehfh7a3ecoualvmw4jtu/include:/nfs2/mbysiek/Software/Spack/opt/spack/linux-ubuntu14.04-x86_64/gcc-8.2.0/isl-0.19-j2nkr2ed5lm3cngy5zamecra6vw6fyks/include:/nfs2/mbysiek/Software/Spack/opt/spack/linux-ubuntu14.04-x86_64/gcc-8.2.0/gmp-6.1.2-2ii23bc4vfcihjejzkzw5k53sr7e5sum/include:/nfs2/mbysiek/Software/Spack/opt/spack/linux-ubuntu14.04-x86_64/gcc-8.2.0/superlu-5.2.1-bz4ai7ydn6puimqffcglkl7ky5mwsmq4/include:/nfs2/mbysiek/Software/Spack/opt/spack/linux-ubuntu14.04-x86_64/gcc-8.2.0/amrex-18.08.1-crdvjfdihxbjlam4swf2jzopgjv3dopv/include:/nfs2/mbysiek/Software/Spack/opt/spack/linux-ubuntu14.04-x86_64/gcc-8.2.0/hypre-2.14.0-vea6lmriirgjzt4o6j4zxw2xbunynfs6/include:/nfs2/mbysiek/Software/Spack/opt/spack/linux-ubuntu14.04-x86_64/gcc-8.2.0/openblas-0.3.2-femnsy3tmxlxehbgrk4yd4gmig2zjsle/include:/nfs2/mbysiek/Software/Spack/opt/spack/linux-ubuntu14.04-x86_64/gcc-8.2.0/hdf5-1.8.20-p357p5eclyvy4vpqaownurdkn3mxv56v/include:/nfs2/mbysiek/Software/Spack/opt/spack/linux-ubuntu14.04-x86_64/gcc-8.2.0/zlib-1.2.11-z7cqiqbuz4k4x4ideyvz3syxata5g5gd/include:/nfs2/mbysiek/Software/Spack/opt/spack/linux-ubuntu14.04-x86_64/gcc-8.2.0/numactl-2.0.11-nawuf6bcuc5wuk7t5oncoltovb532qba/include:/nfs2/mbysiek/Software/Spack/opt/spack/linux-ubuntu14.04-x86_64/gcc-8.2.0/mpich-3.2.1-efty7pv4gu35zwzq2h2toqy4a2ou7qei/include:/nfs2/mbysiek/Software/Spack/opt/spack/linux-ubuntu14.04-x86_64/gcc-8.2.0/libszip-2.1.1-lypubweatvk73d4xhakqqowflfabj4g2/include:/homes/mbysiek/.local/include/python3.6m',\n",
       " '/nfs2/mbysiek/Software/Spack/opt/spack/linux-ubuntu14.04-x86_64/gcc-8.2.0/hpctoolkit-master-wxx6jn7xuoo7lzqhg7kwxx4xl2nrlooc/lib:/nfs2/mbysiek/Software/Spack/opt/spack/linux-ubuntu14.04-x86_64/gcc-8.2.0/papi-5.6.0-5p5d3qi2imn6m3szyl47gj73dpixhxpf/lib:/nfs2/mbysiek/Software/Spack/opt/spack/linux-ubuntu14.04-x86_64/gcc-8.2.0/gcc-8.2.0-35mxytud35rkqxpuwxalsxp5s3gqq23f/lib64:/nfs2/mbysiek/Software/Spack/opt/spack/linux-ubuntu14.04-x86_64/gcc-8.2.0/gcc-8.2.0-35mxytud35rkqxpuwxalsxp5s3gqq23f/lib:/nfs2/mbysiek/Software/Spack/opt/spack/linux-ubuntu14.04-x86_64/gcc-8.2.0/mpc-1.1.0-lfad2lpghnhcljoohbmyz4iznbldjxte/lib:/nfs2/mbysiek/Software/Spack/opt/spack/linux-ubuntu14.04-x86_64/gcc-8.2.0/mpfr-4.0.1-baptjiihukqeehfh7a3ecoualvmw4jtu/lib:/nfs2/mbysiek/Software/Spack/opt/spack/linux-ubuntu14.04-x86_64/gcc-8.2.0/isl-0.19-j2nkr2ed5lm3cngy5zamecra6vw6fyks/lib:/nfs2/mbysiek/Software/Spack/opt/spack/linux-ubuntu14.04-x86_64/gcc-8.2.0/gmp-6.1.2-2ii23bc4vfcihjejzkzw5k53sr7e5sum/lib:/nfs2/mbysiek/Software/Spack/opt/spack/linux-ubuntu14.04-x86_64/gcc-8.2.0/superlu-5.2.1-bz4ai7ydn6puimqffcglkl7ky5mwsmq4/lib:/nfs2/mbysiek/Software/Spack/opt/spack/linux-ubuntu14.04-x86_64/gcc-8.2.0/amrex-18.08.1-crdvjfdihxbjlam4swf2jzopgjv3dopv/lib:/nfs2/mbysiek/Software/Spack/opt/spack/linux-ubuntu14.04-x86_64/gcc-8.2.0/hypre-2.14.0-vea6lmriirgjzt4o6j4zxw2xbunynfs6/lib:/nfs2/mbysiek/Software/Spack/opt/spack/linux-ubuntu14.04-x86_64/gcc-8.2.0/openblas-0.3.2-femnsy3tmxlxehbgrk4yd4gmig2zjsle/lib:/nfs2/mbysiek/Software/Spack/opt/spack/linux-ubuntu14.04-x86_64/gcc-8.2.0/hdf5-1.8.20-p357p5eclyvy4vpqaownurdkn3mxv56v/lib:/nfs2/mbysiek/Software/Spack/opt/spack/linux-ubuntu14.04-x86_64/gcc-8.2.0/zlib-1.2.11-z7cqiqbuz4k4x4ideyvz3syxata5g5gd/lib:/nfs2/mbysiek/Software/Spack/opt/spack/linux-ubuntu14.04-x86_64/gcc-8.2.0/numactl-2.0.11-nawuf6bcuc5wuk7t5oncoltovb532qba/lib:/nfs2/mbysiek/Software/Spack/opt/spack/linux-ubuntu14.04-x86_64/gcc-8.2.0/mpich-3.2.1-efty7pv4gu35zwzq2h2toqy4a2ou7qei/lib:/nfs2/mbysiek/Software/Spack/opt/spack/linux-ubuntu14.04-x86_64/gcc-8.2.0/libszip-2.1.1-lypubweatvk73d4xhakqqowflfabj4g2/lib',\n",
       " '/nfs2/mbysiek/Software/Spack/opt/spack/linux-ubuntu14.04-x86_64/gcc-8.2.0/hpctoolkit-master-wxx6jn7xuoo7lzqhg7kwxx4xl2nrlooc/bin/hpcrun')"
      ]
     },
     "execution_count": 4,
     "metadata": {},
     "output_type": "execute_result"
    }
   ],
   "source": [
    "os.environ['CPATH'], os.environ['LD_LIBRARY_PATH'], shutil.which('hpcrun')"
   ]
  },
  {
   "cell_type": "markdown",
   "metadata": {},
   "source": [
    "import profiling framework implementation"
   ]
  },
  {
   "cell_type": "code",
   "execution_count": 5,
   "metadata": {},
   "outputs": [],
   "source": [
    "import profiling_flash\n",
    "from profiling_flash import profile_experiment, date_str, profile_path, profile_db_path"
   ]
  },
  {
   "cell_type": "code",
   "execution_count": 6,
   "metadata": {},
   "outputs": [],
   "source": [
    "import hpctoolkit_dataframe\n",
    "from hpctoolkit_dataframe import HPCtoolkitDataFrame"
   ]
  },
  {
   "cell_type": "code",
   "execution_count": 7,
   "metadata": {
    "scrolled": false
   },
   "outputs": [],
   "source": [
    "# logging.getLogger('hpctoolkit_dataframe').setLevel(logging.DEBUG)\n",
    "df = HPCtoolkitDataFrame(path=pathlib.Path(\n",
    "    '/homes/mbysiek/Projects/data/flash/hpctoolkit/hpctoolkit-flash4-database-4325594/experiment.xml'))"
   ]
  },
  {
   "cell_type": "code",
   "execution_count": 12,
   "metadata": {},
   "outputs": [
    {
     "data": {
      "text/plain": [
       "Index(['CPUTIME (usec):Sum (I)', 'CPUTIME (usec):Sum (I) ratio of parent',\n",
       "       'CPUTIME (usec):Sum (I) ratio of total', 'CPUTIME (usec):Sum (E)',\n",
       "       'callpath', 'module path', 'module', 'file path', 'file', 'line',\n",
       "       'procedure', 'id', 'type'],\n",
       "      dtype='object')"
      ]
     },
     "execution_count": 12,
     "metadata": {},
     "output_type": "execute_result"
    }
   ],
   "source": [
    "df.columns"
   ]
  },
  {
   "cell_type": "code",
   "execution_count": 13,
   "metadata": {},
   "outputs": [
    {
     "data": {
      "text/html": [
       "<div>\n",
       "<style scoped>\n",
       "    .dataframe tbody tr th:only-of-type {\n",
       "        vertical-align: middle;\n",
       "    }\n",
       "\n",
       "    .dataframe tbody tr th {\n",
       "        vertical-align: top;\n",
       "    }\n",
       "\n",
       "    .dataframe thead th {\n",
       "        text-align: right;\n",
       "    }\n",
       "</style>\n",
       "<table border=\"1\" class=\"dataframe\">\n",
       "  <thead>\n",
       "    <tr style=\"text-align: right;\">\n",
       "      <th></th>\n",
       "      <th>file</th>\n",
       "      <th>procedure</th>\n",
       "      <th>CPUTIME (usec):Sum (I)</th>\n",
       "      <th>CPUTIME (usec):Sum (I) ratio of total</th>\n",
       "      <th>CPUTIME (usec):Sum (I) ratio of parent</th>\n",
       "    </tr>\n",
       "  </thead>\n",
       "  <tbody>\n",
       "    <tr>\n",
       "      <th>-1</th>\n",
       "      <td>NaN</td>\n",
       "      <td>NaN</td>\n",
       "      <td>85290300.0</td>\n",
       "      <td>1.000000</td>\n",
       "      <td>1.000000</td>\n",
       "    </tr>\n",
       "    <tr>\n",
       "      <th>2</th>\n",
       "      <td>~unknown-file~</td>\n",
       "      <td>main</td>\n",
       "      <td>83479900.0</td>\n",
       "      <td>0.978774</td>\n",
       "      <td>0.978774</td>\n",
       "    </tr>\n",
       "    <tr>\n",
       "      <th>446</th>\n",
       "      <td>~unknown-file~</td>\n",
       "      <td>driver_evolveflash_</td>\n",
       "      <td>77729500.0</td>\n",
       "      <td>0.911352</td>\n",
       "      <td>0.931116</td>\n",
       "    </tr>\n",
       "    <tr>\n",
       "      <th>447</th>\n",
       "      <td></td>\n",
       "      <td>driver_evolveflash_</td>\n",
       "      <td>76348700.0</td>\n",
       "      <td>0.895163</td>\n",
       "      <td>0.982236</td>\n",
       "    </tr>\n",
       "    <tr>\n",
       "      <th>2077</th>\n",
       "      <td>~unknown-file~</td>\n",
       "      <td>hydro_</td>\n",
       "      <td>53308300.0</td>\n",
       "      <td>0.625022</td>\n",
       "      <td>0.698221</td>\n",
       "    </tr>\n",
       "    <tr>\n",
       "      <th>2625</th>\n",
       "      <td>~unknown-file~</td>\n",
       "      <td>hy_advance_</td>\n",
       "      <td>40351500.0</td>\n",
       "      <td>0.473108</td>\n",
       "      <td>0.756946</td>\n",
       "    </tr>\n",
       "    <tr>\n",
       "      <th>2626</th>\n",
       "      <td></td>\n",
       "      <td>hy_advance_</td>\n",
       "      <td>32116600.0</td>\n",
       "      <td>0.376556</td>\n",
       "      <td>0.795921</td>\n",
       "    </tr>\n",
       "    <tr>\n",
       "      <th>2628</th>\n",
       "      <td>~unknown-file~</td>\n",
       "      <td>hy_computefluxes_</td>\n",
       "      <td>31634600.0</td>\n",
       "      <td>0.370905</td>\n",
       "      <td>0.984992</td>\n",
       "    </tr>\n",
       "    <tr>\n",
       "      <th>2921</th>\n",
       "      <td>~unknown-file~</td>\n",
       "      <td>hy_getriemannstate_</td>\n",
       "      <td>21057100.0</td>\n",
       "      <td>0.246887</td>\n",
       "      <td>0.665635</td>\n",
       "    </tr>\n",
       "    <tr>\n",
       "      <th>2932</th>\n",
       "      <td></td>\n",
       "      <td>hy_getriemannstate_</td>\n",
       "      <td>20969200.0</td>\n",
       "      <td>0.245857</td>\n",
       "      <td>0.995826</td>\n",
       "    </tr>\n",
       "    <tr>\n",
       "      <th>2933</th>\n",
       "      <td></td>\n",
       "      <td>hy_getriemannstate_</td>\n",
       "      <td>20969200.0</td>\n",
       "      <td>0.245857</td>\n",
       "      <td>1.000000</td>\n",
       "    </tr>\n",
       "    <tr>\n",
       "      <th>2934</th>\n",
       "      <td></td>\n",
       "      <td>hy_getriemannstate_</td>\n",
       "      <td>20969200.0</td>\n",
       "      <td>0.245857</td>\n",
       "      <td>1.000000</td>\n",
       "    </tr>\n",
       "    <tr>\n",
       "      <th>2970</th>\n",
       "      <td>~unknown-file~</td>\n",
       "      <td>hy_datareconstonestep_</td>\n",
       "      <td>17898400.0</td>\n",
       "      <td>0.209853</td>\n",
       "      <td>0.853557</td>\n",
       "    </tr>\n",
       "    <tr>\n",
       "      <th>3013</th>\n",
       "      <td></td>\n",
       "      <td>hy_datareconstonestep_</td>\n",
       "      <td>16277800.0</td>\n",
       "      <td>0.190852</td>\n",
       "      <td>0.909456</td>\n",
       "    </tr>\n",
       "    <tr>\n",
       "      <th>3015</th>\n",
       "      <td>~unknown-file~</td>\n",
       "      <td>hy_datareconstructnormaldir_mh_</td>\n",
       "      <td>14011300.0</td>\n",
       "      <td>0.164278</td>\n",
       "      <td>0.860761</td>\n",
       "    </tr>\n",
       "    <tr>\n",
       "      <th>3016</th>\n",
       "      <td></td>\n",
       "      <td>hy_datareconstructnormaldir_mh_</td>\n",
       "      <td>4649550.0</td>\n",
       "      <td>0.054514</td>\n",
       "      <td>0.331843</td>\n",
       "    </tr>\n",
       "    <tr>\n",
       "      <th>3017</th>\n",
       "      <td></td>\n",
       "      <td>hy_datareconstructnormaldir_mh_</td>\n",
       "      <td>4649550.0</td>\n",
       "      <td>0.054514</td>\n",
       "      <td>1.000000</td>\n",
       "    </tr>\n",
       "    <tr>\n",
       "      <th>3018</th>\n",
       "      <td></td>\n",
       "      <td>hy_datareconstructnormaldir_mh_</td>\n",
       "      <td>4649550.0</td>\n",
       "      <td>0.054514</td>\n",
       "      <td>1.000000</td>\n",
       "    </tr>\n",
       "  </tbody>\n",
       "</table>\n",
       "</div>"
      ],
      "text/plain": [
       "                 file                        procedure  \\\n",
       "-1                NaN                              NaN   \n",
       " 2     ~unknown-file~                             main   \n",
       " 446   ~unknown-file~              driver_evolveflash_   \n",
       " 447                               driver_evolveflash_   \n",
       " 2077  ~unknown-file~                           hydro_   \n",
       " 2625  ~unknown-file~                      hy_advance_   \n",
       " 2626                                      hy_advance_   \n",
       " 2628  ~unknown-file~                hy_computefluxes_   \n",
       " 2921  ~unknown-file~              hy_getriemannstate_   \n",
       " 2932                              hy_getriemannstate_   \n",
       " 2933                              hy_getriemannstate_   \n",
       " 2934                              hy_getriemannstate_   \n",
       " 2970  ~unknown-file~           hy_datareconstonestep_   \n",
       " 3013                           hy_datareconstonestep_   \n",
       " 3015  ~unknown-file~  hy_datareconstructnormaldir_mh_   \n",
       " 3016                  hy_datareconstructnormaldir_mh_   \n",
       " 3017                  hy_datareconstructnormaldir_mh_   \n",
       " 3018                  hy_datareconstructnormaldir_mh_   \n",
       "\n",
       "       CPUTIME (usec):Sum (I)  CPUTIME (usec):Sum (I) ratio of total  \\\n",
       "-1                 85290300.0                               1.000000   \n",
       " 2                 83479900.0                               0.978774   \n",
       " 446               77729500.0                               0.911352   \n",
       " 447               76348700.0                               0.895163   \n",
       " 2077              53308300.0                               0.625022   \n",
       " 2625              40351500.0                               0.473108   \n",
       " 2626              32116600.0                               0.376556   \n",
       " 2628              31634600.0                               0.370905   \n",
       " 2921              21057100.0                               0.246887   \n",
       " 2932              20969200.0                               0.245857   \n",
       " 2933              20969200.0                               0.245857   \n",
       " 2934              20969200.0                               0.245857   \n",
       " 2970              17898400.0                               0.209853   \n",
       " 3013              16277800.0                               0.190852   \n",
       " 3015              14011300.0                               0.164278   \n",
       " 3016               4649550.0                               0.054514   \n",
       " 3017               4649550.0                               0.054514   \n",
       " 3018               4649550.0                               0.054514   \n",
       "\n",
       "       CPUTIME (usec):Sum (I) ratio of parent  \n",
       "-1                                   1.000000  \n",
       " 2                                   0.978774  \n",
       " 446                                 0.931116  \n",
       " 447                                 0.982236  \n",
       " 2077                                0.698221  \n",
       " 2625                                0.756946  \n",
       " 2626                                0.795921  \n",
       " 2628                                0.984992  \n",
       " 2921                                0.665635  \n",
       " 2932                                0.995826  \n",
       " 2933                                1.000000  \n",
       " 2934                                1.000000  \n",
       " 2970                                0.853557  \n",
       " 3013                                0.909456  \n",
       " 3015                                0.860761  \n",
       " 3016                                0.331843  \n",
       " 3017                                1.000000  \n",
       " 3018                                1.000000  "
      ]
     },
     "execution_count": 13,
     "metadata": {},
     "output_type": "execute_result"
    }
   ],
   "source": [
    "df.hot_path()[[\n",
    "    'file', 'procedure',\n",
    "    'CPUTIME (usec):Sum (I)', 'CPUTIME (usec):Sum (I) ratio of total', 'CPUTIME (usec):Sum (I) ratio of parent']]"
   ]
  },
  {
   "cell_type": "markdown",
   "metadata": {},
   "source": [
    "# 1. Running the experiments"
   ]
  },
  {
   "cell_type": "markdown",
   "metadata": {},
   "source": [
    "## 1.1. Choose experiment"
   ]
  },
  {
   "cell_type": "markdown",
   "metadata": {},
   "source": [
    "pick one"
   ]
  },
  {
   "cell_type": "code",
   "execution_count": 14,
   "metadata": {},
   "outputs": [],
   "source": [
    "# Experiment 0\n",
    "\n",
    "branch_nicknames = {\n",
    "    'transpyle_experiments': 'base'}\n",
    "problems = [\n",
    "    ('Sedov', '-auto -2d +Mode1')]\n",
    "objdir = 'object'\n",
    "samples = 1\n",
    "events = None\n",
    "mpi_processes = [0]\n",
    "\n",
    "test_name_template = 'subset_{problem}_baseline'"
   ]
  },
  {
   "cell_type": "code",
   "execution_count": 7,
   "metadata": {},
   "outputs": [],
   "source": [
    "# Experiment 1\n",
    "\n",
    "branch_nicknames = {\n",
    "    'transpyle_experiments': 'base',\n",
    "    'transpyle_experiments_outlined': 'outlined',\n",
    "    'transpyle_experiments_autoinlined': 'autoinlined'}\n",
    "problems = [\n",
    "    ('Sod', '-auto -2d +Mode1'),\n",
    "    ('Sedov', '-auto -2d +Mode1')]\n",
    "objdir = 'object'\n",
    "samples = 50\n",
    "events = None\n",
    "mpi_processes = [0]\n",
    "\n",
    "test_name_template = 'subset_{problem}_{nickname}'"
   ]
  },
  {
   "cell_type": "code",
   "execution_count": 23,
   "metadata": {},
   "outputs": [],
   "source": [
    "# Experiment 2\n",
    "\n",
    "branch_nicknames = {\n",
    "    'transpyle_experiments': 'base'}\n",
    "problems = [\n",
    "    ('Sod', '-auto -2d +Mode1'),\n",
    "    ('Sedov', '-auto -2d +Mode1')]\n",
    "objdir = 'object'\n",
    "samples = 50\n",
    "events = {'PAPI_MEM_WCY': 100}\n",
    "mpi_processes = [0]\n",
    "\n",
    "test_name_template = 'subset_{problem}_papi'"
   ]
  },
  {
   "cell_type": "code",
   "execution_count": 26,
   "metadata": {},
   "outputs": [],
   "source": [
    "# Experiment 3\n",
    "\n",
    "branch_nicknames = {\n",
    "    'transpyle_experiments': 'base'}\n",
    "problems = [\n",
    "    ('Sod', '-auto -2d +Mode1')]\n",
    "objdir = 'object'\n",
    "samples = 1\n",
    "events = {'PAPI_TOT_CYC': 100000, 'WALLCLOCK': 1 / 10}\n",
    "mpi_processes = [1, 2, 4]\n",
    "\n",
    "test_name_template = 'subset_{problem}_{nickname}_scale_{mpi_proc}'"
   ]
  },
  {
   "cell_type": "code",
   "execution_count": null,
   "metadata": {},
   "outputs": [],
   "source": [
    "# Experiment 4\n",
    "\n",
    "branch_nicknames = {\n",
    "    'SNIa_spack': 'base'}\n",
    "problems = [\n",
    "    ('SNIa_DoubleDetonation', '-auto -3d +cartesian -nxb=16 -nyb=16 -nzb=16 -maxblocks=100 xnet=True xnetData=Data_SN160 xnetGPU=False +uhd +starkiller starkillerGPU=False +Mode1 -debug +newMpole +noio'),\n",
    "    #('SNIa_DoubleDetonation', '-auto -3d +cartesian -nxb=16 -nyb=16 -nzb=16 -maxblocks=100 xnet=True xnetData=Data_SN160 xnetGPU=False +uhd +starkiller starkillerGPU=False +Mode1 -debug +newMpole'),\n",
    "    #('SNIa_DoubleDetonation', '-auto -3d +cartesian -nxb=16 -nyb=16 -nzb=16 -maxblocks=100 xnet=True xnetData=Data_SN160 xnetGPU=False +uhd +starkiller starkillerGPU=False +Mode1 +newMpole +noio'),\n",
    "    #('SNIa_DoubleDetonation', '-auto -3d +cartesian -nxb=16 -nyb=16 -nzb=16 -maxblocks=100 xnet=True xnetData=Data_SN160 xnetGPU=False +uhd +starkiller starkillerGPU=False +Mode1 +newMpole')\n",
    "    ]\n",
    "objdir = 'sn1a-doubledet'\n",
    "samples = 10\n",
    "events = {'PAPI_TOT_CYC': 100000, 'WALLCLOCK': 1 / 10}\n",
    "mpi_processes = [0, 1, 2, 4]\n",
    "\n",
    "test_name_template = 'subset_{problem}_{nickname}_{mpi_proc}'"
   ]
  },
  {
   "cell_type": "markdown",
   "metadata": {},
   "source": [
    "## 1.2. Run the experiment"
   ]
  },
  {
   "cell_type": "code",
   "execution_count": 9,
   "metadata": {},
   "outputs": [],
   "source": [
    "_NOW = datetime.datetime.now()"
   ]
  },
  {
   "cell_type": "code",
   "execution_count": 10,
   "metadata": {
    "scrolled": true
   },
   "outputs": [
    {
     "data": {
      "text/plain": [
       "datetime.datetime(2018, 9, 18, 17, 22, 32, 628728)"
      ]
     },
     "execution_count": 10,
     "metadata": {},
     "output_type": "execute_result"
    }
   ],
   "source": [
    "_NOW"
   ]
  },
  {
   "cell_type": "code",
   "execution_count": 12,
   "metadata": {},
   "outputs": [],
   "source": [
    "profiling_flash._NOW = _NOW"
   ]
  },
  {
   "cell_type": "code",
   "execution_count": 12,
   "metadata": {},
   "outputs": [
    {
     "name": "stderr",
     "output_type": "stream",
     "text": [
      "WARNING:profiling_flash:subset_Sedov_baseline.setup: running \"./setup -site spack Sedov -auto -2d +Mode1\" with wd=\"/nfs2/mbysiek/Projects/docker-transpyle-flash/flash-subset/FLASH4.4\"\n",
      "WARNING:profiling_flash:subset_Sedov_baseline.make: running \"make\" with wd=\"/nfs2/mbysiek/Projects/docker-transpyle-flash/flash-subset/FLASH4.4/object\"\n",
      "WARNING:profiling_flash:subset_Sedov_baseline.profile: running the experiment 1 times...\n",
      "WARNING:profiling_flash:subset_Sedov_baseline.profile: running \"hpcrun -o \"/nfs2/mbysiek/Projects/docker-transpyle-flash/results/profile_20180918-161826_subset_Sedov_baseline\" /nfs2/mbysiek/Projects/docker-transpyle-flash/flash-subset/FLASH4.4/object/flash4\" with wd=\"/nfs2/mbysiek/Projects/docker-transpyle-flash/flash-subset/FLASH4.4/object\"\n",
      "WARNING:profiling_flash:subset_Sedov_baseline.summarize.hpcstruct: running \"hpcstruct -I \"/nfs2/mbysiek/Projects/docker-transpyle-flash/flash-subset/*\" --verbose -o /nfs2/mbysiek/Projects/docker-transpyle-flash/results/profile_20180918-161826_subset_Sedov_baseline/flash4.hpcstruct /nfs2/mbysiek/Projects/docker-transpyle-flash/flash-subset/FLASH4.4/object/flash4\" with wd=\"/nfs2/mbysiek/Projects/docker-transpyle-flash/flash-subset\"\n",
      "WARNING:profiling_flash:subset_Sedov_baseline.summarize.hpcprof: running \"hpcprof -I \"/nfs2/mbysiek/Projects/docker-transpyle-flash/flash-subset/+\" --replace-path \"/nfs2/mbysiek/Projects/docker-transpyle-flash/flash-subset=.\" /nfs2/mbysiek/Projects/docker-transpyle-flash/results/profile_20180918-161826_subset_Sedov_baseline -S /nfs2/mbysiek/Projects/docker-transpyle-flash/results/profile_20180918-161826_subset_Sedov_baseline/flash4.hpcstruct -M stats -o /nfs2/mbysiek/Projects/docker-transpyle-flash/results/profile_20180918-161826_subset_Sedov_baseline_db\" with wd=\"/nfs2/mbysiek/Projects/docker-transpyle-flash/flash-subset\"\n"
     ]
    },
    {
     "name": "stdout",
     "output_type": "stream",
     "text": [
      "CPU times: user 151 ms, sys: 47.3 ms, total: 199 ms\n",
      "Wall time: 3min 44s\n"
     ]
    }
   ],
   "source": [
    "%%time\n",
    "\n",
    "for (branch, nickname), (problem, options), mpi_proc in itertools.product(\n",
    "        branch_nicknames.items(), problems, mpi_processes):\n",
    "    test_name = test_name_template.format(problem=problem, nickname=nickname, mpi_proc=mpi_proc)\n",
    "    profile_experiment('flash-subset', '{} {}'.format(problem, options), branch, objdir, samples,\n",
    "                       events=events, mpi_proc=mpi_proc, # rebuild=False,\n",
    "                       test_name=test_name)"
   ]
  },
  {
   "cell_type": "code",
   "execution_count": null,
   "metadata": {},
   "outputs": [],
   "source": [
    "clean_flash(pathlib.Path(_HERE, 'flash-subset', 'FLASH4.4', objdir),\n",
    "            test_name_template.format(problem=problem, nickname=nickname, mpi_proc=mpi_proc))"
   ]
  },
  {
   "cell_type": "markdown",
   "metadata": {},
   "source": [
    "## 1.3. Add experiment here to be able to review it later"
   ]
  },
  {
   "cell_type": "code",
   "execution_count": 13,
   "metadata": {},
   "outputs": [],
   "source": [
    "test_date = _NOW"
   ]
  },
  {
   "cell_type": "code",
   "execution_count": 14,
   "metadata": {},
   "outputs": [],
   "source": [
    "# Experiment 0\n",
    "\n",
    "test_date = datetime.datetime(2018, 9, 18, 14, 44, 19, 473557)"
   ]
  },
  {
   "cell_type": "code",
   "execution_count": 21,
   "metadata": {},
   "outputs": [],
   "source": [
    "# Experiment 1\n",
    "\n",
    "test_date = datetime.datetime(2018, 9, 5, 12, 5, 19, 934255)"
   ]
  },
  {
   "cell_type": "code",
   "execution_count": 24,
   "metadata": {},
   "outputs": [],
   "source": [
    "# Experiment 2\n",
    "\n",
    "test_date = datetime.datetime(2018, 9, 11, 10, 2, 31, 884551)"
   ]
  },
  {
   "cell_type": "code",
   "execution_count": 27,
   "metadata": {},
   "outputs": [],
   "source": [
    "# Experiment 3\n",
    "\n",
    "test_date = datetime.datetime(2018, 9, 11, 11, 37, 45, 878931)"
   ]
  },
  {
   "cell_type": "code",
   "execution_count": null,
   "metadata": {},
   "outputs": [],
   "source": [
    "# Experiment 4\n",
    "\n",
    "test_date = datetime.datetime(2018, 9, 12, 17, 17, 24, 213713)"
   ]
  },
  {
   "cell_type": "markdown",
   "metadata": {},
   "source": [
    "## 1.4. Build other tools"
   ]
  },
  {
   "cell_type": "code",
   "execution_count": 13,
   "metadata": {},
   "outputs": [
    {
     "name": "stderr",
     "output_type": "stream",
     "text": [
      "WARNING:profiling_flash:sfocu.clean: running \"make -f Makefile.hello clean\" with wd=\"/nfs2/mbysiek/Projects/docker-transpyle-flash/flash-subset/FLASH4.4/tools/sfocu\"\n",
      "WARNING:profiling_flash:sfocu.make: running \"make -f Makefile.hello\" with wd=\"/nfs2/mbysiek/Projects/docker-transpyle-flash/flash-subset/FLASH4.4/tools/sfocu\"\n"
     ]
    }
   ],
   "source": [
    "profiling_flash.make_sfocu(pathlib.Path(_HERE, 'flash-subset', 'FLASH4.4'))"
   ]
  },
  {
   "cell_type": "markdown",
   "metadata": {},
   "source": [
    "# 2. Review results"
   ]
  },
  {
   "cell_type": "code",
   "execution_count": 15,
   "metadata": {},
   "outputs": [
    {
     "name": "stdout",
     "output_type": "stream",
     "text": [
      "CPU times: user 2.13 s, sys: 0 ns, total: 2.13 s\n",
      "Wall time: 2.18 s\n"
     ]
    }
   ],
   "source": [
    "%%time\n",
    "\n",
    "timings = {}\n",
    "hot_paths = {}\n",
    "\n",
    "for (branch, nickname), (problem, options), mpi_proc in itertools.product(\n",
    "        branch_nicknames.items(), problems, mpi_processes):\n",
    "    test_name = test_name_template.format(problem=problem, nickname=nickname, mpi_proc=mpi_proc)\n",
    "    _profile_path = profile_db_path(test_date, test_name=test_name).joinpath('experiment.xml')\n",
    "    df = HPCtoolkitDataFrame(path=_profile_path, max_depth=None)\n",
    "    _key = tuple([\n",
    "        value for _, value in [('problem', problem), ('nickname', nickname), ('mpi_proc', mpi_proc)]\n",
    "        if '{{{}}}'.format(_) in test_name_template])\n",
    "    timings[_key] = df\n",
    "    hot_paths[_key] = df.hot_path()"
   ]
  },
  {
   "cell_type": "markdown",
   "metadata": {},
   "source": [
    "## 2.1. Past experiments"
   ]
  },
  {
   "cell_type": "markdown",
   "metadata": {},
   "source": [
    "Experiment 0: sanity check"
   ]
  },
  {
   "cell_type": "code",
   "execution_count": 17,
   "metadata": {
    "scrolled": false
   },
   "outputs": [
    {
     "data": {
      "text/html": [
       "<div>\n",
       "<style scoped>\n",
       "    .dataframe tbody tr th:only-of-type {\n",
       "        vertical-align: middle;\n",
       "    }\n",
       "\n",
       "    .dataframe tbody tr th {\n",
       "        vertical-align: top;\n",
       "    }\n",
       "\n",
       "    .dataframe thead th {\n",
       "        text-align: right;\n",
       "    }\n",
       "</style>\n",
       "<table border=\"1\" class=\"dataframe\">\n",
       "  <thead>\n",
       "    <tr style=\"text-align: right;\">\n",
       "      <th></th>\n",
       "      <th>module</th>\n",
       "      <th>file</th>\n",
       "      <th>line</th>\n",
       "      <th>procedure</th>\n",
       "      <th>CPUTIME (usec):Mean (I)</th>\n",
       "      <th>CPUTIME (usec):Mean (I) ratio of total</th>\n",
       "      <th>CPUTIME (usec):Mean (I) ratio of parent</th>\n",
       "    </tr>\n",
       "  </thead>\n",
       "  <tbody>\n",
       "    <tr>\n",
       "      <th>787</th>\n",
       "      <td>flash4</td>\n",
       "      <td>hy_advance.F90</td>\n",
       "      <td>75</td>\n",
       "      <td>&lt;inline&gt;</td>\n",
       "      <td>13031300.0</td>\n",
       "      <td>0.616925</td>\n",
       "      <td>0.969735</td>\n",
       "    </tr>\n",
       "    <tr>\n",
       "      <th>793</th>\n",
       "      <td>flash4</td>\n",
       "      <td>hy_computeFluxes.F90</td>\n",
       "      <td>78</td>\n",
       "      <td>hy_computefluxes_</td>\n",
       "      <td>12999400.0</td>\n",
       "      <td>0.615414</td>\n",
       "      <td>0.997552</td>\n",
       "    </tr>\n",
       "    <tr>\n",
       "      <th>850</th>\n",
       "      <td>flash4</td>\n",
       "      <td>hy_getRiemannState.F90</td>\n",
       "      <td>68</td>\n",
       "      <td>hy_getriemannstate_</td>\n",
       "      <td>9935250.0</td>\n",
       "      <td>0.470352</td>\n",
       "      <td>0.764285</td>\n",
       "    </tr>\n",
       "    <tr>\n",
       "      <th>862</th>\n",
       "      <td>flash4</td>\n",
       "      <td>hy_getRiemannState.F90</td>\n",
       "      <td>476</td>\n",
       "      <td>hy_getriemannstate_</td>\n",
       "      <td>9911310.0</td>\n",
       "      <td>0.469219</td>\n",
       "      <td>0.997590</td>\n",
       "    </tr>\n",
       "    <tr>\n",
       "      <th>864</th>\n",
       "      <td>flash4</td>\n",
       "      <td>hy_getRiemannState.F90</td>\n",
       "      <td>477</td>\n",
       "      <td>hy_getriemannstate_</td>\n",
       "      <td>9903350.0</td>\n",
       "      <td>0.468842</td>\n",
       "      <td>0.999197</td>\n",
       "    </tr>\n",
       "    <tr>\n",
       "      <th>898</th>\n",
       "      <td>flash4</td>\n",
       "      <td>hy_dataReconstOneStep.F90</td>\n",
       "      <td>82</td>\n",
       "      <td>hy_datareconstonestep_</td>\n",
       "      <td>9179180.0</td>\n",
       "      <td>0.434559</td>\n",
       "      <td>0.926876</td>\n",
       "    </tr>\n",
       "    <tr>\n",
       "      <th>1016</th>\n",
       "      <td>flash4</td>\n",
       "      <td>hy_dataReconstOneStep.F90</td>\n",
       "      <td>485</td>\n",
       "      <td>hy_datareconstonestep_</td>\n",
       "      <td>8183700.0</td>\n",
       "      <td>0.387431</td>\n",
       "      <td>0.891550</td>\n",
       "    </tr>\n",
       "    <tr>\n",
       "      <th>1023</th>\n",
       "      <td>flash4</td>\n",
       "      <td>hy_DataReconstructNormalDir_PPM.F90</td>\n",
       "      <td>73</td>\n",
       "      <td>hy_datareconstructnormaldir_ppm_</td>\n",
       "      <td>8032430.0</td>\n",
       "      <td>0.380269</td>\n",
       "      <td>0.981516</td>\n",
       "    </tr>\n",
       "    <tr>\n",
       "      <th>1079</th>\n",
       "      <td>flash4</td>\n",
       "      <td>hy_upwindTransverseFlux.F90</td>\n",
       "      <td>43</td>\n",
       "      <td>hy_upwindtransverseflux_</td>\n",
       "      <td>1302000.0</td>\n",
       "      <td>0.061639</td>\n",
       "      <td>0.162093</td>\n",
       "    </tr>\n",
       "    <tr>\n",
       "      <th>1088</th>\n",
       "      <td>flash4</td>\n",
       "      <td>hy_upwindTransverseFlux.F90</td>\n",
       "      <td>132</td>\n",
       "      <td>hy_upwindtransverseflux_</td>\n",
       "      <td>1135180.0</td>\n",
       "      <td>0.053741</td>\n",
       "      <td>0.871874</td>\n",
       "    </tr>\n",
       "  </tbody>\n",
       "</table>\n",
       "</div>"
      ],
      "text/plain": [
       "      module                                 file  line  \\\n",
       "787   flash4                       hy_advance.F90    75   \n",
       "793   flash4                 hy_computeFluxes.F90    78   \n",
       "850   flash4               hy_getRiemannState.F90    68   \n",
       "862   flash4               hy_getRiemannState.F90   476   \n",
       "864   flash4               hy_getRiemannState.F90   477   \n",
       "898   flash4            hy_dataReconstOneStep.F90    82   \n",
       "1016  flash4            hy_dataReconstOneStep.F90   485   \n",
       "1023  flash4  hy_DataReconstructNormalDir_PPM.F90    73   \n",
       "1079  flash4          hy_upwindTransverseFlux.F90    43   \n",
       "1088  flash4          hy_upwindTransverseFlux.F90   132   \n",
       "\n",
       "                             procedure  CPUTIME (usec):Mean (I)  \\\n",
       "787                           <inline>               13031300.0   \n",
       "793                  hy_computefluxes_               12999400.0   \n",
       "850                hy_getriemannstate_                9935250.0   \n",
       "862                hy_getriemannstate_                9911310.0   \n",
       "864                hy_getriemannstate_                9903350.0   \n",
       "898             hy_datareconstonestep_                9179180.0   \n",
       "1016            hy_datareconstonestep_                8183700.0   \n",
       "1023  hy_datareconstructnormaldir_ppm_                8032430.0   \n",
       "1079          hy_upwindtransverseflux_                1302000.0   \n",
       "1088          hy_upwindtransverseflux_                1135180.0   \n",
       "\n",
       "      CPUTIME (usec):Mean (I) ratio of total  \\\n",
       "787                                 0.616925   \n",
       "793                                 0.615414   \n",
       "850                                 0.470352   \n",
       "862                                 0.469219   \n",
       "864                                 0.468842   \n",
       "898                                 0.434559   \n",
       "1016                                0.387431   \n",
       "1023                                0.380269   \n",
       "1079                                0.061639   \n",
       "1088                                0.053741   \n",
       "\n",
       "      CPUTIME (usec):Mean (I) ratio of parent  \n",
       "787                                  0.969735  \n",
       "793                                  0.997552  \n",
       "850                                  0.764285  \n",
       "862                                  0.997590  \n",
       "864                                  0.999197  \n",
       "898                                  0.926876  \n",
       "1016                                 0.891550  \n",
       "1023                                 0.981516  \n",
       "1079                                 0.162093  \n",
       "1088                                 0.871874  "
      ]
     },
     "execution_count": 17,
     "metadata": {},
     "output_type": "execute_result"
    }
   ],
   "source": [
    "hot_paths['Sedov',].compact[-10:]"
   ]
  },
  {
   "cell_type": "markdown",
   "metadata": {},
   "source": [
    "Experiment 1: computational bottleneck"
   ]
  },
  {
   "cell_type": "code",
   "execution_count": 51,
   "metadata": {
    "scrolled": false
   },
   "outputs": [
    {
     "data": {
      "text/html": [
       "<div>\n",
       "<style scoped>\n",
       "    .dataframe tbody tr th:only-of-type {\n",
       "        vertical-align: middle;\n",
       "    }\n",
       "\n",
       "    .dataframe tbody tr th {\n",
       "        vertical-align: top;\n",
       "    }\n",
       "\n",
       "    .dataframe thead th {\n",
       "        text-align: right;\n",
       "    }\n",
       "</style>\n",
       "<table border=\"1\" class=\"dataframe\">\n",
       "  <thead>\n",
       "    <tr style=\"text-align: right;\">\n",
       "      <th></th>\n",
       "      <th>CPUTIME (usec):Mean (I)</th>\n",
       "      <th>CPUTIME (usec):Mean (I) ratio of total</th>\n",
       "      <th>CPUTIME (usec):Mean (I) ratio of parent</th>\n",
       "    </tr>\n",
       "  </thead>\n",
       "  <tbody>\n",
       "    <tr>\n",
       "      <th>('&lt;program root&gt;.6', 'main.8', 'driver_evolveflash_.1004', '&lt;loop 460.1436&gt;', 'hydro_.4266', 'hy_advance_.5235', '&lt;loop 6622.5443&gt;', 'hy_computefluxes_.5445', 'hy_getriemannstate_.6548', '&lt;loop 6882.6621&gt;', '&lt;loop 6884.6623&gt;', 'hy_datareconstonestep_.6701', '&lt;loop 6698.7398&gt;', 'hy_datareconstructnormaldir_ppm_.7400')</th>\n",
       "      <td>7615040.0</td>\n",
       "      <td>0.389404</td>\n",
       "      <td>0.981026</td>\n",
       "    </tr>\n",
       "    <tr>\n",
       "      <th>('&lt;program root&gt;.6', 'main.8', 'driver_evolveflash_.1004', '&lt;loop 460.1436&gt;', 'hydro_.4266', 'hy_advance_.5235', '&lt;loop 6622.5443&gt;', 'hy_computefluxes_.5445', 'hy_getriemannstate_.6548', '&lt;loop 6882.6621&gt;', '&lt;loop 6884.6623&gt;', 'hy_datareconstonestep_.6701', '&lt;loop 6698.7398&gt;', 'hy_datareconstructnormaldir_ppm_.7400', 'hy_upwindtransverseflux_.7411')</th>\n",
       "      <td>1165760.0</td>\n",
       "      <td>0.059613</td>\n",
       "      <td>0.153087</td>\n",
       "    </tr>\n",
       "    <tr>\n",
       "      <th>('&lt;program root&gt;.6', 'main.8', 'driver_evolveflash_.1004', '&lt;loop 460.1436&gt;', 'hydro_.4266', 'hy_advance_.5235', '&lt;loop 6622.5443&gt;', 'hy_computefluxes_.5445', 'hy_getriemannstate_.6548', '&lt;loop 6882.6621&gt;', '&lt;loop 6884.6623&gt;', 'hy_datareconstonestep_.6701', '&lt;loop 6698.7398&gt;', 'hy_datareconstructnormaldir_ppm_.7400', 'hy_upwindtransverseflux_.7411', '&lt;loop 7190.7415&gt;')</th>\n",
       "      <td>1013498.0</td>\n",
       "      <td>0.051826</td>\n",
       "      <td>0.869388</td>\n",
       "    </tr>\n",
       "  </tbody>\n",
       "</table>\n",
       "</div>"
      ],
      "text/plain": [
       "                                                    CPUTIME (usec):Mean (I)  \\\n",
       "('<program root>.6', 'main.8', 'driver_evolvefl...                7615040.0   \n",
       "('<program root>.6', 'main.8', 'driver_evolvefl...                1165760.0   \n",
       "('<program root>.6', 'main.8', 'driver_evolvefl...                1013498.0   \n",
       "\n",
       "                                                    CPUTIME (usec):Mean (I) ratio of total  \\\n",
       "('<program root>.6', 'main.8', 'driver_evolvefl...                                0.389404   \n",
       "('<program root>.6', 'main.8', 'driver_evolvefl...                                0.059613   \n",
       "('<program root>.6', 'main.8', 'driver_evolvefl...                                0.051826   \n",
       "\n",
       "                                                    CPUTIME (usec):Mean (I) ratio of parent  \n",
       "('<program root>.6', 'main.8', 'driver_evolvefl...                                 0.981026  \n",
       "('<program root>.6', 'main.8', 'driver_evolvefl...                                 0.153087  \n",
       "('<program root>.6', 'main.8', 'driver_evolvefl...                                 0.869388  "
      ]
     },
     "execution_count": 51,
     "metadata": {},
     "output_type": "execute_result"
    }
   ],
   "source": [
    "hot_paths['Sedov', 'base'].compact[-3:]"
   ]
  },
  {
   "cell_type": "code",
   "execution_count": 52,
   "metadata": {},
   "outputs": [
    {
     "data": {
      "text/html": [
       "<div>\n",
       "<style scoped>\n",
       "    .dataframe tbody tr th:only-of-type {\n",
       "        vertical-align: middle;\n",
       "    }\n",
       "\n",
       "    .dataframe tbody tr th {\n",
       "        vertical-align: top;\n",
       "    }\n",
       "\n",
       "    .dataframe thead th {\n",
       "        text-align: right;\n",
       "    }\n",
       "</style>\n",
       "<table border=\"1\" class=\"dataframe\">\n",
       "  <thead>\n",
       "    <tr style=\"text-align: right;\">\n",
       "      <th></th>\n",
       "      <th>CPUTIME (usec):Mean (I)</th>\n",
       "      <th>CPUTIME (usec):Mean (I) ratio of total</th>\n",
       "      <th>CPUTIME (usec):Mean (I) ratio of parent</th>\n",
       "    </tr>\n",
       "  </thead>\n",
       "  <tbody>\n",
       "    <tr>\n",
       "      <th>('&lt;program root&gt;.6', 'main.8', 'driver_evolveflash_.859', '&lt;loop 460.1273&gt;', 'hydro_.4166', 'hy_advance_.5116', '&lt;loop 6628.5311&gt;', 'hy_computefluxes_.5313', 'hy_getriemannstate_.6438', '&lt;loop 6888.6519&gt;', '&lt;loop 6890.6521&gt;', 'hy_datareconstonestep_.6602', '&lt;loop 6704.7269&gt;', 'hy_datareconstructnormaldir_ppm_.7271')</th>\n",
       "      <td>7950080.0</td>\n",
       "      <td>0.394674</td>\n",
       "      <td>0.982663</td>\n",
       "    </tr>\n",
       "    <tr>\n",
       "      <th>('&lt;program root&gt;.6', 'main.8', 'driver_evolveflash_.859', '&lt;loop 460.1273&gt;', 'hydro_.4166', 'hy_advance_.5116', '&lt;loop 6628.5311&gt;', 'hy_computefluxes_.5313', 'hy_getriemannstate_.6438', '&lt;loop 6888.6519&gt;', '&lt;loop 6890.6521&gt;', 'hy_datareconstonestep_.6602', '&lt;loop 6704.7269&gt;', 'hy_datareconstructnormaldir_ppm_.7271', 'hy_upwindtransverseflux_.7282')</th>\n",
       "      <td>1521750.0</td>\n",
       "      <td>0.075546</td>\n",
       "      <td>0.191413</td>\n",
       "    </tr>\n",
       "  </tbody>\n",
       "</table>\n",
       "</div>"
      ],
      "text/plain": [
       "                                                    CPUTIME (usec):Mean (I)  \\\n",
       "('<program root>.6', 'main.8', 'driver_evolvefl...                7950080.0   \n",
       "('<program root>.6', 'main.8', 'driver_evolvefl...                1521750.0   \n",
       "\n",
       "                                                    CPUTIME (usec):Mean (I) ratio of total  \\\n",
       "('<program root>.6', 'main.8', 'driver_evolvefl...                                0.394674   \n",
       "('<program root>.6', 'main.8', 'driver_evolvefl...                                0.075546   \n",
       "\n",
       "                                                    CPUTIME (usec):Mean (I) ratio of parent  \n",
       "('<program root>.6', 'main.8', 'driver_evolvefl...                                 0.982663  \n",
       "('<program root>.6', 'main.8', 'driver_evolvefl...                                 0.191413  "
      ]
     },
     "execution_count": 52,
     "metadata": {},
     "output_type": "execute_result"
    }
   ],
   "source": [
    "hot_paths['Sedov', 'outlined'].compact[-2:]"
   ]
  },
  {
   "cell_type": "code",
   "execution_count": 53,
   "metadata": {},
   "outputs": [
    {
     "data": {
      "text/html": [
       "<div>\n",
       "<style scoped>\n",
       "    .dataframe tbody tr th:only-of-type {\n",
       "        vertical-align: middle;\n",
       "    }\n",
       "\n",
       "    .dataframe tbody tr th {\n",
       "        vertical-align: top;\n",
       "    }\n",
       "\n",
       "    .dataframe thead th {\n",
       "        text-align: right;\n",
       "    }\n",
       "</style>\n",
       "<table border=\"1\" class=\"dataframe\">\n",
       "  <thead>\n",
       "    <tr style=\"text-align: right;\">\n",
       "      <th></th>\n",
       "      <th>CPUTIME (usec):Mean (I)</th>\n",
       "      <th>CPUTIME (usec):Mean (I) ratio of total</th>\n",
       "      <th>CPUTIME (usec):Mean (I) ratio of parent</th>\n",
       "    </tr>\n",
       "  </thead>\n",
       "  <tbody>\n",
       "    <tr>\n",
       "      <th>('&lt;program root&gt;.6', 'main.8', 'driver_evolveflash_.1006', '&lt;loop 460.1422&gt;', 'hydro_.4494', 'hy_advance_.5477', '&lt;loop 6624.5674&gt;', 'hy_computefluxes_.5676', 'hy_getriemannstate_.6771', '&lt;loop 6884.6828&gt;', '&lt;loop 6886.6830&gt;', 'hy_datareconstonestep_.6911', '&lt;loop 6700.7566&gt;', 'hy_datareconstructnormaldir_ppm_.7568')</th>\n",
       "      <td>7436440.0</td>\n",
       "      <td>0.380932</td>\n",
       "      <td>0.981087</td>\n",
       "    </tr>\n",
       "    <tr>\n",
       "      <th>('&lt;program root&gt;.6', 'main.8', 'driver_evolveflash_.1006', '&lt;loop 460.1422&gt;', 'hydro_.4494', 'hy_advance_.5477', '&lt;loop 6624.5674&gt;', 'hy_computefluxes_.5676', 'hy_getriemannstate_.6771', '&lt;loop 6884.6828&gt;', '&lt;loop 6886.6830&gt;', 'hy_datareconstonestep_.6911', '&lt;loop 6700.7566&gt;', 'hy_datareconstructnormaldir_ppm_.7568', 'hy_upwindtransverseflux_.7579')</th>\n",
       "      <td>1105940.0</td>\n",
       "      <td>0.056652</td>\n",
       "      <td>0.148719</td>\n",
       "    </tr>\n",
       "  </tbody>\n",
       "</table>\n",
       "</div>"
      ],
      "text/plain": [
       "                                                    CPUTIME (usec):Mean (I)  \\\n",
       "('<program root>.6', 'main.8', 'driver_evolvefl...                7436440.0   \n",
       "('<program root>.6', 'main.8', 'driver_evolvefl...                1105940.0   \n",
       "\n",
       "                                                    CPUTIME (usec):Mean (I) ratio of total  \\\n",
       "('<program root>.6', 'main.8', 'driver_evolvefl...                                0.380932   \n",
       "('<program root>.6', 'main.8', 'driver_evolvefl...                                0.056652   \n",
       "\n",
       "                                                    CPUTIME (usec):Mean (I) ratio of parent  \n",
       "('<program root>.6', 'main.8', 'driver_evolvefl...                                 0.981087  \n",
       "('<program root>.6', 'main.8', 'driver_evolvefl...                                 0.148719  "
      ]
     },
     "execution_count": 53,
     "metadata": {},
     "output_type": "execute_result"
    }
   ],
   "source": [
    "hot_paths['Sedov', 'autoinlined'].compact[-2:]"
   ]
  },
  {
   "cell_type": "code",
   "execution_count": 54,
   "metadata": {
    "scrolled": true
   },
   "outputs": [],
   "source": [
    "times = {\n",
    "    _: timing.at_paths(suffix=(re.compile('hy_upwindtransverseflux_\\..*'),)).compact\n",
    "    for _, timing in timings.items()}"
   ]
  },
  {
   "cell_type": "code",
   "execution_count": 69,
   "metadata": {},
   "outputs": [],
   "source": [
    "comparisons = {}\n",
    "for problem in problems:\n",
    "    problem_times = {name: val for name, val in times.items() if name[1] == problem}\n",
    "    comparisons[problem] = pd.DataFrame(\n",
    "        data=[val.values.tolist()[0] for _, val in problem_times.items()], index=list(problem_times.keys()),\n",
    "        columns=next(iter(problem_times.values())).columns.values)\n",
    "\n",
    "    base = comparisons[problem].at[(problem, 'base'), 'CPUTIME (usec):Mean (I)']\n",
    "    comparisons[problem].insert(\n",
    "        0, 'speedup vs base',\n",
    "        [base / row['CPUTIME (usec):Mean (I)'] for _, row in comparisons[problem].iterrows()])"
   ]
  },
  {
   "cell_type": "code",
   "execution_count": 70,
   "metadata": {},
   "outputs": [
    {
     "data": {
      "text/html": [
       "<div>\n",
       "<style scoped>\n",
       "    .dataframe tbody tr th:only-of-type {\n",
       "        vertical-align: middle;\n",
       "    }\n",
       "\n",
       "    .dataframe tbody tr th {\n",
       "        vertical-align: top;\n",
       "    }\n",
       "\n",
       "    .dataframe thead th {\n",
       "        text-align: right;\n",
       "    }\n",
       "</style>\n",
       "<table border=\"1\" class=\"dataframe\">\n",
       "  <thead>\n",
       "    <tr style=\"text-align: right;\">\n",
       "      <th></th>\n",
       "      <th>speedup vs base</th>\n",
       "      <th>CPUTIME (usec):Mean (I)</th>\n",
       "      <th>CPUTIME (usec):Mean (I) ratio of total</th>\n",
       "      <th>CPUTIME (usec):Mean (I) ratio of parent</th>\n",
       "    </tr>\n",
       "  </thead>\n",
       "  <tbody>\n",
       "    <tr>\n",
       "      <th>(base, Sedov)</th>\n",
       "      <td>1.000000</td>\n",
       "      <td>1165760.0</td>\n",
       "      <td>0.059613</td>\n",
       "      <td>0.153087</td>\n",
       "    </tr>\n",
       "    <tr>\n",
       "      <th>(outlined, Sedov)</th>\n",
       "      <td>0.766065</td>\n",
       "      <td>1521750.0</td>\n",
       "      <td>0.075546</td>\n",
       "      <td>0.191413</td>\n",
       "    </tr>\n",
       "    <tr>\n",
       "      <th>(autoinlined, Sedov)</th>\n",
       "      <td>1.054090</td>\n",
       "      <td>1105940.0</td>\n",
       "      <td>0.056652</td>\n",
       "      <td>0.148719</td>\n",
       "    </tr>\n",
       "  </tbody>\n",
       "</table>\n",
       "</div>"
      ],
      "text/plain": [
       "                      speedup vs base  CPUTIME (usec):Mean (I)  \\\n",
       "(base, Sedov)                1.000000                1165760.0   \n",
       "(outlined, Sedov)            0.766065                1521750.0   \n",
       "(autoinlined, Sedov)         1.054090                1105940.0   \n",
       "\n",
       "                      CPUTIME (usec):Mean (I) ratio of total  \\\n",
       "(base, Sedov)                                       0.059613   \n",
       "(outlined, Sedov)                                   0.075546   \n",
       "(autoinlined, Sedov)                                0.056652   \n",
       "\n",
       "                      CPUTIME (usec):Mean (I) ratio of parent  \n",
       "(base, Sedov)                                        0.153087  \n",
       "(outlined, Sedov)                                    0.191413  \n",
       "(autoinlined, Sedov)                                 0.148719  "
      ]
     },
     "execution_count": 70,
     "metadata": {},
     "output_type": "execute_result"
    }
   ],
   "source": [
    "comparisons['Sedov']"
   ]
  },
  {
   "cell_type": "code",
   "execution_count": 71,
   "metadata": {},
   "outputs": [
    {
     "data": {
      "text/html": [
       "<div>\n",
       "<style scoped>\n",
       "    .dataframe tbody tr th:only-of-type {\n",
       "        vertical-align: middle;\n",
       "    }\n",
       "\n",
       "    .dataframe tbody tr th {\n",
       "        vertical-align: top;\n",
       "    }\n",
       "\n",
       "    .dataframe thead th {\n",
       "        text-align: right;\n",
       "    }\n",
       "</style>\n",
       "<table border=\"1\" class=\"dataframe\">\n",
       "  <thead>\n",
       "    <tr style=\"text-align: right;\">\n",
       "      <th></th>\n",
       "      <th>speedup vs base</th>\n",
       "      <th>CPUTIME (usec):Mean (I)</th>\n",
       "      <th>CPUTIME (usec):Mean (I) ratio of total</th>\n",
       "      <th>CPUTIME (usec):Mean (I) ratio of parent</th>\n",
       "    </tr>\n",
       "  </thead>\n",
       "  <tbody>\n",
       "    <tr>\n",
       "      <th>(base, Sod)</th>\n",
       "      <td>1.000000</td>\n",
       "      <td>945516.0</td>\n",
       "      <td>0.081821</td>\n",
       "      <td>0.293096</td>\n",
       "    </tr>\n",
       "    <tr>\n",
       "      <th>(outlined, Sod)</th>\n",
       "      <td>0.783505</td>\n",
       "      <td>1206778.0</td>\n",
       "      <td>0.097547</td>\n",
       "      <td>0.333384</td>\n",
       "    </tr>\n",
       "    <tr>\n",
       "      <th>(autoinlined, Sod)</th>\n",
       "      <td>1.005937</td>\n",
       "      <td>939936.0</td>\n",
       "      <td>0.081339</td>\n",
       "      <td>0.286377</td>\n",
       "    </tr>\n",
       "  </tbody>\n",
       "</table>\n",
       "</div>"
      ],
      "text/plain": [
       "                    speedup vs base  CPUTIME (usec):Mean (I)  \\\n",
       "(base, Sod)                1.000000                 945516.0   \n",
       "(outlined, Sod)            0.783505                1206778.0   \n",
       "(autoinlined, Sod)         1.005937                 939936.0   \n",
       "\n",
       "                    CPUTIME (usec):Mean (I) ratio of total  \\\n",
       "(base, Sod)                                       0.081821   \n",
       "(outlined, Sod)                                   0.097547   \n",
       "(autoinlined, Sod)                                0.081339   \n",
       "\n",
       "                    CPUTIME (usec):Mean (I) ratio of parent  \n",
       "(base, Sod)                                        0.293096  \n",
       "(outlined, Sod)                                    0.333384  \n",
       "(autoinlined, Sod)                                 0.286377  "
      ]
     },
     "execution_count": 71,
     "metadata": {},
     "output_type": "execute_result"
    }
   ],
   "source": [
    "comparisons['Sod']"
   ]
  },
  {
   "cell_type": "markdown",
   "metadata": {},
   "source": [
    "# scaling"
   ]
  },
  {
   "cell_type": "markdown",
   "metadata": {},
   "source": [
    "experiment 3"
   ]
  },
  {
   "cell_type": "code",
   "execution_count": null,
   "metadata": {},
   "outputs": [],
   "source": [
    "logging.getLogger('hpctoolkit_dataframe').setLevel(logging.INFO)"
   ]
  },
  {
   "cell_type": "code",
   "execution_count": 41,
   "metadata": {},
   "outputs": [],
   "source": [
    "_cols = [\n",
    "    'file', 'line', 'procedure',\n",
    "    'PAPI_TOT_CYC:Mean (I)', 'CPUTIME (usec):Mean (I)', 'CPUTIME (usec):Mean:num-src (I)']"
   ]
  },
  {
   "cell_type": "code",
   "execution_count": 42,
   "metadata": {},
   "outputs": [
    {
     "data": {
      "text/html": [
       "<div>\n",
       "<style scoped>\n",
       "    .dataframe tbody tr th:only-of-type {\n",
       "        vertical-align: middle;\n",
       "    }\n",
       "\n",
       "    .dataframe tbody tr th {\n",
       "        vertical-align: top;\n",
       "    }\n",
       "\n",
       "    .dataframe thead th {\n",
       "        text-align: right;\n",
       "    }\n",
       "</style>\n",
       "<table border=\"1\" class=\"dataframe\">\n",
       "  <thead>\n",
       "    <tr style=\"text-align: right;\">\n",
       "      <th></th>\n",
       "      <th>file</th>\n",
       "      <th>line</th>\n",
       "      <th>procedure</th>\n",
       "      <th>PAPI_TOT_CYC:Mean (I)</th>\n",
       "      <th>CPUTIME (usec):Mean (I)</th>\n",
       "      <th>CPUTIME (usec):Mean:num-src (I)</th>\n",
       "    </tr>\n",
       "  </thead>\n",
       "  <tbody>\n",
       "    <tr>\n",
       "      <th>8280</th>\n",
       "      <td>&lt;unknown file&gt; [flash4]</td>\n",
       "      <td>0</td>\n",
       "      <td>hy_datareconstructnormaldir_mh_</td>\n",
       "      <td>1.264030e+10</td>\n",
       "      <td>3948620.0</td>\n",
       "      <td>1.0</td>\n",
       "    </tr>\n",
       "    <tr>\n",
       "      <th>8472</th>\n",
       "      <td>&lt;unknown file&gt; [flash4]</td>\n",
       "      <td>0</td>\n",
       "      <td>hy_upwindtransverseflux_</td>\n",
       "      <td>3.791800e+09</td>\n",
       "      <td>1048990.0</td>\n",
       "      <td>1.0</td>\n",
       "    </tr>\n",
       "    <tr>\n",
       "      <th>8528</th>\n",
       "      <td>&lt;unknown file&gt; [flash4]</td>\n",
       "      <td>0</td>\n",
       "      <td>NaN</td>\n",
       "      <td>3.282500e+09</td>\n",
       "      <td>857432.0</td>\n",
       "      <td>1.0</td>\n",
       "    </tr>\n",
       "  </tbody>\n",
       "</table>\n",
       "</div>"
      ],
      "text/plain": [
       "                         file  line                        procedure  \\\n",
       "8280  <unknown file> [flash4]     0  hy_datareconstructnormaldir_mh_   \n",
       "8472  <unknown file> [flash4]     0         hy_upwindtransverseflux_   \n",
       "8528  <unknown file> [flash4]     0                              NaN   \n",
       "\n",
       "      PAPI_TOT_CYC:Mean (I)  CPUTIME (usec):Mean (I)  \\\n",
       "8280           1.264030e+10                3948620.0   \n",
       "8472           3.791800e+09                1048990.0   \n",
       "8528           3.282500e+09                 857432.0   \n",
       "\n",
       "      CPUTIME (usec):Mean:num-src (I)  \n",
       "8280                              1.0  \n",
       "8472                              1.0  \n",
       "8528                              1.0  "
      ]
     },
     "execution_count": 42,
     "metadata": {},
     "output_type": "execute_result"
    }
   ],
   "source": [
    "hot_paths['Sod', 'base', 1][_cols][-3:]"
   ]
  },
  {
   "cell_type": "code",
   "execution_count": 43,
   "metadata": {},
   "outputs": [
    {
     "data": {
      "text/html": [
       "<div>\n",
       "<style scoped>\n",
       "    .dataframe tbody tr th:only-of-type {\n",
       "        vertical-align: middle;\n",
       "    }\n",
       "\n",
       "    .dataframe tbody tr th {\n",
       "        vertical-align: top;\n",
       "    }\n",
       "\n",
       "    .dataframe thead th {\n",
       "        text-align: right;\n",
       "    }\n",
       "</style>\n",
       "<table border=\"1\" class=\"dataframe\">\n",
       "  <thead>\n",
       "    <tr style=\"text-align: right;\">\n",
       "      <th></th>\n",
       "      <th>file</th>\n",
       "      <th>line</th>\n",
       "      <th>procedure</th>\n",
       "      <th>PAPI_TOT_CYC:Mean (I)</th>\n",
       "      <th>CPUTIME (usec):Mean (I)</th>\n",
       "      <th>CPUTIME (usec):Mean:num-src (I)</th>\n",
       "    </tr>\n",
       "  </thead>\n",
       "  <tbody>\n",
       "    <tr>\n",
       "      <th>13621</th>\n",
       "      <td>&lt;unknown file&gt; [flash4]</td>\n",
       "      <td>0</td>\n",
       "      <td>hy_datareconstructnormaldir_mh_</td>\n",
       "      <td>6.310650e+09</td>\n",
       "      <td>2151080.0</td>\n",
       "      <td>2.0</td>\n",
       "    </tr>\n",
       "    <tr>\n",
       "      <th>13919</th>\n",
       "      <td>&lt;unknown file&gt; [flash4]</td>\n",
       "      <td>0</td>\n",
       "      <td>hy_upwindtransverseflux_</td>\n",
       "      <td>1.889900e+09</td>\n",
       "      <td>592360.0</td>\n",
       "      <td>2.0</td>\n",
       "    </tr>\n",
       "    <tr>\n",
       "      <th>13980</th>\n",
       "      <td>&lt;unknown file&gt; [flash4]</td>\n",
       "      <td>0</td>\n",
       "      <td>NaN</td>\n",
       "      <td>1.626650e+09</td>\n",
       "      <td>516650.0</td>\n",
       "      <td>2.0</td>\n",
       "    </tr>\n",
       "  </tbody>\n",
       "</table>\n",
       "</div>"
      ],
      "text/plain": [
       "                          file  line                        procedure  \\\n",
       "13621  <unknown file> [flash4]     0  hy_datareconstructnormaldir_mh_   \n",
       "13919  <unknown file> [flash4]     0         hy_upwindtransverseflux_   \n",
       "13980  <unknown file> [flash4]     0                              NaN   \n",
       "\n",
       "       PAPI_TOT_CYC:Mean (I)  CPUTIME (usec):Mean (I)  \\\n",
       "13621           6.310650e+09                2151080.0   \n",
       "13919           1.889900e+09                 592360.0   \n",
       "13980           1.626650e+09                 516650.0   \n",
       "\n",
       "       CPUTIME (usec):Mean:num-src (I)  \n",
       "13621                              2.0  \n",
       "13919                              2.0  \n",
       "13980                              2.0  "
      ]
     },
     "execution_count": 43,
     "metadata": {},
     "output_type": "execute_result"
    }
   ],
   "source": [
    "hot_paths['Sod', 'base', 2][_cols][-3:]"
   ]
  },
  {
   "cell_type": "code",
   "execution_count": 44,
   "metadata": {},
   "outputs": [
    {
     "data": {
      "text/html": [
       "<div>\n",
       "<style scoped>\n",
       "    .dataframe tbody tr th:only-of-type {\n",
       "        vertical-align: middle;\n",
       "    }\n",
       "\n",
       "    .dataframe tbody tr th {\n",
       "        vertical-align: top;\n",
       "    }\n",
       "\n",
       "    .dataframe thead th {\n",
       "        text-align: right;\n",
       "    }\n",
       "</style>\n",
       "<table border=\"1\" class=\"dataframe\">\n",
       "  <thead>\n",
       "    <tr style=\"text-align: right;\">\n",
       "      <th></th>\n",
       "      <th>file</th>\n",
       "      <th>line</th>\n",
       "      <th>procedure</th>\n",
       "      <th>PAPI_TOT_CYC:Mean (I)</th>\n",
       "      <th>CPUTIME (usec):Mean (I)</th>\n",
       "      <th>CPUTIME (usec):Mean:num-src (I)</th>\n",
       "    </tr>\n",
       "  </thead>\n",
       "  <tbody>\n",
       "    <tr>\n",
       "      <th>18041</th>\n",
       "      <td>&lt;unknown file&gt; [flash4]</td>\n",
       "      <td>0</td>\n",
       "      <td>hy_datareconstructnormaldir_mh_</td>\n",
       "      <td>3.152425e+09</td>\n",
       "      <td>1095135.0</td>\n",
       "      <td>4.0</td>\n",
       "    </tr>\n",
       "  </tbody>\n",
       "</table>\n",
       "</div>"
      ],
      "text/plain": [
       "                          file  line                        procedure  \\\n",
       "18041  <unknown file> [flash4]     0  hy_datareconstructnormaldir_mh_   \n",
       "\n",
       "       PAPI_TOT_CYC:Mean (I)  CPUTIME (usec):Mean (I)  \\\n",
       "18041           3.152425e+09                1095135.0   \n",
       "\n",
       "       CPUTIME (usec):Mean:num-src (I)  \n",
       "18041                              4.0  "
      ]
     },
     "execution_count": 44,
     "metadata": {},
     "output_type": "execute_result"
    }
   ],
   "source": [
    "hot_paths['Sod', 'base', 4][_cols][-1:]"
   ]
  },
  {
   "cell_type": "code",
   "execution_count": 46,
   "metadata": {},
   "outputs": [
    {
     "name": "stdout",
     "output_type": "stream",
     "text": [
      "transpyle_experiments base\n",
      "scaling efficiency vs 1 MPI rank(s)\n",
      "at 2 MPI ranks: 0.8985329456301092 i.e. loss: 0.10146705436989083\n",
      "at 4 MPI ranks: 0.5713035894931454 i.e. loss: 0.4286964105068546\n"
     ]
    }
   ],
   "source": [
    "# total_cycles = {}\n",
    "column = 'PAPI_TOT_CYC:Mean (I)'\n",
    "#column = 'CPUTIME (usec):Mean (I)'\n",
    "for (branch, nickname), problem in itertools.product(branch_nicknames.items(), problems):\n",
    "    # print(_timing['PAPI_TOT_CYC:Mean (I)'] * mpi_proc, mpi_proc)\n",
    "    #total_cycles[nickname, problem, mpi_proc] = _timing['PAPI_TOT_CYC:Mean (I)']\n",
    "    print(branch, nickname)\n",
    "    base_mpi_proc = mpi_processes[0]\n",
    "    print('scaling efficiency vs', base_mpi_proc, 'MPI rank(s)')\n",
    "    base_value = timings[nickname, problem, base_mpi_proc].loc['()'][column] * base_mpi_proc\n",
    "    #print(base_value)\n",
    "    for mpi_proc in mpi_processes[1:]:\n",
    "        value = timings[nickname, problem, mpi_proc].loc['()'][column] * mpi_proc\n",
    "        #print(value)\n",
    "        loss = (value - base_value) / value\n",
    "        eff = 1.0 - loss\n",
    "        print('at', mpi_proc, 'MPI ranks:', eff, 'i.e. loss:', loss)"
   ]
  },
  {
   "cell_type": "code",
   "execution_count": 18,
   "metadata": {},
   "outputs": [],
   "source": [
    "metrics_by_id = {4: 'PAPI_TOT_CYC:Sum (I)',\n",
    " 5: 'PAPI_TOT_CYC:Mean (I)',\n",
    " 6: 'PAPI_TOT_CYC:Mean:num-src (I)',\n",
    " 7: 'PAPI_TOT_CYC:StdDev (I)',\n",
    " 8: 'PAPI_TOT_CYC:StdDev:accum2 (I)',\n",
    " 9: 'PAPI_TOT_CYC:StdDev:num-src (I)',\n",
    " 10: 'PAPI_TOT_CYC:CfVar (I)',\n",
    " 11: 'PAPI_TOT_CYC:CfVar:accum2 (I)',\n",
    " 12: 'PAPI_TOT_CYC:CfVar:num-src (I)',\n",
    " 13: 'PAPI_TOT_CYC:Min (I)',\n",
    " 14: 'PAPI_TOT_CYC:Max (I)',\n",
    " 15: 'PAPI_TOT_CYC:Sum (E)',\n",
    " 16: 'PAPI_TOT_CYC:Mean (E)',\n",
    " 17: 'PAPI_TOT_CYC:Mean:num-src (E)',\n",
    " 18: 'PAPI_TOT_CYC:StdDev (E)',\n",
    " 19: 'PAPI_TOT_CYC:StdDev:accum2 (E)',\n",
    " 20: 'PAPI_TOT_CYC:StdDev:num-src (E)',\n",
    " 21: 'PAPI_TOT_CYC:CfVar (E)',\n",
    " 22: 'PAPI_TOT_CYC:CfVar:accum2 (E)',\n",
    " 23: 'PAPI_TOT_CYC:CfVar:num-src (E)',\n",
    " 24: 'PAPI_TOT_CYC:Min (E)',\n",
    " 25: 'PAPI_TOT_CYC:Max (E)',\n",
    " 26: 'CPUTIME (usec):Sum (I)',\n",
    " 27: 'CPUTIME (usec):Mean (I)',\n",
    " 28: 'CPUTIME (usec):Mean:num-src (I)',\n",
    " 29: 'CPUTIME (usec):StdDev (I)',\n",
    " 30: 'CPUTIME (usec):StdDev:accum2 (I)',\n",
    " 31: 'CPUTIME (usec):StdDev:num-src (I)',\n",
    " 32: 'CPUTIME (usec):CfVar (I)',\n",
    " 33: 'CPUTIME (usec):CfVar:accum2 (I)',\n",
    " 34: 'CPUTIME (usec):CfVar:num-src (I)',\n",
    " 35: 'CPUTIME (usec):Min (I)',\n",
    " 36: 'CPUTIME (usec):Max (I)',\n",
    " 37: 'CPUTIME (usec):Sum (E)',\n",
    " 38: 'CPUTIME (usec):Mean (E)',\n",
    " 39: 'CPUTIME (usec):Mean:num-src (E)',\n",
    " 40: 'CPUTIME (usec):StdDev (E)',\n",
    " 41: 'CPUTIME (usec):StdDev:accum2 (E)',\n",
    " 42: 'CPUTIME (usec):StdDev:num-src (E)',\n",
    " 43: 'CPUTIME (usec):CfVar (E)',\n",
    " 44: 'CPUTIME (usec):CfVar:accum2 (E)',\n",
    " 45: 'CPUTIME (usec):CfVar:num-src (E)',\n",
    " 46: 'CPUTIME (usec):Min (E)',\n",
    " 47: 'CPUTIME (usec):Max (E)'}"
   ]
  },
  {
   "cell_type": "code",
   "execution_count": 19,
   "metadata": {},
   "outputs": [],
   "source": [
    "data = {'PAPI_TOT_CYC:Sum (I)': 40943900000.0, 'PAPI_TOT_CYC:Mean (I)': 40943900000.0, 'PAPI_TOT_CYC:Mean:num-src (I)': 1.0, 'PAPI_TOT_CYC:StdDev (I)': 40943900000.0, 'PAPI_TOT_CYC:StdDev:accum2 (I)': 1.6764e+21, 'PAPI_TOT_CYC:StdDev:num-src (I)': 1.0, 'PAPI_TOT_CYC:CfVar (I)': 40943900000.0, 'PAPI_TOT_CYC:CfVar:accum2 (I)': 1.6764e+21, 'PAPI_TOT_CYC:CfVar:num-src (I)': 1.0, 'PAPI_TOT_CYC:Min (I)': 40943900000.0, 'PAPI_TOT_CYC:Max (I)': 40943900000.0, 'PAPI_TOT_CYC:Mean:num-src (E)': 1.0, 'PAPI_TOT_CYC:StdDev:num-src (E)': 1.0, 'PAPI_TOT_CYC:CfVar:num-src (E)': 1.0, 'PAPI_TOT_CYC:Min (E)': 2.22507e-308, 'CPUTIME (usec):Sum (I)': 14399400.0, 'CPUTIME (usec):Mean (I)': 14399400.0, 'CPUTIME (usec):Mean:num-src (I)': 1.0, 'CPUTIME (usec):StdDev (I)': 14399400.0, 'CPUTIME (usec):StdDev:accum2 (I)': 207342000000000.0, 'CPUTIME (usec):StdDev:num-src (I)': 1.0, 'CPUTIME (usec):CfVar (I)': 14399400.0, 'CPUTIME (usec):CfVar:accum2 (I)': 207342000000000.0, 'CPUTIME (usec):CfVar:num-src (I)': 1.0, 'CPUTIME (usec):Min (I)': 14399400.0, 'CPUTIME (usec):Max (I)': 14399400.0, 'CPUTIME (usec):Mean:num-src (E)': 1.0, 'CPUTIME (usec):StdDev:num-src (E)': 1.0, 'CPUTIME (usec):CfVar:num-src (E)': 1.0, 'CPUTIME (usec):Min (E)': 2.22507e-308, 'location': ()}"
   ]
  },
  {
   "cell_type": "code",
   "execution_count": 31,
   "metadata": {},
   "outputs": [
    {
     "data": {
      "text/plain": [
       "{'PAPI_TOT_CYC:Sum (I)': 40943900000.0,\n",
       " 'PAPI_TOT_CYC:Mean (I)': 40943900000.0,\n",
       " 'PAPI_TOT_CYC:Mean:num-src (I)': 1.0,\n",
       " 'PAPI_TOT_CYC:StdDev (I)': 40943900000.0,\n",
       " 'PAPI_TOT_CYC:StdDev:accum2 (I)': 1.6764e+21,\n",
       " 'PAPI_TOT_CYC:StdDev:num-src (I)': 1.0,\n",
       " 'PAPI_TOT_CYC:CfVar (I)': 40943900000.0,\n",
       " 'PAPI_TOT_CYC:CfVar:accum2 (I)': 1.6764e+21,\n",
       " 'PAPI_TOT_CYC:CfVar:num-src (I)': 1.0,\n",
       " 'PAPI_TOT_CYC:Min (I)': 40943900000.0,\n",
       " 'PAPI_TOT_CYC:Max (I)': 40943900000.0,\n",
       " 'PAPI_TOT_CYC:Mean:num-src (E)': 1.0,\n",
       " 'PAPI_TOT_CYC:StdDev:num-src (E)': 1.0,\n",
       " 'PAPI_TOT_CYC:CfVar:num-src (E)': 1.0,\n",
       " 'PAPI_TOT_CYC:Min (E)': 2.22507e-308,\n",
       " 'CPUTIME (usec):Sum (I)': 14399400.0,\n",
       " 'CPUTIME (usec):Mean (I)': 14399400.0,\n",
       " 'CPUTIME (usec):Mean:num-src (I)': 1.0,\n",
       " 'CPUTIME (usec):StdDev (I)': 14399400.0,\n",
       " 'CPUTIME (usec):StdDev:accum2 (I)': 207342000000000.0,\n",
       " 'CPUTIME (usec):StdDev:num-src (I)': 1.0,\n",
       " 'CPUTIME (usec):CfVar (I)': 14399400.0,\n",
       " 'CPUTIME (usec):CfVar:accum2 (I)': 207342000000000.0,\n",
       " 'CPUTIME (usec):CfVar:num-src (I)': 1.0,\n",
       " 'CPUTIME (usec):Min (I)': 14399400.0,\n",
       " 'CPUTIME (usec):Max (I)': 14399400.0,\n",
       " 'CPUTIME (usec):Mean:num-src (E)': 1.0,\n",
       " 'CPUTIME (usec):StdDev:num-src (E)': 1.0,\n",
       " 'CPUTIME (usec):CfVar:num-src (E)': 1.0,\n",
       " 'CPUTIME (usec):Min (E)': 2.22507e-308,\n",
       " 'location': ()}"
      ]
     },
     "execution_count": 31,
     "metadata": {},
     "output_type": "execute_result"
    }
   ],
   "source": [
    "data"
   ]
  },
  {
   "cell_type": "code",
   "execution_count": 23,
   "metadata": {},
   "outputs": [],
   "source": [
    "from math import sqrt"
   ]
  },
  {
   "cell_type": "code",
   "execution_count": 22,
   "metadata": {},
   "outputs": [
    {
     "ename": "ValueError",
     "evalue": "math domain error",
     "output_type": "error",
     "traceback": [
      "\u001b[0;31m---------------------------------------------------------------------------\u001b[0m",
      "\u001b[0;31mValueError\u001b[0m                                Traceback (most recent call last)",
      "\u001b[0;32m<ipython-input-22-bf94947d0f05>\u001b[0m in \u001b[0;36m<module>\u001b[0;34m()\u001b[0m\n\u001b[0;32m----> 1\u001b[0;31m \u001b[0msqrt\u001b[0m\u001b[0;34m(\u001b[0m\u001b[0;34m(\u001b[0m\u001b[0mdata\u001b[0m\u001b[0;34m.\u001b[0m\u001b[0mget\u001b[0m\u001b[0;34m(\u001b[0m\u001b[0mmetrics_by_id\u001b[0m\u001b[0;34m[\u001b[0m\u001b[0;36m8\u001b[0m\u001b[0;34m]\u001b[0m\u001b[0;34m)\u001b[0m \u001b[0;34m/\u001b[0m \u001b[0mdata\u001b[0m\u001b[0;34m.\u001b[0m\u001b[0mget\u001b[0m\u001b[0;34m(\u001b[0m\u001b[0mmetrics_by_id\u001b[0m\u001b[0;34m[\u001b[0m\u001b[0;36m9\u001b[0m\u001b[0;34m]\u001b[0m\u001b[0;34m)\u001b[0m\u001b[0;34m)\u001b[0m \u001b[0;34m-\u001b[0m \u001b[0mpow\u001b[0m\u001b[0;34m(\u001b[0m\u001b[0mdata\u001b[0m\u001b[0;34m.\u001b[0m\u001b[0mget\u001b[0m\u001b[0;34m(\u001b[0m\u001b[0mmetrics_by_id\u001b[0m\u001b[0;34m[\u001b[0m\u001b[0;36m7\u001b[0m\u001b[0;34m]\u001b[0m\u001b[0;34m)\u001b[0m \u001b[0;34m/\u001b[0m \u001b[0mdata\u001b[0m\u001b[0;34m.\u001b[0m\u001b[0mget\u001b[0m\u001b[0;34m(\u001b[0m\u001b[0mmetrics_by_id\u001b[0m\u001b[0;34m[\u001b[0m\u001b[0;36m9\u001b[0m\u001b[0;34m]\u001b[0m\u001b[0;34m)\u001b[0m\u001b[0;34m,\u001b[0m \u001b[0;36m2\u001b[0m\u001b[0;34m)\u001b[0m\u001b[0;34m)\u001b[0m\u001b[0;34m\u001b[0m\u001b[0m\n\u001b[0m",
      "\u001b[0;31mValueError\u001b[0m: math domain error"
     ]
    }
   ],
   "source": [
    "sqrt(\n",
    "    (data.get(metrics_by_id[8]) / data.get(metrics_by_id[9]))\n",
    "    - pow(data.get(metrics_by_id[7]) / data.get(metrics_by_id[9]), 2))"
   ]
  },
  {
   "cell_type": "code",
   "execution_count": 29,
   "metadata": {},
   "outputs": [],
   "source": [
    "_ = (data.get(metrics_by_id[8]) / data.get(metrics_by_id[9])) - pow(data.get(metrics_by_id[7]) / data.get(metrics_by_id[9]), 2)"
   ]
  },
  {
   "cell_type": "code",
   "execution_count": 30,
   "metadata": {},
   "outputs": [
    {
     "ename": "ValueError",
     "evalue": "math domain error",
     "output_type": "error",
     "traceback": [
      "\u001b[0;31m---------------------------------------------------------------------------\u001b[0m",
      "\u001b[0;31mValueError\u001b[0m                                Traceback (most recent call last)",
      "\u001b[0;32m<ipython-input-30-cacd2f52e06a>\u001b[0m in \u001b[0;36m<module>\u001b[0;34m()\u001b[0m\n\u001b[0;32m----> 1\u001b[0;31m \u001b[0msqrt\u001b[0m\u001b[0;34m(\u001b[0m\u001b[0m_\u001b[0m\u001b[0;34m)\u001b[0m\u001b[0;34m\u001b[0m\u001b[0m\n\u001b[0m",
      "\u001b[0;31mValueError\u001b[0m: math domain error"
     ]
    }
   ],
   "source": [
    "sqrt(_)"
   ]
  },
  {
   "cell_type": "markdown",
   "metadata": {},
   "source": [
    "## SNIa scaling\n",
    "\n",
    "experiment 4"
   ]
  },
  {
   "cell_type": "code",
   "execution_count": 11,
   "metadata": {},
   "outputs": [
    {
     "name": "stdout",
     "output_type": "stream",
     "text": [
      "CPU times: user 6.45 s, sys: 111 ms, total: 6.56 s\n",
      "Wall time: 6.71 s\n"
     ]
    }
   ],
   "source": [
    "%%time\n",
    "\n",
    "timings = {}\n",
    "hot_paths = {}\n",
    "\n",
    "for (branch, nickname), (problem, options), mpi_proc in itertools.product(\n",
    "        branch_nicknames.items(), problems, mpi_processes):\n",
    "    test_name = test_name_template.format(problem, nickname, mpi_proc)\n",
    "    _profile_path = profile_db_path(test_date, test_name=test_name).joinpath('experiment.xml')\n",
    "    df = HPCtoolkitDataFrame(path=_profile_path)\n",
    "    timings[nickname, problem, mpi_proc] = df\n",
    "    hot_paths[nickname, problem, mpi_proc] = df.hot_path()"
   ]
  },
  {
   "cell_type": "code",
   "execution_count": 13,
   "metadata": {
    "scrolled": false
   },
   "outputs": [
    {
     "data": {
      "text/html": [
       "<div>\n",
       "<style scoped>\n",
       "    .dataframe tbody tr th:only-of-type {\n",
       "        vertical-align: middle;\n",
       "    }\n",
       "\n",
       "    .dataframe tbody tr th {\n",
       "        vertical-align: top;\n",
       "    }\n",
       "\n",
       "    .dataframe thead th {\n",
       "        text-align: right;\n",
       "    }\n",
       "</style>\n",
       "<table border=\"1\" class=\"dataframe\">\n",
       "  <thead>\n",
       "    <tr style=\"text-align: right;\">\n",
       "      <th></th>\n",
       "      <th>CPUTIME (usec):Mean (I)</th>\n",
       "      <th>CPUTIME (usec):Mean (I) ratio of total</th>\n",
       "      <th>CPUTIME (usec):Mean (I) ratio of parent</th>\n",
       "    </tr>\n",
       "  </thead>\n",
       "  <tbody>\n",
       "    <tr>\n",
       "      <th>()</th>\n",
       "      <td>14374800.0</td>\n",
       "      <td>1.000000</td>\n",
       "      <td>1.000000</td>\n",
       "    </tr>\n",
       "    <tr>\n",
       "      <th>('&lt;program root&gt;.10',)</th>\n",
       "      <td>14358800.0</td>\n",
       "      <td>0.998887</td>\n",
       "      <td>0.998887</td>\n",
       "    </tr>\n",
       "    <tr>\n",
       "      <th>('&lt;program root&gt;.10', 'main.12')</th>\n",
       "      <td>14358800.0</td>\n",
       "      <td>0.998887</td>\n",
       "      <td>1.000000</td>\n",
       "    </tr>\n",
       "    <tr>\n",
       "      <th>('&lt;program root&gt;.10', 'main.12', 'driver_evolveflash_.698')</th>\n",
       "      <td>14076400.0</td>\n",
       "      <td>0.979241</td>\n",
       "      <td>0.980333</td>\n",
       "    </tr>\n",
       "    <tr>\n",
       "      <th>('&lt;program root&gt;.10', 'main.12', 'driver_evolveflash_.698', '&lt;loop 458.748&gt;')</th>\n",
       "      <td>14020400.0</td>\n",
       "      <td>0.975346</td>\n",
       "      <td>0.996022</td>\n",
       "    </tr>\n",
       "    <tr>\n",
       "      <th>('&lt;program root&gt;.10', 'main.12', 'driver_evolveflash_.698', '&lt;loop 458.748&gt;', 'hydro_.3210')</th>\n",
       "      <td>12120700.0</td>\n",
       "      <td>0.843191</td>\n",
       "      <td>0.864505</td>\n",
       "    </tr>\n",
       "    <tr>\n",
       "      <th>('&lt;program root&gt;.10', 'main.12', 'driver_evolveflash_.698', '&lt;loop 458.748&gt;', 'hydro_.3210', 'hy_advance_.4836')</th>\n",
       "      <td>9637450.0</td>\n",
       "      <td>0.670441</td>\n",
       "      <td>0.795123</td>\n",
       "    </tr>\n",
       "    <tr>\n",
       "      <th>('&lt;program root&gt;.10', 'main.12', 'driver_evolveflash_.698', '&lt;loop 458.748&gt;', 'hydro_.3210', 'hy_advance_.4836', '&lt;loop 6582.5132&gt;')</th>\n",
       "      <td>9246560.0</td>\n",
       "      <td>0.643248</td>\n",
       "      <td>0.959441</td>\n",
       "    </tr>\n",
       "    <tr>\n",
       "      <th>('&lt;program root&gt;.10', 'main.12', 'driver_evolveflash_.698', '&lt;loop 458.748&gt;', 'hydro_.3210', 'hy_advance_.4836', '&lt;loop 6582.5132&gt;', 'hy_computefluxes_.5134')</th>\n",
       "      <td>9218620.0</td>\n",
       "      <td>0.641304</td>\n",
       "      <td>0.996978</td>\n",
       "    </tr>\n",
       "    <tr>\n",
       "      <th>('&lt;program root&gt;.10', 'main.12', 'driver_evolveflash_.698', '&lt;loop 458.748&gt;', 'hydro_.3210', 'hy_advance_.4836', '&lt;loop 6582.5132&gt;', 'hy_computefluxes_.5134', 'hy_getriemannstate_.7137')</th>\n",
       "      <td>6027370.0</td>\n",
       "      <td>0.419301</td>\n",
       "      <td>0.653826</td>\n",
       "    </tr>\n",
       "    <tr>\n",
       "      <th>('&lt;program root&gt;.10', 'main.12', 'driver_evolveflash_.698', '&lt;loop 458.748&gt;', 'hydro_.3210', 'hy_advance_.4836', '&lt;loop 6582.5132&gt;', 'hy_computefluxes_.5134', 'hy_getriemannstate_.7137', '&lt;loop 6842.7262&gt;')</th>\n",
       "      <td>5979490.0</td>\n",
       "      <td>0.415970</td>\n",
       "      <td>0.992056</td>\n",
       "    </tr>\n",
       "    <tr>\n",
       "      <th>('&lt;program root&gt;.10', 'main.12', 'driver_evolveflash_.698', '&lt;loop 458.748&gt;', 'hydro_.3210', 'hy_advance_.4836', '&lt;loop 6582.5132&gt;', 'hy_computefluxes_.5134', 'hy_getriemannstate_.7137', '&lt;loop 6842.7262&gt;', '&lt;loop 6844.7264&gt;')</th>\n",
       "      <td>5963510.0</td>\n",
       "      <td>0.414859</td>\n",
       "      <td>0.997328</td>\n",
       "    </tr>\n",
       "    <tr>\n",
       "      <th>('&lt;program root&gt;.10', 'main.12', 'driver_evolveflash_.698', '&lt;loop 458.748&gt;', 'hydro_.3210', 'hy_advance_.4836', '&lt;loop 6582.5132&gt;', 'hy_computefluxes_.5134', 'hy_getriemannstate_.7137', '&lt;loop 6842.7262&gt;', '&lt;loop 6844.7264&gt;', 'hy_datareconstonestep_.7446')</th>\n",
       "      <td>5213500.0</td>\n",
       "      <td>0.362683</td>\n",
       "      <td>0.874233</td>\n",
       "    </tr>\n",
       "    <tr>\n",
       "      <th>('&lt;program root&gt;.10', 'main.12', 'driver_evolveflash_.698', '&lt;loop 458.748&gt;', 'hydro_.3210', 'hy_advance_.4836', '&lt;loop 6582.5132&gt;', 'hy_computefluxes_.5134', 'hy_getriemannstate_.7137', '&lt;loop 6842.7262&gt;', '&lt;loop 6844.7264&gt;', 'hy_datareconstonestep_.7446', '&lt;loop 6658.8342&gt;')</th>\n",
       "      <td>4244140.0</td>\n",
       "      <td>0.295249</td>\n",
       "      <td>0.814067</td>\n",
       "    </tr>\n",
       "    <tr>\n",
       "      <th>('&lt;program root&gt;.10', 'main.12', 'driver_evolveflash_.698', '&lt;loop 458.748&gt;', 'hydro_.3210', 'hy_advance_.4836', '&lt;loop 6582.5132&gt;', 'hy_computefluxes_.5134', 'hy_getriemannstate_.7137', '&lt;loop 6842.7262&gt;', '&lt;loop 6844.7264&gt;', 'hy_datareconstonestep_.7446', '&lt;loop 6658.8342&gt;', 'hy_datareconstructnormaldir_mh_.8388')</th>\n",
       "      <td>4036700.0</td>\n",
       "      <td>0.280818</td>\n",
       "      <td>0.951123</td>\n",
       "    </tr>\n",
       "    <tr>\n",
       "      <th>('&lt;program root&gt;.10', 'main.12', 'driver_evolveflash_.698', '&lt;loop 458.748&gt;', 'hydro_.3210', 'hy_advance_.4836', '&lt;loop 6582.5132&gt;', 'hy_computefluxes_.5134', 'hy_getriemannstate_.7137', '&lt;loop 6842.7262&gt;', '&lt;loop 6844.7264&gt;', 'hy_datareconstonestep_.7446', '&lt;loop 6658.8342&gt;', 'hy_datareconstructnormaldir_mh_.8388', 'hy_upwindtransverseflux_.8603')</th>\n",
       "      <td>1156540.0</td>\n",
       "      <td>0.080456</td>\n",
       "      <td>0.286506</td>\n",
       "    </tr>\n",
       "    <tr>\n",
       "      <th>('&lt;program root&gt;.10', 'main.12', 'driver_evolveflash_.698', '&lt;loop 458.748&gt;', 'hydro_.3210', 'hy_advance_.4836', '&lt;loop 6582.5132&gt;', 'hy_computefluxes_.5134', 'hy_getriemannstate_.7137', '&lt;loop 6842.7262&gt;', '&lt;loop 6844.7264&gt;', 'hy_datareconstonestep_.7446', '&lt;loop 6658.8342&gt;', 'hy_datareconstructnormaldir_mh_.8388', 'hy_upwindtransverseflux_.8603', '&lt;loop 7150.8644&gt;')</th>\n",
       "      <td>997001.0</td>\n",
       "      <td>0.069358</td>\n",
       "      <td>0.862055</td>\n",
       "    </tr>\n",
       "  </tbody>\n",
       "</table>\n",
       "</div>"
      ],
      "text/plain": [
       "                                                    CPUTIME (usec):Mean (I)  \\\n",
       "()                                                               14374800.0   \n",
       "('<program root>.10',)                                           14358800.0   \n",
       "('<program root>.10', 'main.12')                                 14358800.0   \n",
       "('<program root>.10', 'main.12', 'driver_evolve...               14076400.0   \n",
       "('<program root>.10', 'main.12', 'driver_evolve...               14020400.0   \n",
       "('<program root>.10', 'main.12', 'driver_evolve...               12120700.0   \n",
       "('<program root>.10', 'main.12', 'driver_evolve...                9637450.0   \n",
       "('<program root>.10', 'main.12', 'driver_evolve...                9246560.0   \n",
       "('<program root>.10', 'main.12', 'driver_evolve...                9218620.0   \n",
       "('<program root>.10', 'main.12', 'driver_evolve...                6027370.0   \n",
       "('<program root>.10', 'main.12', 'driver_evolve...                5979490.0   \n",
       "('<program root>.10', 'main.12', 'driver_evolve...                5963510.0   \n",
       "('<program root>.10', 'main.12', 'driver_evolve...                5213500.0   \n",
       "('<program root>.10', 'main.12', 'driver_evolve...                4244140.0   \n",
       "('<program root>.10', 'main.12', 'driver_evolve...                4036700.0   \n",
       "('<program root>.10', 'main.12', 'driver_evolve...                1156540.0   \n",
       "('<program root>.10', 'main.12', 'driver_evolve...                 997001.0   \n",
       "\n",
       "                                                    CPUTIME (usec):Mean (I) ratio of total  \\\n",
       "()                                                                                1.000000   \n",
       "('<program root>.10',)                                                            0.998887   \n",
       "('<program root>.10', 'main.12')                                                  0.998887   \n",
       "('<program root>.10', 'main.12', 'driver_evolve...                                0.979241   \n",
       "('<program root>.10', 'main.12', 'driver_evolve...                                0.975346   \n",
       "('<program root>.10', 'main.12', 'driver_evolve...                                0.843191   \n",
       "('<program root>.10', 'main.12', 'driver_evolve...                                0.670441   \n",
       "('<program root>.10', 'main.12', 'driver_evolve...                                0.643248   \n",
       "('<program root>.10', 'main.12', 'driver_evolve...                                0.641304   \n",
       "('<program root>.10', 'main.12', 'driver_evolve...                                0.419301   \n",
       "('<program root>.10', 'main.12', 'driver_evolve...                                0.415970   \n",
       "('<program root>.10', 'main.12', 'driver_evolve...                                0.414859   \n",
       "('<program root>.10', 'main.12', 'driver_evolve...                                0.362683   \n",
       "('<program root>.10', 'main.12', 'driver_evolve...                                0.295249   \n",
       "('<program root>.10', 'main.12', 'driver_evolve...                                0.280818   \n",
       "('<program root>.10', 'main.12', 'driver_evolve...                                0.080456   \n",
       "('<program root>.10', 'main.12', 'driver_evolve...                                0.069358   \n",
       "\n",
       "                                                    CPUTIME (usec):Mean (I) ratio of parent  \n",
       "()                                                                                 1.000000  \n",
       "('<program root>.10',)                                                             0.998887  \n",
       "('<program root>.10', 'main.12')                                                   1.000000  \n",
       "('<program root>.10', 'main.12', 'driver_evolve...                                 0.980333  \n",
       "('<program root>.10', 'main.12', 'driver_evolve...                                 0.996022  \n",
       "('<program root>.10', 'main.12', 'driver_evolve...                                 0.864505  \n",
       "('<program root>.10', 'main.12', 'driver_evolve...                                 0.795123  \n",
       "('<program root>.10', 'main.12', 'driver_evolve...                                 0.959441  \n",
       "('<program root>.10', 'main.12', 'driver_evolve...                                 0.996978  \n",
       "('<program root>.10', 'main.12', 'driver_evolve...                                 0.653826  \n",
       "('<program root>.10', 'main.12', 'driver_evolve...                                 0.992056  \n",
       "('<program root>.10', 'main.12', 'driver_evolve...                                 0.997328  \n",
       "('<program root>.10', 'main.12', 'driver_evolve...                                 0.874233  \n",
       "('<program root>.10', 'main.12', 'driver_evolve...                                 0.814067  \n",
       "('<program root>.10', 'main.12', 'driver_evolve...                                 0.951123  \n",
       "('<program root>.10', 'main.12', 'driver_evolve...                                 0.286506  \n",
       "('<program root>.10', 'main.12', 'driver_evolve...                                 0.862055  "
      ]
     },
     "execution_count": 13,
     "metadata": {},
     "output_type": "execute_result"
    }
   ],
   "source": [
    "hot_paths['base', 'SNIa_DoubleDetonation', 0][:].compact"
   ]
  },
  {
   "cell_type": "code",
   "execution_count": 18,
   "metadata": {
    "scrolled": false
   },
   "outputs": [
    {
     "data": {
      "text/html": [
       "<div>\n",
       "<style scoped>\n",
       "    .dataframe tbody tr th:only-of-type {\n",
       "        vertical-align: middle;\n",
       "    }\n",
       "\n",
       "    .dataframe tbody tr th {\n",
       "        vertical-align: top;\n",
       "    }\n",
       "\n",
       "    .dataframe thead th {\n",
       "        text-align: right;\n",
       "    }\n",
       "</style>\n",
       "<table border=\"1\" class=\"dataframe\">\n",
       "  <thead>\n",
       "    <tr style=\"text-align: right;\">\n",
       "      <th></th>\n",
       "      <th>CPUTIME (usec):Mean (I)</th>\n",
       "      <th>CPUTIME (usec):Mean (I) ratio of total</th>\n",
       "      <th>CPUTIME (usec):Mean (I) ratio of parent</th>\n",
       "    </tr>\n",
       "  </thead>\n",
       "  <tbody>\n",
       "    <tr>\n",
       "      <th>('&lt;program root&gt;.10', 'main.12', 'driver_evolveflash_.698', '&lt;loop 458.748&gt;', 'hydro_.3210', 'hy_advance_.4836', '&lt;loop 6582.5132&gt;', 'hy_computefluxes_.5134', 'hy_getriemannstate_.7137')</th>\n",
       "      <td>6027370.0</td>\n",
       "      <td>0.419301</td>\n",
       "      <td>0.653826</td>\n",
       "    </tr>\n",
       "    <tr>\n",
       "      <th>('&lt;program root&gt;.10', 'main.12', 'driver_evolveflash_.698', '&lt;loop 458.748&gt;', 'hydro_.3210', 'hy_advance_.4836', '&lt;loop 6582.5132&gt;', 'hy_computefluxes_.5134', 'hy_getfaceflux_.5395')</th>\n",
       "      <td>2421240.0</td>\n",
       "      <td>0.168436</td>\n",
       "      <td>0.262647</td>\n",
       "    </tr>\n",
       "    <tr>\n",
       "      <th>('&lt;program root&gt;.10', 'main.12', 'driver_evolveflash_.698', '&lt;loop 458.748&gt;', 'hydro_.3210', 'hy_advance_.4836', '&lt;loop 6582.5132&gt;', 'hy_computefluxes_.5134', 'hy_unsplitupdate_.6637')</th>\n",
       "      <td>219425.0</td>\n",
       "      <td>0.015265</td>\n",
       "      <td>0.023802</td>\n",
       "    </tr>\n",
       "    <tr>\n",
       "      <th>('&lt;program root&gt;.10', 'main.12', 'driver_evolveflash_.698', '&lt;loop 458.748&gt;', 'hydro_.3210', 'hy_advance_.4836', '&lt;loop 6582.5132&gt;', 'hy_computefluxes_.5134', 'eos_wrapped_.6873')</th>\n",
       "      <td>119660.0</td>\n",
       "      <td>0.008324</td>\n",
       "      <td>0.012980</td>\n",
       "    </tr>\n",
       "    <tr>\n",
       "      <th>('&lt;program root&gt;.10', 'main.12', 'driver_evolveflash_.698', '&lt;loop 458.748&gt;', 'hydro_.3210', 'hy_advance_.4836', '&lt;loop 6582.5132&gt;', 'hy_computefluxes_.5134', '&lt;loop 6622.9755&gt;')</th>\n",
       "      <td>59879.0</td>\n",
       "      <td>0.004166</td>\n",
       "      <td>0.006495</td>\n",
       "    </tr>\n",
       "    <tr>\n",
       "      <th>('&lt;program root&gt;.10', 'main.12', 'driver_evolveflash_.698', '&lt;loop 458.748&gt;', 'hydro_.3210', 'hy_advance_.4836', '&lt;loop 6582.5132&gt;', 'hy_computefluxes_.5134', '&lt;loop 6614.9728&gt;')</th>\n",
       "      <td>47861.0</td>\n",
       "      <td>0.003330</td>\n",
       "      <td>0.005192</td>\n",
       "    </tr>\n",
       "    <tr>\n",
       "      <th>('&lt;program root&gt;.10', 'main.12', 'driver_evolveflash_.698', '&lt;loop 458.748&gt;', 'hydro_.3210', 'hy_advance_.4836', '&lt;loop 6582.5132&gt;', 'hy_computefluxes_.5134', 'hy_energyfix_.6843')</th>\n",
       "      <td>23951.0</td>\n",
       "      <td>0.001666</td>\n",
       "      <td>0.002598</td>\n",
       "    </tr>\n",
       "    <tr>\n",
       "      <th>('&lt;program root&gt;.10', 'main.12', 'driver_evolveflash_.698', '&lt;loop 458.748&gt;', 'hydro_.3210', 'hy_advance_.4836', '&lt;loop 6582.5132&gt;', 'hy_computefluxes_.5134', '&lt;loop 6630.9778&gt;')</th>\n",
       "      <td>23935.0</td>\n",
       "      <td>0.001665</td>\n",
       "      <td>0.002596</td>\n",
       "    </tr>\n",
       "    <tr>\n",
       "      <th>('&lt;program root&gt;.10', 'main.12', 'driver_evolveflash_.698', '&lt;loop 458.748&gt;', 'hydro_.3210', 'hy_advance_.4836', '&lt;loop 6582.5132&gt;', 'hy_computefluxes_.5134', 'timers_stopstring_.6787')</th>\n",
       "      <td>23932.0</td>\n",
       "      <td>0.001665</td>\n",
       "      <td>0.002596</td>\n",
       "    </tr>\n",
       "    <tr>\n",
       "      <th>('&lt;program root&gt;.10', 'main.12', 'driver_evolveflash_.698', '&lt;loop 458.748&gt;', 'hydro_.3210', 'hy_advance_.4836', '&lt;loop 6582.5132&gt;', 'hy_computefluxes_.5134', 'timers_stopstring_.9614')</th>\n",
       "      <td>23930.0</td>\n",
       "      <td>0.001665</td>\n",
       "      <td>0.002596</td>\n",
       "    </tr>\n",
       "  </tbody>\n",
       "</table>\n",
       "</div>"
      ],
      "text/plain": [
       "                                                    CPUTIME (usec):Mean (I)  \\\n",
       "('<program root>.10', 'main.12', 'driver_evolve...                6027370.0   \n",
       "('<program root>.10', 'main.12', 'driver_evolve...                2421240.0   \n",
       "('<program root>.10', 'main.12', 'driver_evolve...                 219425.0   \n",
       "('<program root>.10', 'main.12', 'driver_evolve...                 119660.0   \n",
       "('<program root>.10', 'main.12', 'driver_evolve...                  59879.0   \n",
       "('<program root>.10', 'main.12', 'driver_evolve...                  47861.0   \n",
       "('<program root>.10', 'main.12', 'driver_evolve...                  23951.0   \n",
       "('<program root>.10', 'main.12', 'driver_evolve...                  23935.0   \n",
       "('<program root>.10', 'main.12', 'driver_evolve...                  23932.0   \n",
       "('<program root>.10', 'main.12', 'driver_evolve...                  23930.0   \n",
       "\n",
       "                                                    CPUTIME (usec):Mean (I) ratio of total  \\\n",
       "('<program root>.10', 'main.12', 'driver_evolve...                                0.419301   \n",
       "('<program root>.10', 'main.12', 'driver_evolve...                                0.168436   \n",
       "('<program root>.10', 'main.12', 'driver_evolve...                                0.015265   \n",
       "('<program root>.10', 'main.12', 'driver_evolve...                                0.008324   \n",
       "('<program root>.10', 'main.12', 'driver_evolve...                                0.004166   \n",
       "('<program root>.10', 'main.12', 'driver_evolve...                                0.003330   \n",
       "('<program root>.10', 'main.12', 'driver_evolve...                                0.001666   \n",
       "('<program root>.10', 'main.12', 'driver_evolve...                                0.001665   \n",
       "('<program root>.10', 'main.12', 'driver_evolve...                                0.001665   \n",
       "('<program root>.10', 'main.12', 'driver_evolve...                                0.001665   \n",
       "\n",
       "                                                    CPUTIME (usec):Mean (I) ratio of parent  \n",
       "('<program root>.10', 'main.12', 'driver_evolve...                                 0.653826  \n",
       "('<program root>.10', 'main.12', 'driver_evolve...                                 0.262647  \n",
       "('<program root>.10', 'main.12', 'driver_evolve...                                 0.023802  \n",
       "('<program root>.10', 'main.12', 'driver_evolve...                                 0.012980  \n",
       "('<program root>.10', 'main.12', 'driver_evolve...                                 0.006495  \n",
       "('<program root>.10', 'main.12', 'driver_evolve...                                 0.005192  \n",
       "('<program root>.10', 'main.12', 'driver_evolve...                                 0.002598  \n",
       "('<program root>.10', 'main.12', 'driver_evolve...                                 0.002596  \n",
       "('<program root>.10', 'main.12', 'driver_evolve...                                 0.002596  \n",
       "('<program root>.10', 'main.12', 'driver_evolve...                                 0.002596  "
      ]
     },
     "execution_count": 18,
     "metadata": {},
     "output_type": "execute_result"
    }
   ],
   "source": [
    "timings['base', 'SNIa_DoubleDetonation', 0] \\\n",
    "    .at_paths(prefix=('<program root>.10', 'main.12', 'driver_evolveflash_.698', '<loop 458.748>',\n",
    "                      'hydro_.3210', 'hy_advance_.4836', '<loop 6582.5132>', 'hy_computefluxes_.5134')) \\\n",
    "    .at_depth(9).compact.sort_values('CPUTIME (usec):Mean (I) ratio of parent', ascending=False)[:10]"
   ]
  },
  {
   "cell_type": "code",
   "execution_count": 19,
   "metadata": {
    "scrolled": false
   },
   "outputs": [
    {
     "data": {
      "text/html": [
       "<div>\n",
       "<style scoped>\n",
       "    .dataframe tbody tr th:only-of-type {\n",
       "        vertical-align: middle;\n",
       "    }\n",
       "\n",
       "    .dataframe tbody tr th {\n",
       "        vertical-align: top;\n",
       "    }\n",
       "\n",
       "    .dataframe thead th {\n",
       "        text-align: right;\n",
       "    }\n",
       "</style>\n",
       "<table border=\"1\" class=\"dataframe\">\n",
       "  <thead>\n",
       "    <tr style=\"text-align: right;\">\n",
       "      <th></th>\n",
       "      <th>CPUTIME (usec):Mean (I)</th>\n",
       "      <th>CPUTIME (usec):Mean (I) ratio of total</th>\n",
       "      <th>CPUTIME (usec):Mean (I) ratio of parent</th>\n",
       "    </tr>\n",
       "  </thead>\n",
       "  <tbody>\n",
       "    <tr>\n",
       "      <th>('&lt;program root&gt;.10', 'main.12', 'driver_evolveflash_.698', '&lt;loop 458.748&gt;', 'hydro_.3210', 'hy_advance_.4836', '&lt;loop 6582.5132&gt;', 'hy_computefluxes_.5134', 'hy_getriemannstate_.7137', '&lt;loop 6842.7262&gt;', '&lt;loop 6844.7264&gt;', 'hy_datareconstonestep_.7446', '&lt;loop 6658.8342&gt;', 'hy_datareconstructnormaldir_mh_.8388', 'hy_upwindtransverseflux_.8603')</th>\n",
       "      <td>1156540.0</td>\n",
       "      <td>0.080456</td>\n",
       "      <td>0.286506</td>\n",
       "    </tr>\n",
       "    <tr>\n",
       "      <th>('&lt;program root&gt;.10', 'main.12', 'driver_evolveflash_.698', '&lt;loop 458.748&gt;', 'hydro_.3210', 'hy_advance_.4836', '&lt;loop 6582.5132&gt;', 'hy_computefluxes_.5134', 'hy_getriemannstate_.7137', '&lt;loop 6842.7262&gt;', '&lt;loop 6844.7264&gt;', 'hy_datareconstonestep_.7446', '&lt;loop 6658.8342&gt;', 'hy_datareconstructnormaldir_mh_.8388', 'hy_tvdslope_.8917')</th>\n",
       "      <td>913727.0</td>\n",
       "      <td>0.063565</td>\n",
       "      <td>0.226355</td>\n",
       "    </tr>\n",
       "    <tr>\n",
       "      <th>('&lt;program root&gt;.10', 'main.12', 'driver_evolveflash_.698', '&lt;loop 458.748&gt;', 'hydro_.3210', 'hy_advance_.4836', '&lt;loop 6582.5132&gt;', 'hy_computefluxes_.5134', 'hy_getriemannstate_.7137', '&lt;loop 6842.7262&gt;', '&lt;loop 6844.7264&gt;', 'hy_datareconstonestep_.7446', '&lt;loop 6658.8342&gt;', 'hy_datareconstructnormaldir_mh_.8388', '&lt;statement 6043&gt;')</th>\n",
       "      <td>610170.0</td>\n",
       "      <td>0.042447</td>\n",
       "      <td>0.151156</td>\n",
       "    </tr>\n",
       "    <tr>\n",
       "      <th>('&lt;program root&gt;.10', 'main.12', 'driver_evolveflash_.698', '&lt;loop 458.748&gt;', 'hydro_.3210', 'hy_advance_.4836', '&lt;loop 6582.5132&gt;', 'hy_computefluxes_.5134', 'hy_getriemannstate_.7137', '&lt;loop 6842.7262&gt;', '&lt;loop 6844.7264&gt;', 'hy_datareconstonestep_.7446', '&lt;loop 6658.8342&gt;', 'hy_datareconstructnormaldir_mh_.8388', '&lt;loop 6054.9229&gt;')</th>\n",
       "      <td>474773.0</td>\n",
       "      <td>0.033028</td>\n",
       "      <td>0.117614</td>\n",
       "    </tr>\n",
       "    <tr>\n",
       "      <th>('&lt;program root&gt;.10', 'main.12', 'driver_evolveflash_.698', '&lt;loop 458.748&gt;', 'hydro_.3210', 'hy_advance_.4836', '&lt;loop 6582.5132&gt;', 'hy_computefluxes_.5134', 'hy_getriemannstate_.7137', '&lt;loop 6842.7262&gt;', '&lt;loop 6844.7264&gt;', 'hy_datareconstonestep_.7446', '&lt;loop 6658.8342&gt;', 'hy_datareconstructnormaldir_mh_.8388', 'hy_eigenvector_.8524')</th>\n",
       "      <td>442741.0</td>\n",
       "      <td>0.030800</td>\n",
       "      <td>0.109679</td>\n",
       "    </tr>\n",
       "    <tr>\n",
       "      <th>('&lt;program root&gt;.10', 'main.12', 'driver_evolveflash_.698', '&lt;loop 458.748&gt;', 'hydro_.3210', 'hy_advance_.4836', '&lt;loop 6582.5132&gt;', 'hy_computefluxes_.5134', 'hy_getriemannstate_.7137', '&lt;loop 6842.7262&gt;', '&lt;loop 6844.7264&gt;', 'hy_datareconstonestep_.7446', '&lt;loop 6658.8342&gt;', 'hy_datareconstructnormaldir_mh_.8388', 'hy_eigenparameters_.8494')</th>\n",
       "      <td>135532.0</td>\n",
       "      <td>0.009428</td>\n",
       "      <td>0.033575</td>\n",
       "    </tr>\n",
       "    <tr>\n",
       "      <th>('&lt;program root&gt;.10', 'main.12', 'driver_evolveflash_.698', '&lt;loop 458.748&gt;', 'hydro_.3210', 'hy_advance_.4836', '&lt;loop 6582.5132&gt;', 'hy_computefluxes_.5134', 'hy_getriemannstate_.7137', '&lt;loop 6842.7262&gt;', '&lt;loop 6844.7264&gt;', 'hy_datareconstonestep_.7446', '&lt;loop 6658.8342&gt;', 'hy_datareconstructnormaldir_mh_.8388', '&lt;loop 6050.9217&gt;')</th>\n",
       "      <td>51858.0</td>\n",
       "      <td>0.003608</td>\n",
       "      <td>0.012847</td>\n",
       "    </tr>\n",
       "    <tr>\n",
       "      <th>('&lt;program root&gt;.10', 'main.12', 'driver_evolveflash_.698', '&lt;loop 458.748&gt;', 'hydro_.3210', 'hy_advance_.4836', '&lt;loop 6582.5132&gt;', 'hy_computefluxes_.5134', 'hy_getriemannstate_.7137', '&lt;loop 6842.7262&gt;', '&lt;loop 6844.7264&gt;', 'hy_datareconstonestep_.7446', '&lt;loop 6658.8342&gt;', 'hy_datareconstructnormaldir_mh_.8388', '&lt;loop 6046.9190&gt;')</th>\n",
       "      <td>47839.0</td>\n",
       "      <td>0.003328</td>\n",
       "      <td>0.011851</td>\n",
       "    </tr>\n",
       "    <tr>\n",
       "      <th>('&lt;program root&gt;.10', 'main.12', 'driver_evolveflash_.698', '&lt;loop 458.748&gt;', 'hydro_.3210', 'hy_advance_.4836', '&lt;loop 6582.5132&gt;', 'hy_computefluxes_.5134', 'hy_getriemannstate_.7137', '&lt;loop 6842.7262&gt;', '&lt;loop 6844.7264&gt;', 'hy_datareconstonestep_.7446', '&lt;loop 6658.8342&gt;', 'hy_datareconstructnormaldir_mh_.8388', '&lt;loop 6096.9340&gt;')</th>\n",
       "      <td>43899.0</td>\n",
       "      <td>0.003054</td>\n",
       "      <td>0.010875</td>\n",
       "    </tr>\n",
       "    <tr>\n",
       "      <th>('&lt;program root&gt;.10', 'main.12', 'driver_evolveflash_.698', '&lt;loop 458.748&gt;', 'hydro_.3210', 'hy_advance_.4836', '&lt;loop 6582.5132&gt;', 'hy_computefluxes_.5134', 'hy_getriemannstate_.7137', '&lt;loop 6842.7262&gt;', '&lt;loop 6844.7264&gt;', 'hy_datareconstonestep_.7446', '&lt;loop 6658.8342&gt;', 'hy_datareconstructnormaldir_mh_.8388', 'hy_eigenvalue_.8516')</th>\n",
       "      <td>27912.0</td>\n",
       "      <td>0.001942</td>\n",
       "      <td>0.006915</td>\n",
       "    </tr>\n",
       "  </tbody>\n",
       "</table>\n",
       "</div>"
      ],
      "text/plain": [
       "                                                    CPUTIME (usec):Mean (I)  \\\n",
       "('<program root>.10', 'main.12', 'driver_evolve...                1156540.0   \n",
       "('<program root>.10', 'main.12', 'driver_evolve...                 913727.0   \n",
       "('<program root>.10', 'main.12', 'driver_evolve...                 610170.0   \n",
       "('<program root>.10', 'main.12', 'driver_evolve...                 474773.0   \n",
       "('<program root>.10', 'main.12', 'driver_evolve...                 442741.0   \n",
       "('<program root>.10', 'main.12', 'driver_evolve...                 135532.0   \n",
       "('<program root>.10', 'main.12', 'driver_evolve...                  51858.0   \n",
       "('<program root>.10', 'main.12', 'driver_evolve...                  47839.0   \n",
       "('<program root>.10', 'main.12', 'driver_evolve...                  43899.0   \n",
       "('<program root>.10', 'main.12', 'driver_evolve...                  27912.0   \n",
       "\n",
       "                                                    CPUTIME (usec):Mean (I) ratio of total  \\\n",
       "('<program root>.10', 'main.12', 'driver_evolve...                                0.080456   \n",
       "('<program root>.10', 'main.12', 'driver_evolve...                                0.063565   \n",
       "('<program root>.10', 'main.12', 'driver_evolve...                                0.042447   \n",
       "('<program root>.10', 'main.12', 'driver_evolve...                                0.033028   \n",
       "('<program root>.10', 'main.12', 'driver_evolve...                                0.030800   \n",
       "('<program root>.10', 'main.12', 'driver_evolve...                                0.009428   \n",
       "('<program root>.10', 'main.12', 'driver_evolve...                                0.003608   \n",
       "('<program root>.10', 'main.12', 'driver_evolve...                                0.003328   \n",
       "('<program root>.10', 'main.12', 'driver_evolve...                                0.003054   \n",
       "('<program root>.10', 'main.12', 'driver_evolve...                                0.001942   \n",
       "\n",
       "                                                    CPUTIME (usec):Mean (I) ratio of parent  \n",
       "('<program root>.10', 'main.12', 'driver_evolve...                                 0.286506  \n",
       "('<program root>.10', 'main.12', 'driver_evolve...                                 0.226355  \n",
       "('<program root>.10', 'main.12', 'driver_evolve...                                 0.151156  \n",
       "('<program root>.10', 'main.12', 'driver_evolve...                                 0.117614  \n",
       "('<program root>.10', 'main.12', 'driver_evolve...                                 0.109679  \n",
       "('<program root>.10', 'main.12', 'driver_evolve...                                 0.033575  \n",
       "('<program root>.10', 'main.12', 'driver_evolve...                                 0.012847  \n",
       "('<program root>.10', 'main.12', 'driver_evolve...                                 0.011851  \n",
       "('<program root>.10', 'main.12', 'driver_evolve...                                 0.010875  \n",
       "('<program root>.10', 'main.12', 'driver_evolve...                                 0.006915  "
      ]
     },
     "execution_count": 19,
     "metadata": {},
     "output_type": "execute_result"
    }
   ],
   "source": [
    "timings['base', 'SNIa_DoubleDetonation', 0] \\\n",
    "    .at_paths(prefix=('<program root>.10', 'main.12', 'driver_evolveflash_.698', '<loop 458.748>',\n",
    "                      'hydro_.3210', 'hy_advance_.4836', '<loop 6582.5132>', 'hy_computefluxes_.5134',\n",
    "                      'hy_getriemannstate_.7137', '<loop 6842.7262>', '<loop 6844.7264>',\n",
    "                      'hy_datareconstonestep_.7446', '<loop 6658.8342>', 'hy_datareconstructnormaldir_mh_.8388')) \\\n",
    "    .at_depth(15).compact.sort_values('CPUTIME (usec):Mean (I) ratio of parent', ascending=False)[:10]"
   ]
  },
  {
   "cell_type": "code",
   "execution_count": 22,
   "metadata": {
    "scrolled": false
   },
   "outputs": [
    {
     "data": {
      "text/html": [
       "<div>\n",
       "<style scoped>\n",
       "    .dataframe tbody tr th:only-of-type {\n",
       "        vertical-align: middle;\n",
       "    }\n",
       "\n",
       "    .dataframe tbody tr th {\n",
       "        vertical-align: top;\n",
       "    }\n",
       "\n",
       "    .dataframe thead th {\n",
       "        text-align: right;\n",
       "    }\n",
       "</style>\n",
       "<table border=\"1\" class=\"dataframe\">\n",
       "  <thead>\n",
       "    <tr style=\"text-align: right;\">\n",
       "      <th></th>\n",
       "      <th>CPUTIME (usec):Mean (I)</th>\n",
       "      <th>CPUTIME (usec):Mean (I) ratio of total</th>\n",
       "      <th>CPUTIME (usec):Mean (I) ratio of parent</th>\n",
       "    </tr>\n",
       "  </thead>\n",
       "  <tbody>\n",
       "    <tr>\n",
       "      <th>('&lt;program root&gt;.10', 'main.12', 'driver_evolveflash_.698', '&lt;loop 458.748&gt;', 'hydro_.3210', 'hy_advance_.4836', 'grid_putfluxdata_.4838')</th>\n",
       "      <td>123758.0</td>\n",
       "      <td>0.008609</td>\n",
       "      <td>0.012841</td>\n",
       "    </tr>\n",
       "    <tr>\n",
       "      <th>('&lt;program root&gt;.10', 'main.12', 'driver_evolveflash_.698', '&lt;loop 458.748&gt;', 'hydro_.3210', 'hy_advance_.4836', 'timers_startstring_.4938')</th>\n",
       "      <td>3991.0</td>\n",
       "      <td>0.000278</td>\n",
       "      <td>0.000414</td>\n",
       "    </tr>\n",
       "    <tr>\n",
       "      <th>('&lt;program root&gt;.10', 'main.12', 'driver_evolveflash_.698', '&lt;loop 458.748&gt;', 'hydro_.3210', 'hy_advance_.4836', 'grid_conservefluxes_.4946')</th>\n",
       "      <td>79471.0</td>\n",
       "      <td>0.005528</td>\n",
       "      <td>0.008246</td>\n",
       "    </tr>\n",
       "    <tr>\n",
       "      <th>('&lt;program root&gt;.10', 'main.12', 'driver_evolveflash_.698', '&lt;loop 458.748&gt;', 'hydro_.3210', 'hy_advance_.4836', 'timers_stopstring_.5130')</th>\n",
       "      <td>NaN</td>\n",
       "      <td>NaN</td>\n",
       "      <td>NaN</td>\n",
       "    </tr>\n",
       "    <tr>\n",
       "      <th>('&lt;program root&gt;.10', 'main.12', 'driver_evolveflash_.698', '&lt;loop 458.748&gt;', 'hydro_.3210', 'hy_advance_.4836', '&lt;loop 6582.5132&gt;')</th>\n",
       "      <td>9246560.0</td>\n",
       "      <td>0.643248</td>\n",
       "      <td>0.959441</td>\n",
       "    </tr>\n",
       "    <tr>\n",
       "      <th>('&lt;program root&gt;.10', 'main.12', 'driver_evolveflash_.698', '&lt;loop 458.748&gt;', 'hydro_.3210', 'hy_advance_.4836', '&lt;loop 6584.9815&gt;')</th>\n",
       "      <td>183670.0</td>\n",
       "      <td>0.012777</td>\n",
       "      <td>0.019058</td>\n",
       "    </tr>\n",
       "  </tbody>\n",
       "</table>\n",
       "</div>"
      ],
      "text/plain": [
       "                                                    CPUTIME (usec):Mean (I)  \\\n",
       "('<program root>.10', 'main.12', 'driver_evolve...                 123758.0   \n",
       "('<program root>.10', 'main.12', 'driver_evolve...                   3991.0   \n",
       "('<program root>.10', 'main.12', 'driver_evolve...                  79471.0   \n",
       "('<program root>.10', 'main.12', 'driver_evolve...                      NaN   \n",
       "('<program root>.10', 'main.12', 'driver_evolve...                9246560.0   \n",
       "('<program root>.10', 'main.12', 'driver_evolve...                 183670.0   \n",
       "\n",
       "                                                    CPUTIME (usec):Mean (I) ratio of total  \\\n",
       "('<program root>.10', 'main.12', 'driver_evolve...                                0.008609   \n",
       "('<program root>.10', 'main.12', 'driver_evolve...                                0.000278   \n",
       "('<program root>.10', 'main.12', 'driver_evolve...                                0.005528   \n",
       "('<program root>.10', 'main.12', 'driver_evolve...                                     NaN   \n",
       "('<program root>.10', 'main.12', 'driver_evolve...                                0.643248   \n",
       "('<program root>.10', 'main.12', 'driver_evolve...                                0.012777   \n",
       "\n",
       "                                                    CPUTIME (usec):Mean (I) ratio of parent  \n",
       "('<program root>.10', 'main.12', 'driver_evolve...                                 0.012841  \n",
       "('<program root>.10', 'main.12', 'driver_evolve...                                 0.000414  \n",
       "('<program root>.10', 'main.12', 'driver_evolve...                                 0.008246  \n",
       "('<program root>.10', 'main.12', 'driver_evolve...                                      NaN  \n",
       "('<program root>.10', 'main.12', 'driver_evolve...                                 0.959441  \n",
       "('<program root>.10', 'main.12', 'driver_evolve...                                 0.019058  "
      ]
     },
     "execution_count": 22,
     "metadata": {},
     "output_type": "execute_result"
    }
   ],
   "source": [
    "timings['base', 'SNIa_DoubleDetonation', 0] \\\n",
    "    .at_paths(prefix=('<program root>.10', 'main.12', 'driver_evolveflash_.698', '<loop 458.748>',\n",
    "                      'hydro_.3210', 'hy_advance_.4836')) \\\n",
    "    .at_depth(7).compact"
   ]
  }
 ],
 "metadata": {
  "kernelspec": {
   "display_name": "Python 3",
   "language": "python",
   "name": "python3"
  },
  "language_info": {
   "codemirror_mode": {
    "name": "ipython",
    "version": 3
   },
   "file_extension": ".py",
   "mimetype": "text/x-python",
   "name": "python",
   "nbconvert_exporter": "python",
   "pygments_lexer": "ipython3",
   "version": "3.6.6"
  }
 },
 "nbformat": 4,
 "nbformat_minor": 2
}
