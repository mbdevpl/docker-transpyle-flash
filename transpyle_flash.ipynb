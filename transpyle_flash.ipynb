{
 "cells": [
  {
   "cell_type": "code",
   "execution_count": null,
   "metadata": {},
   "outputs": [],
   "source": [
    "import pathlib\n",
    "\n",
    "from transpyle.fortran.parser import FortranParser\n",
    "from transpyle.fortran.ast_generalizer import FortranAstGeneralizer\n",
    "from transpyle.fortran.unparser import Fortran2008Unparser\n",
    "from transpyle.python.unparser import TypedPythonUnparserWithComments\n",
    "\n",
    "# Parser will create a Fortran-specific AST.\n",
    "\n",
    "parser = FortranParser()\n",
    "\n",
    "# Generalizer will transform it into AST that can be easily processed and unparsed into many outputs.\n",
    "\n",
    "generalizer = FortranAstGeneralizer()\n",
    "\n",
    "# Unparsers will create Python and Fortran code from the same generalized AST.\n",
    "\n",
    "python_unparser = TypedPythonUnparserWithComments()\n",
    "unparser = Fortran2008Unparser()"
   ]
  },
  {
   "cell_type": "markdown",
   "metadata": {},
   "source": [
    "provide file to be processed"
   ]
  },
  {
   "cell_type": "code",
   "execution_count": null,
   "metadata": {},
   "outputs": [],
   "source": [
    "#root_path = pathlib.Path('~/Projects/flash').expanduser()\n",
    "root_path = pathlib.Path('~/Projects/flash-subset/FLASH4.4').expanduser()\n",
    "file_path = pathlib.Path('source/physics/Hydro/HydroMain/simpleUnsplit/HLL/hy_hllUnsplit.F90')\n",
    "path = pathlib.Path(root_path, file_path)"
   ]
  },
  {
   "cell_type": "code",
   "execution_count": null,
   "metadata": {},
   "outputs": [],
   "source": [
    "def to_python(path):\n",
    "    \"\"\"Transpile Fortran to Python.\"\"\"\n",
    "    fortran_ast = parser.parse(path)\n",
    "    tree = generalizer.generalize(fortran_ast)\n",
    "    python_code = python_unparser.unparse(tree)\n",
    "    return python_code"
   ]
  },
  {
   "cell_type": "code",
   "execution_count": null,
   "metadata": {},
   "outputs": [],
   "source": [
    "def to_fortran(path):\n",
    "    \"\"\"Transpile Fortran to Fortran, using Python AST as intermediate (generalized) format.\"\"\"\n",
    "    fortran_ast = parser.parse(path)\n",
    "    tree = generalizer.generalize(fortran_ast)\n",
    "    fortran_code = unparser.unparse(tree)\n",
    "    return fortran_code"
   ]
  },
  {
   "cell_type": "code",
   "execution_count": null,
   "metadata": {
    "scrolled": true
   },
   "outputs": [],
   "source": [
    "code = to_fortran(path)"
   ]
  },
  {
   "cell_type": "code",
   "execution_count": null,
   "metadata": {},
   "outputs": [],
   "source": [
    "print(code)"
   ]
  },
  {
   "cell_type": "code",
   "execution_count": null,
   "metadata": {},
   "outputs": [],
   "source": [
    "pathlib.Path.rename(path, path.with_suffix('.bak.F90'))\n",
    "with open(path, 'w') as fortran_file:\n",
    "    fortran_file.write(code)"
   ]
  }
 ],
 "metadata": {
  "kernelspec": {
   "display_name": "Python 3",
   "language": "python",
   "name": "python3"
  },
  "language_info": {
   "codemirror_mode": {
    "name": "ipython",
    "version": 3
   },
   "file_extension": ".py",
   "mimetype": "text/x-python",
   "name": "python",
   "nbconvert_exporter": "python",
   "pygments_lexer": "ipython3",
   "version": "3.6.3"
  }
 },
 "nbformat": 4,
 "nbformat_minor": 2
}
