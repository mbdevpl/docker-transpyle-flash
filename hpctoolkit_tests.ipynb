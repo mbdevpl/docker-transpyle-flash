{
 "cells": [
  {
   "cell_type": "code",
   "execution_count": 1,
   "metadata": {},
   "outputs": [],
   "source": [
    "import datetime\n",
    "\n",
    "import line_profiler\n",
    "\n",
    "from profiling_flash import profile_db_path\n",
    "import hpctoolkit_dataframe\n",
    "from hpctoolkit_dataframe import HPCtoolkitDataFrame"
   ]
  },
  {
   "cell_type": "markdown",
   "metadata": {},
   "source": [
    "### Profiling data analysis itself"
   ]
  },
  {
   "cell_type": "code",
   "execution_count": 2,
   "metadata": {
    "scrolled": false
   },
   "outputs": [
    {
     "name": "stdout",
     "output_type": "stream",
     "text": [
      "CPU times: user 2.52 s, sys: 3.01 ms, total: 2.52 s\n",
      "Wall time: 2.53 s\n"
     ]
    }
   ],
   "source": [
    "%%time\n",
    "\n",
    "\n",
    "profiler = line_profiler.LineProfiler()\n",
    "profiler.add_module(hpctoolkit_dataframe)\n",
    "profiler.enable()\n",
    "\n",
    "_profile_path = profile_db_path(\n",
    "    datetime.datetime(2018, 9, 18, 14, 44, 19, 473557), test_name='subset_Sedov_baseline').joinpath('experiment.xml')\n",
    "df = HPCtoolkitDataFrame(path=_profile_path, max_depth=None)\n",
    "\n",
    "profiler.disable()"
   ]
  },
  {
   "cell_type": "code",
   "execution_count": 3,
   "metadata": {},
   "outputs": [
    {
     "name": "stdout",
     "output_type": "stream",
     "text": [
      "CPU times: user 2.13 s, sys: 1.9 ms, total: 2.13 s\n",
      "Wall time: 2.13 s\n"
     ]
    }
   ],
   "source": [
    "%%time\n",
    "\n",
    "profiler.enable()\n",
    "\n",
    "hot_path = df.hot_path(threshold=0.01)\n",
    "\n",
    "profiler.disable()"
   ]
  },
  {
   "cell_type": "code",
   "execution_count": 4,
   "metadata": {},
   "outputs": [
    {
     "name": "stdout",
     "output_type": "stream",
     "text": [
      "CPU times: user 2.59 ms, sys: 0 ns, total: 2.59 ms\n",
      "Wall time: 2.25 ms\n"
     ]
    }
   ],
   "source": [
    "%%time\n",
    "\n",
    "profiler.enable()\n",
    "\n",
    "df.compact\n",
    "df.basic_i\n",
    "\n",
    "profiler.disable()"
   ]
  },
  {
   "cell_type": "code",
   "execution_count": 5,
   "metadata": {
    "scrolled": false
   },
   "outputs": [
    {
     "name": "stdout",
     "output_type": "stream",
     "text": [
      "Timer unit: 1e-06 s\n",
      "\n",
      "Total time: 0.095091 s\n",
      "File: /nfs2/mbysiek/Projects/docker-transpyle-flash/hpctoolkit_dataframe.py\n",
      "Function: _read_xml at line 38\n",
      "\n",
      "Line #      Hits         Time  Per Hit   % Time  Line Contents\n",
      "==============================================================\n",
      "    38                                           def _read_xml(path: pathlib.Path) -> ET.ElementTree:\n",
      "    39         1      16039.0  16039.0     16.9      with path.open() as xml_file:\n",
      "    40         1      79051.0  79051.0     83.1          xml_data = ET.parse(xml_file)\n",
      "    41         1          1.0      1.0      0.0      return xml_data\n",
      "\n",
      "Total time: 4.5e-05 s\n",
      "File: /nfs2/mbysiek/Projects/docker-transpyle-flash/hpctoolkit_dataframe.py\n",
      "Function: _metrics_formula_sub_predicate at line 44\n",
      "\n",
      "Line #      Hits         Time  Per Hit   % Time  Line Contents\n",
      "==============================================================\n",
      "    44                                           def _metrics_formula_sub_predicate(match: t.Match) -> str:\n",
      "    45        36         45.0      1.2    100.0      return 'data.get(self._metrics_by_id[{}])'.format(match.group()[1:])\n",
      "\n",
      "Total time: 0.001435 s\n",
      "File: /nfs2/mbysiek/Projects/docker-transpyle-flash/hpctoolkit_dataframe.py\n",
      "Function: _derive_metrics_formulas at line 48\n",
      "\n",
      "Line #      Hits         Time  Per Hit   % Time  Line Contents\n",
      "==============================================================\n",
      "    48                                           def _derive_metrics_formulas(\n",
      "    49                                                   metrics: ET.Element) -> t.Dict[str, t.Tuple[str, t.Callable[[pd.DataFrame, dict], t.Any]]]:\n",
      "    50         1          1.0      1.0      0.1      metrics_formulas = {}\n",
      "    51        23         11.0      0.5      0.8      for metric in metrics:\n",
      "    52        22        254.0     11.5     17.7          formulas = metric.findall('./MetricFormula')\n",
      "    53        44         22.0      0.5      1.5          for formula in formulas:\n",
      "    54        40         39.0      1.0      2.7              if formula.attrib['t'] != 'finalize':\n",
      "    55        22          4.0      0.2      0.3                  continue\n",
      "    56        18         10.0      0.6      0.7              raw_formula = formula.attrib['frm']\n",
      "    57        18        443.0     24.6     30.9              formula_code = re.sub('\\$[0-9]+', _metrics_formula_sub_predicate, raw_formula)\n",
      "    58        18        620.0     34.4     43.2              compiled_formula = eval('lambda self, data: {}'.format(formula_code), None, None)\n",
      "    59        18         19.0      1.1      1.3              metrics_formulas[metric.attrib['n']] = (formula_code, compiled_formula)\n",
      "    60        18         12.0      0.7      0.8              break\n",
      "    61         1          0.0      0.0      0.0      return metrics_formulas\n",
      "\n",
      "Total time: 0.815682 s\n",
      "File: /nfs2/mbysiek/Projects/docker-transpyle-flash/hpctoolkit_dataframe.py\n",
      "Function: _callpath_filter at line 64\n",
      "\n",
      "Line #      Hits         Time  Per Hit   % Time  Line Contents\n",
      "==============================================================\n",
      "    64                                           def _callpath_filter(series: pd.Series, fragments: t.Sequence[tuple],\n",
      "    65                                                                prefix: tuple, suffix: tuple) -> bool:\n",
      "    66     24400     485730.0     19.9     59.5      callpath = series.at['callpath']\n",
      "    67     24400      12084.0      0.5      1.5      for fragment in fragments:\n",
      "    68                                                   if fragment:\n",
      "    69                                                       raise NotImplementedError('filtering by arbitrary fragment not supported')\n",
      "    70     24400       8407.0      0.3      1.0      if prefix:\n",
      "    71     22242      13036.0      0.6      1.6          if len(callpath) < len(prefix):\n",
      "    72        21          4.0      0.2      0.0              return False\n",
      "    73    163454      68752.0      0.4      8.4          for callpath_item, prefix_item in zip(callpath[:len(prefix)], prefix):\n",
      "    74    143369     161611.0      1.1     19.8              if not (prefix_item.fullmatch(callpath_item) if isinstance(prefix_item, t.Pattern)\n",
      "    75    143369      50764.0      0.4      6.2                      else prefix_item == callpath_item):\n",
      "    76      2136        784.0      0.4      0.1                  return False\n",
      "    77     22243       7615.0      0.3      0.9      if suffix:\n",
      "    78                                                   if len(callpath) < len(suffix):\n",
      "    79                                                       return False\n",
      "    80                                                   for callpath_item, suffix_item in zip(callpath[-len(suffix):], suffix):\n",
      "    81                                                       if not (suffix_item.fullmatch(callpath_item) if isinstance(suffix_item, t.Pattern)\n",
      "    82                                                               else suffix_item == callpath_item):\n",
      "    83                                                           return False\n",
      "    84     22243       6895.0      0.3      0.8      return True\n",
      "\n",
      "Total time: 0.458377 s\n",
      "File: /nfs2/mbysiek/Projects/docker-transpyle-flash/hpctoolkit_dataframe.py\n",
      "Function: _depth_filter at line 87\n",
      "\n",
      "Line #      Hits         Time  Per Hit   % Time  Line Contents\n",
      "==============================================================\n",
      "    87                                           def _depth_filter(\n",
      "    88                                                   series: pd.Series, min_depth: t.Optional[int], max_depth: t.Optional[int]) -> bool:\n",
      "    89     22243     440315.0     19.8     96.1      depth = len(series.at['callpath'])\n",
      "    90     22243      12653.0      0.6      2.8      if min_depth is not None and depth < min_depth or max_depth is not None and depth > max_depth:\n",
      "    91     22007       5350.0      0.2      1.2          return False\n",
      "    92       236         59.0      0.2      0.0      return True\n",
      "\n",
      "Total time: 0.712307 s\n",
      "File: /nfs2/mbysiek/Projects/docker-transpyle-flash/hpctoolkit_dataframe.py\n",
      "Function: __init__ at line 109\n",
      "\n",
      "Line #      Hits         Time  Per Hit   % Time  Line Contents\n",
      "==============================================================\n",
      "   109                                               def __init__(self, *args,\n",
      "   110                                                            path: pathlib.Path = None, max_depth: t.Optional[int] = None, **kwargs):\n",
      "   111      1225       2815.0      2.3      0.4          if path is None:\n",
      "   112      1224      20032.0     16.4      2.8              super().__init__(*args, **kwargs)\n",
      "   113      1224       1992.0      1.6      0.3              return\n",
      "   114                                           \n",
      "   115         1      95249.0  95249.0     13.4          profile_data = _read_xml(path).find('./SecCallPathProfile')\n",
      "   116         1         25.0     25.0      0.0          _LOG.info('%s', profile_data.attrib['n'])\n",
      "   117                                           \n",
      "   118         1         26.0     26.0      0.0          self._max_depth = max_depth\n",
      "   119                                           \n",
      "   120         1         36.0     36.0      0.0          metrics = profile_data.find('./SecHeader/MetricTable')\n",
      "   121         1         22.0     22.0      0.0          _LOG.debug('%s', [(_, _.attrib) for _ in metrics])\n",
      "   122         1         30.0     30.0      0.0          self._metrics_by_id = {int(_.attrib['i']): _.attrib['n'] for _ in metrics}\n",
      "   123         1        556.0    556.0      0.1          _LOG.info('%s', pprint.pformat(self._metrics_by_id))\n",
      "   124                                           \n",
      "   125         1       1535.0   1535.0      0.2          self._metrics_formulas = _derive_metrics_formulas(metrics)\n",
      "   126         1       2198.0   2198.0      0.3          _LOG.info('%s', pprint.pformat(self._metrics_formulas))\n",
      "   127                                           \n",
      "   128         1         67.0     67.0      0.0          modules = profile_data.find('./SecHeader/LoadModuleTable')\n",
      "   129         1          9.0      9.0      0.0          _LOG.debug('%s', [(_, _.attrib) for _ in modules])\n",
      "   130         1        220.0    220.0      0.0          self._modules_by_id = {int(_.attrib['i']): pathlib.Path(_.attrib['n']) for _ in modules}\n",
      "   131         1        366.0    366.0      0.1          _LOG.info('%s', pprint.pformat(self._modules_by_id))\n",
      "   132                                           \n",
      "   133         1         41.0     41.0      0.0          files = profile_data.find('./SecHeader/FileTable')\n",
      "   134         1         26.0     26.0      0.0          _LOG.debug('%s', [(_, _.attrib) for _ in files])\n",
      "   135         1       2814.0   2814.0      0.4          self._files_by_id = {int(_.attrib['i']): pathlib.Path(_.attrib['n']) for _ in files}\n",
      "   136         1       4596.0   4596.0      0.6          _LOG.info('%s', pprint.pformat(self._files_by_id))\n",
      "   137                                           \n",
      "   138         1         58.0     58.0      0.0          procedures = profile_data.find('./SecHeader/ProcedureTable')\n",
      "   139         1         47.0     47.0      0.0          _LOG.debug('%s', [(_, _.attrib) for _ in procedures])\n",
      "   140         1        127.0    127.0      0.0          self._procedures_by_id = {int(_.attrib['i']): _.attrib['n'] for _ in procedures}\n",
      "   141         1       5566.0   5566.0      0.8          _LOG.info('%s', pprint.pformat(self._procedures_by_id))\n",
      "   142                                           \n",
      "   143         1         33.0     33.0      0.0          measurements = profile_data.find('./SecCallPathProfileData')\n",
      "   144         1         10.0     10.0      0.0          _LOG.debug('%s', [(_, _.attrib) for _ in measurements])\n",
      "   145                                           \n",
      "   146         1          8.0      8.0      0.0          columns = [metric for _, metric in sorted(self._metrics_by_id.items())]\n",
      "   147         1          3.0      3.0      0.0          columns += _LOCATION_COLUMNS\n",
      "   148                                           \n",
      "   149         1     563390.0 563390.0     79.1          rows = self._add_measurements(measurements)\n",
      "   150         1        385.0    385.0      0.1          index = [_['id'] for _ in rows]\n",
      "   151         1         89.0     89.0      0.0          assert len(index) == len(set(index)), index\n",
      "   152         1       8136.0   8136.0      1.1          super().__init__(data=rows, index=index, columns=columns)\n",
      "   153         1        915.0    915.0      0.1          self._fix_root_measurement()\n",
      "   154                                                   # self['id'] = pd.to_numeric(self['id'], errors='coerce', downcast='integer')\n",
      "   155                                                   # self['id'] = self['id'].astype(int)\n",
      "   156         1        885.0    885.0      0.1          self._add_percentage_columns()\n",
      "\n",
      "Total time: 0.098142 s\n",
      "File: /nfs2/mbysiek/Projects/docker-transpyle-flash/hpctoolkit_dataframe.py\n",
      "Function: _evaluate_measurements_data at line 158\n",
      "\n",
      "Line #      Hits         Time  Per Hit   % Time  Line Contents\n",
      "==============================================================\n",
      "   158                                               def _evaluate_measurements_data(self, data: dict) -> dict:\n",
      "   159      2158        823.0      0.4      0.8          processed_data = {}\n",
      "   160     46442      15806.0      0.3     16.1          for column, entry in data.items():\n",
      "   161     44284      16443.0      0.4     16.8              if column not in self._metrics_formulas:\n",
      "   162      7720       2313.0      0.3      2.4                  processed_data[column] = entry\n",
      "   163      7720       2020.0      0.3      2.1                  continue\n",
      "   164     36564      13038.0      0.4     13.3              formula_code, formula = self._metrics_formulas[column]\n",
      "   165     36564       9852.0      0.3     10.0              try:\n",
      "   166     36564      37275.0      1.0     38.0                  processed_data[column] = formula(self, data)\n",
      "   167                                                       except ValueError as error:\n",
      "   168                                                           raise ValueError(\n",
      "   169                                                               'error while evaluating \"\"\"{}\"\"\" to compute \"{}\" in row {}'\n",
      "   170                                                               .format(formula_code, column, data)) from error\n",
      "   171      2158        572.0      0.3      0.6          return processed_data\n",
      "\n",
      "Total time: 0.365285 s\n",
      "File: /nfs2/mbysiek/Projects/docker-transpyle-flash/hpctoolkit_dataframe.py\n",
      "Function: _add_measurements at line 173\n",
      "\n",
      "Line #      Hits         Time  Per Hit   % Time  Line Contents\n",
      "==============================================================\n",
      "   173                                               def _add_measurements(self, measurements: ET.Element, location: t.Dict[str, t.Any] = None, *,\n",
      "   174                                                                     depth: t.Optional[int] = 0, add_local: bool = True) -> t.List[pd.Series]:\n",
      "   175      2586       1780.0      0.7      0.5          if location is None:\n",
      "   176         1          1.0      1.0      0.0              location = {'line': 0, 'id': -1, 'callpath': ()}\n",
      "   177      2586       1770.0      0.7      0.5          rows = []\n",
      "   178                                           \n",
      "   179                                                   # split measurements into M and non-M items\n",
      "   180      2586       1806.0      0.7      0.5          local_measurements = {}\n",
      "   181      2586       1658.0      0.6      0.5          nonlocal_measurements = []\n",
      "   182     55875      38013.0      0.7     10.4          for measurement in measurements:\n",
      "   183     53289      37856.0      0.7     10.4              if measurement.tag == 'M':\n",
      "   184                                                           local_measurements[self._metrics_by_id[int(measurement.attrib['n'])]] = \\\n",
      "   185     50704      65131.0      1.3     17.8                      float(measurement.attrib['v'])\n",
      "   186                                                       else:\n",
      "   187      2585       2058.0      0.8      0.6                  nonlocal_measurements.append(measurement)\n",
      "   188                                           \n",
      "   189      2586       1710.0      0.7      0.5          if add_local:\n",
      "   190      2158     158621.0     73.5     43.4              local_measurements = self._evaluate_measurements_data(local_measurements)\n",
      "   191      2158       1561.0      0.7      0.4              if location is not None:\n",
      "   192      2158       2471.0      1.1      0.7                  local_measurements.update(location)\n",
      "   193      2158       1756.0      0.8      0.5              rows.append(local_measurements)\n",
      "   194                                           \n",
      "   195      2586       2005.0      0.8      0.5          if self._max_depth is not None and depth >= self._max_depth:\n",
      "   196                                                       return rows\n",
      "   197                                           \n",
      "   198      5171       4029.0      0.8      1.1          for measurement in nonlocal_measurements:\n",
      "   199      2585       2109.0      0.8      0.6              if measurement.tag not in _MEASUREMENT_TYPES:\n",
      "   200                                                           raise NotImplementedError(\n",
      "   201                                                               (measurement.tag, measurement.attrib, [_ for _ in measurement]))\n",
      "   202                                           \n",
      "   203      2585       2247.0      0.9      0.6              if self._skip_callsite and measurement.tag == 'C':\n",
      "   204       428        305.0      0.7      0.1                  rows += self._add_measurements(measurement, location,\n",
      "   205       428        348.0      0.8      0.1                                                 depth=depth, add_local=False)\n",
      "   206       428        304.0      0.7      0.1                  continue\n",
      "   207                                           \n",
      "   208      2157       1795.0      0.8      0.5              new_location = {}\n",
      "   209      2157       2270.0      1.1      0.6              new_location.update(location)\n",
      "   210                                                       # callpath_suffix = ''\n",
      "   211      2157       1790.0      0.8      0.5              if 'lm' in measurement.attrib:\n",
      "   212       527        654.0      1.2      0.2                  _ = self._modules_by_id[int(measurement.attrib['lm'])]\n",
      "   213       527        519.0      1.0      0.1                  new_location[_LOCATION_TYPES['lm'] + ' path'] = _\n",
      "   214       527       1122.0      2.1      0.3                  new_location[_LOCATION_TYPES['lm']] = _.name\n",
      "   215                                                           # callpath_suffix += '{}'.format(_.name)\n",
      "   216      2157       1665.0      0.8      0.5              if 'f' in measurement.attrib:\n",
      "   217      1172       1492.0      1.3      0.4                  _ = self._files_by_id[int(measurement.attrib['f'])]\n",
      "   218      1172       1093.0      0.9      0.3                  new_location[_LOCATION_TYPES['f'] + ' path'] = _\n",
      "   219      1172       2113.0      1.8      0.6                  new_location[_LOCATION_TYPES['f']] = _.name\n",
      "   220                                                           # callpath_suffix += ' {}'.format(_.name)\n",
      "   221      2157       1610.0      0.7      0.4              if 'l' in measurement.attrib:\n",
      "   222      2157       2373.0      1.1      0.6                  _ = int(measurement.attrib['l'])\n",
      "   223      2157       1692.0      0.8      0.5                  new_location[_LOCATION_TYPES['l']] = _\n",
      "   224                                                           # callpath_suffix += ':{}'.format(_)\n",
      "   225      2157       1654.0      0.8      0.5              if 'n' in measurement.attrib:\n",
      "   226       527        654.0      1.2      0.2                  _ = self._procedures_by_id[int(measurement.attrib['n'])]\n",
      "   227       527        431.0      0.8      0.1                  new_location[_LOCATION_TYPES['n']] = _\n",
      "   228                                                           # callpath_suffix += ' {}()'.format(_)\n",
      "   229      2157       1645.0      0.8      0.5              if 'i' in measurement.attrib:\n",
      "   230      2157       2009.0      0.9      0.5                  _ = int(measurement.attrib['i'])\n",
      "   231      2157       1689.0      0.8      0.5                  new_location[_LOCATION_TYPES['i']] = _\n",
      "   232                                                           # callpath_suffix += ' {}'.format(_)\n",
      "   233      2157       1639.0      0.8      0.4              assert 'id' in new_location, \\\n",
      "   234                                                           (measurement.tag, measurement.attrib, [_ for _ in measurement])\n",
      "   235                                                       # assert callpath_suffix, \\\n",
      "   236                                                       #    (measurement.tag, measurement.attrib, [_ for _ in measurement])\n",
      "   237                                                       # new_location['callpath'] = (*location['callpath'], callpath_suffix)\n",
      "   238      2157       2579.0      1.2      0.7              new_location['callpath'] = (*location['callpath'], new_location['id'])\n",
      "   239                                           \n",
      "   240      2157       1706.0      0.8      0.5              rows += self._add_measurements(measurement, new_location,\n",
      "   241      2157       1904.0      0.9      0.5                                             depth=depth + 1, add_local=True)\n",
      "   242                                           \n",
      "   243      2586       1648.0      0.6      0.5          return rows\n",
      "\n",
      "Total time: 0.000906 s\n",
      "File: /nfs2/mbysiek/Projects/docker-transpyle-flash/hpctoolkit_dataframe.py\n",
      "Function: _fix_root_measurement at line 245\n",
      "\n",
      "Line #      Hits         Time  Per Hit   % Time  Line Contents\n",
      "==============================================================\n",
      "   245                                               def _fix_root_measurement(self):\n",
      "   246                                                   selected_columns = [\n",
      "   247         1          0.0      0.0      0.0              r'CPUTIME (usec):Sum ({})', r'CPUTIME (usec):Mean ({})',\n",
      "   248         1          1.0      1.0      0.1              r'CPUTIME (usec):Min ({})', r'CPUTIME (usec):Max ({})', r'CPUTIME (usec):StdDev ({})']\n",
      "   249         6          5.0      0.8      0.6          for column in selected_columns:\n",
      "   250         5        900.0    180.0     99.3              self.at[_ROOT_INDEX, column.format('E')] = self.at[_ROOT_INDEX, column.format('I')]\n",
      "\n",
      "Total time: 1.83597 s\n",
      "File: /nfs2/mbysiek/Projects/docker-transpyle-flash/hpctoolkit_dataframe.py\n",
      "Function: _add_percentage_columns at line 252\n",
      "\n",
      "Line #      Hits         Time  Per Hit   % Time  Line Contents\n",
      "==============================================================\n",
      "   252                                               def _add_percentage_columns(self, base_columns: t.Dict[str, str] = None) -> None:\n",
      "   253         1          0.0      0.0      0.0          if base_columns is None:\n",
      "   254                                                       base_columns = (\n",
      "   255         1          0.0      0.0      0.0                  ('CPUTIME (usec):Mean (I)', 'total'), ('CPUTIME (usec):Mean (I)', 'parent'))\n",
      "   256         3          2.0      0.7      0.0          for base_column, method in base_columns:\n",
      "   257         2          1.0      0.5      0.0              self._add_percentage_column(\n",
      "   258         2    1835963.0 917981.5    100.0                  base_column, '{} ratio of {}'.format(base_column, method), method)\n",
      "\n",
      "Total time: 1.81638 s\n",
      "File: /nfs2/mbysiek/Projects/docker-transpyle-flash/hpctoolkit_dataframe.py\n",
      "Function: _add_percentage_column at line 260\n",
      "\n",
      "Line #      Hits         Time  Per Hit   % Time  Line Contents\n",
      "==============================================================\n",
      "   260                                               def _add_percentage_column(self, base_column: str, column_name: str, method: str) -> None:\n",
      "   261         2         37.0     18.5      0.0          assert base_column in self.columns, base_column\n",
      "   262         2         10.0      5.0      0.0          column_index = self.columns.get_loc(base_column) + 1\n",
      "   263         2       2098.0   1049.0      0.1          simple_self = self[[base_column, 'callpath']]\n",
      "   264         2          2.0      1.0      0.0          if method == 'total':\n",
      "   265         1       1019.0   1019.0      0.1              filtered = simple_self.loc[[_ROOT_INDEX]]\n",
      "   266         1        102.0    102.0      0.0              total = filtered[base_column].item()\n",
      "   267         1     286790.0 286790.0     15.8              data = [row.at[base_column] / total for _, row in simple_self.iterrows()]\n",
      "   268                                                   else:\n",
      "   269         1          1.0      1.0      0.0              assert method == 'parent'\n",
      "   270         1          0.0      0.0      0.0              data = []\n",
      "   271         1          1.0      1.0      0.0              _cache = {}\n",
      "   272      2159     266214.0    123.3     14.7              for _, row in simple_self.iterrows():\n",
      "   273      2158      58755.0     27.2      3.2                  value = row.at[base_column]\n",
      "   274      2158      46276.0     21.4      2.5                  base_callpath = row.at['callpath']\n",
      "   275      2158       1513.0      0.7      0.1                  base = None\n",
      "   276      3331       2504.0      0.8      0.1                  while base is None or base < value:\n",
      "   277      2158       2213.0      1.0      0.1                      base_callpath = base_callpath[:-1]\n",
      "   278      2158       1857.0      0.9      0.1                      if base_callpath in _cache:\n",
      "   279       985        793.0      0.8      0.0                          base = _cache[base_callpath]\n",
      "   280       985        582.0      0.6      0.0                          break\n",
      "   281      1173        646.0      0.6      0.0                      try:\n",
      "   282      1173    1045136.0    891.0     57.5                          filtered = simple_self.loc[simple_self['callpath'] == base_callpath]\n",
      "   283                                                               except KeyError:\n",
      "   284                                                                   _LOG.exception('no measurements for callpath %s', base_callpath)\n",
      "   285                                                                   continue\n",
      "   286      1173       3387.0      2.9      0.2                      assert len(filtered) == 1, \\\n",
      "   287                                                                   (base_column, row.at['callpath'], base_callpath, filtered)\n",
      "   288      1173      91105.0     77.7      5.0                      base = filtered[base_column].item()\n",
      "   289      1173       1486.0      1.3      0.1                      _cache[base_callpath] = base\n",
      "   290      2158       2146.0      1.0      0.1                  data.append(value / base)\n",
      "   291         1         69.0     69.0      0.0              del _cache\n",
      "   292         2       1643.0    821.5      0.1          self.insert(column_index, column_name, data)\n",
      "\n",
      "Total time: 0.000948 s\n",
      "File: /nfs2/mbysiek/Projects/docker-transpyle-flash/hpctoolkit_dataframe.py\n",
      "Function: select_basic at line 302\n",
      "\n",
      "Line #      Hits         Time  Per Hit   % Time  Line Contents\n",
      "==============================================================\n",
      "   302                                               def select_basic(self, category: str) -> pd.DataFrame:\n",
      "   303                                                   selected_columns = [\n",
      "   304         1          1.0      1.0      0.1              r'CPUTIME (usec):Mean ({})',\n",
      "   305         1          1.0      1.0      0.1              r'CPUTIME (usec):Mean ({}) ratio of total', r'CPUTIME (usec):Mean ({}) ratio of parent',\n",
      "   306         1          1.0      1.0      0.1              r'CPUTIME (usec):Min ({})', r'CPUTIME (usec):Max ({})', r'CPUTIME (usec):StdDev ({})']\n",
      "   307         1          5.0      5.0      0.5          selected_columns = [_.format(category) for _ in selected_columns]\n",
      "   308         1        940.0    940.0     99.2          return self[selected_columns]\n",
      "\n",
      "Total time: 1.33856 s\n",
      "File: /nfs2/mbysiek/Projects/docker-transpyle-flash/hpctoolkit_dataframe.py\n",
      "Function: at_paths at line 318\n",
      "\n",
      "Line #      Hits         Time  Per Hit   % Time  Line Contents\n",
      "==============================================================\n",
      "   318                                               def at_paths(self, *fragments, prefix: tuple = (), suffix: tuple = ()) -> pd.DataFrame:\n",
      "   319        22    1325877.0  60267.1     99.1          mask = self.apply(_callpath_filter, axis=1, args=(fragments, prefix, suffix))\n",
      "   320        22      12683.0    576.5      0.9          return self[mask]\n",
      "\n",
      "Total time: 0.768861 s\n",
      "File: /nfs2/mbysiek/Projects/docker-transpyle-flash/hpctoolkit_dataframe.py\n",
      "Function: at_depths at line 322\n",
      "\n",
      "Line #      Hits         Time  Per Hit   % Time  Line Contents\n",
      "==============================================================\n",
      "   322                                               def at_depths(self, min_depth: t.Optional[int] = None,\n",
      "   323                                                             max_depth: t.Optional[int] = None) -> pd.DataFrame:\n",
      "   324        22     757047.0  34411.2     98.5          mask = self.apply(_depth_filter, axis=1, args=(min_depth, max_depth))\n",
      "   325        22      11814.0    537.0      1.5          return self[mask]\n",
      "\n",
      "Total time: 0.768981 s\n",
      "File: /nfs2/mbysiek/Projects/docker-transpyle-flash/hpctoolkit_dataframe.py\n",
      "Function: at_depth at line 327\n",
      "\n",
      "Line #      Hits         Time  Per Hit   % Time  Line Contents\n",
      "==============================================================\n",
      "   327                                               def at_depth(self, depth: int) -> pd.DataFrame:\n",
      "   328        22     768981.0  34953.7    100.0          return self.at_depths(depth, depth)\n",
      "\n",
      "Total time: 2.12895 s\n",
      "File: /nfs2/mbysiek/Projects/docker-transpyle-flash/hpctoolkit_dataframe.py\n",
      "Function: hot_path at line 330\n",
      "\n",
      "Line #      Hits         Time  Per Hit   % Time  Line Contents\n",
      "==============================================================\n",
      "   330                                               def hot_path(self, callpath: tuple = (), threshold: int = 0.05) -> pd.DataFrame:\n",
      "   331         1          3.0      3.0      0.0          base_column = 'CPUTIME (usec):Mean (I) ratio of total'\n",
      "   332         1       3720.0   3720.0      0.2          simple_self = self[[base_column, 'callpath']]\n",
      "   333         1          2.0      2.0      0.0          hot_callpaths = []\n",
      "   334                                           \n",
      "   335         1          1.0      1.0      0.0          while True:\n",
      "   336        22         22.0      1.0      0.0              hot_callpaths.append(callpath)\n",
      "   337                                           \n",
      "   338        22    1338825.0  60855.7     62.9              simple_self = simple_self.at_paths(prefix=callpath)\n",
      "   339        22        197.0      9.0      0.0              _LOG.debug('%i at target callpath', len(simple_self))\n",
      "   340        22     769137.0  34960.8     36.1              at_depth = simple_self.at_depth(len(callpath) + 1)\n",
      "   341        22        191.0      8.7      0.0              _LOG.debug('%i at depth %i', len(at_depth), len(callpath) + 1)\n",
      "   342                                           \n",
      "   343        22        220.0     10.0      0.0              if at_depth.empty:\n",
      "   344         1          0.0      0.0      0.0                  break\n",
      "   345                                           \n",
      "   346        21       4700.0    223.8      0.2              hottest_index = at_depth[base_column].idxmax()\n",
      "   347        21       9271.0    441.5      0.4              hottest_row = simple_self.loc[hottest_index]\n",
      "   348        21        663.0     31.6      0.0              callpath = hottest_row.at['callpath']\n",
      "   349        21        505.0     24.0      0.0              if hottest_row.at[base_column] < threshold:\n",
      "   350                                                           break\n",
      "   351                                           \n",
      "   352         1       1490.0   1490.0      0.1          return self[self.callpath.isin(hot_callpaths)]\n",
      "\n"
     ]
    }
   ],
   "source": [
    "profiler.print_stats()"
   ]
  },
  {
   "cell_type": "code",
   "execution_count": 6,
   "metadata": {},
   "outputs": [
    {
     "data": {
      "text/plain": [
       "CPUTIME (usec):Sum (I)                        float64\n",
       "CPUTIME (usec):Mean (I)                       float64\n",
       "CPUTIME (usec):Mean (I) ratio of parent       float64\n",
       "CPUTIME (usec):Mean (I) ratio of total        float64\n",
       "CPUTIME (usec):Mean:num-src (I)               float64\n",
       "CPUTIME (usec):StdDev (I)                  complex128\n",
       "CPUTIME (usec):StdDev:accum2 (I)              float64\n",
       "CPUTIME (usec):StdDev:num-src (I)             float64\n",
       "CPUTIME (usec):CfVar (I)                   complex128\n",
       "CPUTIME (usec):CfVar:accum2 (I)               float64\n",
       "CPUTIME (usec):CfVar:num-src (I)              float64\n",
       "CPUTIME (usec):Min (I)                        float64\n",
       "CPUTIME (usec):Max (I)                        float64\n",
       "CPUTIME (usec):Sum (E)                        float64\n",
       "CPUTIME (usec):Mean (E)                       float64\n",
       "CPUTIME (usec):Mean:num-src (E)               float64\n",
       "CPUTIME (usec):StdDev (E)                  complex128\n",
       "CPUTIME (usec):StdDev:accum2 (E)              float64\n",
       "CPUTIME (usec):StdDev:num-src (E)             float64\n",
       "CPUTIME (usec):CfVar (E)                   complex128\n",
       "CPUTIME (usec):CfVar:accum2 (E)               float64\n",
       "CPUTIME (usec):CfVar:num-src (E)              float64\n",
       "CPUTIME (usec):Min (E)                        float64\n",
       "CPUTIME (usec):Max (E)                        float64\n",
       "callpath                                       object\n",
       "module path                                    object\n",
       "module                                         object\n",
       "file path                                      object\n",
       "file                                           object\n",
       "line                                            int64\n",
       "procedure                                      object\n",
       "id                                              int64\n",
       "location type                                 float64\n",
       "dtype: object"
      ]
     },
     "execution_count": 6,
     "metadata": {},
     "output_type": "execute_result"
    }
   ],
   "source": [
    "df.dtypes"
   ]
  },
  {
   "cell_type": "code",
   "execution_count": 8,
   "metadata": {
    "scrolled": false
   },
   "outputs": [
    {
     "data": {
      "text/html": [
       "<div>\n",
       "<style scoped>\n",
       "    .dataframe tbody tr th:only-of-type {\n",
       "        vertical-align: middle;\n",
       "    }\n",
       "\n",
       "    .dataframe tbody tr th {\n",
       "        vertical-align: top;\n",
       "    }\n",
       "\n",
       "    .dataframe thead th {\n",
       "        text-align: right;\n",
       "    }\n",
       "</style>\n",
       "<table border=\"1\" class=\"dataframe\">\n",
       "  <thead>\n",
       "    <tr style=\"text-align: right;\">\n",
       "      <th></th>\n",
       "      <th>module</th>\n",
       "      <th>file</th>\n",
       "      <th>line</th>\n",
       "      <th>procedure</th>\n",
       "      <th>CPUTIME (usec):Mean (I)</th>\n",
       "      <th>CPUTIME (usec):Mean (I) ratio of total</th>\n",
       "      <th>CPUTIME (usec):Mean (I) ratio of parent</th>\n",
       "    </tr>\n",
       "  </thead>\n",
       "  <tbody>\n",
       "    <tr>\n",
       "      <th>-1</th>\n",
       "      <td>NaN</td>\n",
       "      <td>NaN</td>\n",
       "      <td>0</td>\n",
       "      <td>NaN</td>\n",
       "      <td>21146300.0</td>\n",
       "      <td>1.000000</td>\n",
       "      <td>1.000000</td>\n",
       "    </tr>\n",
       "    <tr>\n",
       "      <th>6</th>\n",
       "      <td>libmonitor.so.0.0.0</td>\n",
       "      <td>&lt;unknown file&gt; [libmonitor.so.0.0.0]</td>\n",
       "      <td>0</td>\n",
       "      <td>&lt;program root&gt;</td>\n",
       "      <td>21122400.0</td>\n",
       "      <td>0.998870</td>\n",
       "      <td>0.998870</td>\n",
       "    </tr>\n",
       "    <tr>\n",
       "      <th>8</th>\n",
       "      <td>flash4</td>\n",
       "      <td>Flash.F90</td>\n",
       "      <td>43</td>\n",
       "      <td>main</td>\n",
       "      <td>21122400.0</td>\n",
       "      <td>0.998870</td>\n",
       "      <td>1.000000</td>\n",
       "    </tr>\n",
       "    <tr>\n",
       "      <th>9</th>\n",
       "      <td>flash4</td>\n",
       "      <td>Flash.F90</td>\n",
       "      <td>43</td>\n",
       "      <td></td>\n",
       "      <td>21122400.0</td>\n",
       "      <td>0.998870</td>\n",
       "      <td>1.000000</td>\n",
       "    </tr>\n",
       "    <tr>\n",
       "      <th>10</th>\n",
       "      <td>flash4</td>\n",
       "      <td>Flash.F90</td>\n",
       "      <td>47</td>\n",
       "      <td>flash</td>\n",
       "      <td>21122400.0</td>\n",
       "      <td>0.998870</td>\n",
       "      <td>1.000000</td>\n",
       "    </tr>\n",
       "    <tr>\n",
       "      <th>154</th>\n",
       "      <td>flash4</td>\n",
       "      <td>Driver_evolveFlash.F90</td>\n",
       "      <td>38</td>\n",
       "      <td>driver_evolveflash_</td>\n",
       "      <td>20625700.0</td>\n",
       "      <td>0.975381</td>\n",
       "      <td>0.976485</td>\n",
       "    </tr>\n",
       "    <tr>\n",
       "      <th>170</th>\n",
       "      <td>flash4</td>\n",
       "      <td>Driver_evolveFlash.F90</td>\n",
       "      <td>164</td>\n",
       "      <td>driver_evolveflash_</td>\n",
       "      <td>20525700.0</td>\n",
       "      <td>0.970652</td>\n",
       "      <td>0.995152</td>\n",
       "    </tr>\n",
       "    <tr>\n",
       "      <th>194</th>\n",
       "      <td>flash4</td>\n",
       "      <td>Hydro.F90</td>\n",
       "      <td>55</td>\n",
       "      <td>hydro_</td>\n",
       "      <td>17406600.0</td>\n",
       "      <td>0.823151</td>\n",
       "      <td>0.848039</td>\n",
       "    </tr>\n",
       "    <tr>\n",
       "      <th>707</th>\n",
       "      <td>flash4</td>\n",
       "      <td>hy_advance.F90</td>\n",
       "      <td>207</td>\n",
       "      <td>hy_advance_</td>\n",
       "      <td>12961200.0</td>\n",
       "      <td>0.612930</td>\n",
       "      <td>0.744614</td>\n",
       "    </tr>\n",
       "    <tr>\n",
       "      <th>708</th>\n",
       "      <td>flash4</td>\n",
       "      <td>hy_advance.F90</td>\n",
       "      <td>75</td>\n",
       "      <td>&lt;inline&gt;</td>\n",
       "      <td>12961200.0</td>\n",
       "      <td>0.612930</td>\n",
       "      <td>1.000000</td>\n",
       "    </tr>\n",
       "    <tr>\n",
       "      <th>768</th>\n",
       "      <td>flash4</td>\n",
       "      <td>hy_advance.F90</td>\n",
       "      <td>75</td>\n",
       "      <td>&lt;inline&gt;</td>\n",
       "      <td>12625900.0</td>\n",
       "      <td>0.597074</td>\n",
       "      <td>0.974130</td>\n",
       "    </tr>\n",
       "    <tr>\n",
       "      <th>773</th>\n",
       "      <td>flash4</td>\n",
       "      <td>hy_computeFluxes.F90</td>\n",
       "      <td>78</td>\n",
       "      <td>hy_computefluxes_</td>\n",
       "      <td>12617900.0</td>\n",
       "      <td>0.596695</td>\n",
       "      <td>0.999366</td>\n",
       "    </tr>\n",
       "    <tr>\n",
       "      <th>819</th>\n",
       "      <td>flash4</td>\n",
       "      <td>hy_getRiemannState.F90</td>\n",
       "      <td>68</td>\n",
       "      <td>hy_getriemannstate_</td>\n",
       "      <td>9575540.0</td>\n",
       "      <td>0.452823</td>\n",
       "      <td>0.758885</td>\n",
       "    </tr>\n",
       "    <tr>\n",
       "      <th>836</th>\n",
       "      <td>flash4</td>\n",
       "      <td>hy_getRiemannState.F90</td>\n",
       "      <td>476</td>\n",
       "      <td>hy_getriemannstate_</td>\n",
       "      <td>9535720.0</td>\n",
       "      <td>0.450940</td>\n",
       "      <td>0.995841</td>\n",
       "    </tr>\n",
       "    <tr>\n",
       "      <th>837</th>\n",
       "      <td>flash4</td>\n",
       "      <td>hy_getRiemannState.F90</td>\n",
       "      <td>477</td>\n",
       "      <td>hy_getriemannstate_</td>\n",
       "      <td>9535720.0</td>\n",
       "      <td>0.450940</td>\n",
       "      <td>1.000000</td>\n",
       "    </tr>\n",
       "    <tr>\n",
       "      <th>879</th>\n",
       "      <td>flash4</td>\n",
       "      <td>hy_dataReconstOneStep.F90</td>\n",
       "      <td>82</td>\n",
       "      <td>hy_datareconstonestep_</td>\n",
       "      <td>8722130.0</td>\n",
       "      <td>0.412466</td>\n",
       "      <td>0.914680</td>\n",
       "    </tr>\n",
       "    <tr>\n",
       "      <th>976</th>\n",
       "      <td>flash4</td>\n",
       "      <td>hy_dataReconstOneStep.F90</td>\n",
       "      <td>485</td>\n",
       "      <td>hy_datareconstonestep_</td>\n",
       "      <td>7901000.0</td>\n",
       "      <td>0.373635</td>\n",
       "      <td>0.905857</td>\n",
       "    </tr>\n",
       "    <tr>\n",
       "      <th>984</th>\n",
       "      <td>flash4</td>\n",
       "      <td>hy_DataReconstructNormalDir_PPM.F90</td>\n",
       "      <td>73</td>\n",
       "      <td>hy_datareconstructnormaldir_ppm_</td>\n",
       "      <td>7789260.0</td>\n",
       "      <td>0.368351</td>\n",
       "      <td>0.985857</td>\n",
       "    </tr>\n",
       "    <tr>\n",
       "      <th>1043</th>\n",
       "      <td>flash4</td>\n",
       "      <td>hy_upwindTransverseFlux.F90</td>\n",
       "      <td>43</td>\n",
       "      <td>hy_upwindtransverseflux_</td>\n",
       "      <td>1319760.0</td>\n",
       "      <td>0.062411</td>\n",
       "      <td>0.169433</td>\n",
       "    </tr>\n",
       "    <tr>\n",
       "      <th>1051</th>\n",
       "      <td>flash4</td>\n",
       "      <td>hy_upwindTransverseFlux.F90</td>\n",
       "      <td>132</td>\n",
       "      <td>hy_upwindtransverseflux_</td>\n",
       "      <td>1168350.0</td>\n",
       "      <td>0.055251</td>\n",
       "      <td>0.885275</td>\n",
       "    </tr>\n",
       "    <tr>\n",
       "      <th>1059</th>\n",
       "      <td>flash4</td>\n",
       "      <td>hy_upwindTransverseFlux.F90</td>\n",
       "      <td>144</td>\n",
       "      <td>hy_upwindtransverseflux_</td>\n",
       "      <td>338927.0</td>\n",
       "      <td>0.016028</td>\n",
       "      <td>0.290090</td>\n",
       "    </tr>\n",
       "    <tr>\n",
       "      <th>1060</th>\n",
       "      <td>flash4</td>\n",
       "      <td>hy_upwindTransverseFlux.F90</td>\n",
       "      <td>144</td>\n",
       "      <td>hy_upwindtransverseflux_</td>\n",
       "      <td>338927.0</td>\n",
       "      <td>0.016028</td>\n",
       "      <td>1.000000</td>\n",
       "    </tr>\n",
       "  </tbody>\n",
       "</table>\n",
       "</div>"
      ],
      "text/plain": [
       "                    module                                  file  line  \\\n",
       "-1                     NaN                                   NaN     0   \n",
       " 6     libmonitor.so.0.0.0  <unknown file> [libmonitor.so.0.0.0]     0   \n",
       " 8                  flash4                             Flash.F90    43   \n",
       " 9                  flash4                             Flash.F90    43   \n",
       " 10                 flash4                             Flash.F90    47   \n",
       " 154                flash4                Driver_evolveFlash.F90    38   \n",
       " 170                flash4                Driver_evolveFlash.F90   164   \n",
       " 194                flash4                             Hydro.F90    55   \n",
       " 707                flash4                        hy_advance.F90   207   \n",
       " 708                flash4                        hy_advance.F90    75   \n",
       " 768                flash4                        hy_advance.F90    75   \n",
       " 773                flash4                  hy_computeFluxes.F90    78   \n",
       " 819                flash4                hy_getRiemannState.F90    68   \n",
       " 836                flash4                hy_getRiemannState.F90   476   \n",
       " 837                flash4                hy_getRiemannState.F90   477   \n",
       " 879                flash4             hy_dataReconstOneStep.F90    82   \n",
       " 976                flash4             hy_dataReconstOneStep.F90   485   \n",
       " 984                flash4   hy_DataReconstructNormalDir_PPM.F90    73   \n",
       " 1043               flash4           hy_upwindTransverseFlux.F90    43   \n",
       " 1051               flash4           hy_upwindTransverseFlux.F90   132   \n",
       " 1059               flash4           hy_upwindTransverseFlux.F90   144   \n",
       " 1060               flash4           hy_upwindTransverseFlux.F90   144   \n",
       "\n",
       "                              procedure  CPUTIME (usec):Mean (I)  \\\n",
       "-1                                  NaN               21146300.0   \n",
       " 6                       <program root>               21122400.0   \n",
       " 8                                 main               21122400.0   \n",
       " 9                                                    21122400.0   \n",
       " 10                               flash               21122400.0   \n",
       " 154                driver_evolveflash_               20625700.0   \n",
       " 170                driver_evolveflash_               20525700.0   \n",
       " 194                             hydro_               17406600.0   \n",
       " 707                        hy_advance_               12961200.0   \n",
       " 708                           <inline>               12961200.0   \n",
       " 768                           <inline>               12625900.0   \n",
       " 773                  hy_computefluxes_               12617900.0   \n",
       " 819                hy_getriemannstate_                9575540.0   \n",
       " 836                hy_getriemannstate_                9535720.0   \n",
       " 837                hy_getriemannstate_                9535720.0   \n",
       " 879             hy_datareconstonestep_                8722130.0   \n",
       " 976             hy_datareconstonestep_                7901000.0   \n",
       " 984   hy_datareconstructnormaldir_ppm_                7789260.0   \n",
       " 1043          hy_upwindtransverseflux_                1319760.0   \n",
       " 1051          hy_upwindtransverseflux_                1168350.0   \n",
       " 1059          hy_upwindtransverseflux_                 338927.0   \n",
       " 1060          hy_upwindtransverseflux_                 338927.0   \n",
       "\n",
       "       CPUTIME (usec):Mean (I) ratio of total  \\\n",
       "-1                                   1.000000   \n",
       " 6                                   0.998870   \n",
       " 8                                   0.998870   \n",
       " 9                                   0.998870   \n",
       " 10                                  0.998870   \n",
       " 154                                 0.975381   \n",
       " 170                                 0.970652   \n",
       " 194                                 0.823151   \n",
       " 707                                 0.612930   \n",
       " 708                                 0.612930   \n",
       " 768                                 0.597074   \n",
       " 773                                 0.596695   \n",
       " 819                                 0.452823   \n",
       " 836                                 0.450940   \n",
       " 837                                 0.450940   \n",
       " 879                                 0.412466   \n",
       " 976                                 0.373635   \n",
       " 984                                 0.368351   \n",
       " 1043                                0.062411   \n",
       " 1051                                0.055251   \n",
       " 1059                                0.016028   \n",
       " 1060                                0.016028   \n",
       "\n",
       "       CPUTIME (usec):Mean (I) ratio of parent  \n",
       "-1                                    1.000000  \n",
       " 6                                    0.998870  \n",
       " 8                                    1.000000  \n",
       " 9                                    1.000000  \n",
       " 10                                   1.000000  \n",
       " 154                                  0.976485  \n",
       " 170                                  0.995152  \n",
       " 194                                  0.848039  \n",
       " 707                                  0.744614  \n",
       " 708                                  1.000000  \n",
       " 768                                  0.974130  \n",
       " 773                                  0.999366  \n",
       " 819                                  0.758885  \n",
       " 836                                  0.995841  \n",
       " 837                                  1.000000  \n",
       " 879                                  0.914680  \n",
       " 976                                  0.905857  \n",
       " 984                                  0.985857  \n",
       " 1043                                 0.169433  \n",
       " 1051                                 0.885275  \n",
       " 1059                                 0.290090  \n",
       " 1060                                 1.000000  "
      ]
     },
     "execution_count": 8,
     "metadata": {},
     "output_type": "execute_result"
    }
   ],
   "source": [
    "hot_path.compact"
   ]
  },
  {
   "cell_type": "markdown",
   "metadata": {},
   "source": [
    "### Profiling data access"
   ]
  },
  {
   "cell_type": "markdown",
   "metadata": {},
   "source": [
    "#### 1\n",
    "\n",
    "`DataFrame.loc[[str(...)]]` vs `DataFrame[DataFrame.col == ...]` vs `DataFrame[DataFrame['col'] == ...]`\n",
    "\n",
    "assuming that `DataFrame` is indexed by stringified column `col`"
   ]
  },
  {
   "cell_type": "code",
   "execution_count": 7,
   "metadata": {},
   "outputs": [
    {
     "name": "stdout",
     "output_type": "stream",
     "text": [
      "579 µs ± 34.3 µs per loop (mean ± std. dev. of 7 runs, 1000 loops each)\n"
     ]
    }
   ],
   "source": [
    "%%timeit\n",
    "\n",
    "df.loc[[str(())]]"
   ]
  },
  {
   "cell_type": "code",
   "execution_count": 8,
   "metadata": {},
   "outputs": [
    {
     "data": {
      "text/plain": [
       "hpctoolkit_dataframe.HPCtoolkitDataFrame"
      ]
     },
     "execution_count": 8,
     "metadata": {},
     "output_type": "execute_result"
    }
   ],
   "source": [
    "type(df.loc[[str(())]])"
   ]
  },
  {
   "cell_type": "code",
   "execution_count": 9,
   "metadata": {
    "scrolled": true
   },
   "outputs": [
    {
     "name": "stdout",
     "output_type": "stream",
     "text": [
      "544 µs ± 36.8 µs per loop (mean ± std. dev. of 7 runs, 1000 loops each)\n"
     ]
    }
   ],
   "source": [
    "%%timeit\n",
    "\n",
    "df[df.location == ()]"
   ]
  },
  {
   "cell_type": "code",
   "execution_count": 10,
   "metadata": {},
   "outputs": [
    {
     "data": {
      "text/plain": [
       "hpctoolkit_dataframe.HPCtoolkitDataFrame"
      ]
     },
     "execution_count": 10,
     "metadata": {},
     "output_type": "execute_result"
    }
   ],
   "source": [
    "type(df[df.location == ()])"
   ]
  },
  {
   "cell_type": "code",
   "execution_count": 11,
   "metadata": {},
   "outputs": [
    {
     "name": "stdout",
     "output_type": "stream",
     "text": [
      "529 µs ± 36.3 µs per loop (mean ± std. dev. of 7 runs, 1000 loops each)\n"
     ]
    }
   ],
   "source": [
    "%%timeit\n",
    "\n",
    "df[df['location'] == ()]"
   ]
  },
  {
   "cell_type": "markdown",
   "metadata": {},
   "source": [
    "#### 2\n",
    "\n",
    "`Series.at[...]` vs `Series.get(...)` vs `Series[...]`"
   ]
  },
  {
   "cell_type": "code",
   "execution_count": 12,
   "metadata": {},
   "outputs": [],
   "source": [
    "filtered = df.loc['()']"
   ]
  },
  {
   "cell_type": "code",
   "execution_count": 13,
   "metadata": {},
   "outputs": [
    {
     "data": {
      "text/plain": [
       "pandas.core.series.Series"
      ]
     },
     "execution_count": 13,
     "metadata": {},
     "output_type": "execute_result"
    }
   ],
   "source": [
    "type(filtered)"
   ]
  },
  {
   "cell_type": "code",
   "execution_count": 14,
   "metadata": {},
   "outputs": [
    {
     "name": "stdout",
     "output_type": "stream",
     "text": [
      "135 µs ± 1.68 µs per loop (mean ± std. dev. of 7 runs, 10000 loops each)\n"
     ]
    }
   ],
   "source": [
    "%%timeit\n",
    "\n",
    "df.loc['()']"
   ]
  },
  {
   "cell_type": "code",
   "execution_count": 15,
   "metadata": {},
   "outputs": [
    {
     "name": "stdout",
     "output_type": "stream",
     "text": [
      "7.71 µs ± 56.3 ns per loop (mean ± std. dev. of 7 runs, 100000 loops each)\n"
     ]
    }
   ],
   "source": [
    "%%timeit\n",
    "\n",
    "filtered.at['location']"
   ]
  },
  {
   "cell_type": "code",
   "execution_count": 16,
   "metadata": {},
   "outputs": [
    {
     "data": {
      "text/plain": [
       "tuple"
      ]
     },
     "execution_count": 16,
     "metadata": {},
     "output_type": "execute_result"
    }
   ],
   "source": [
    "type(filtered.at['location'])"
   ]
  },
  {
   "cell_type": "code",
   "execution_count": 17,
   "metadata": {},
   "outputs": [
    {
     "name": "stdout",
     "output_type": "stream",
     "text": [
      "9.82 µs ± 256 ns per loop (mean ± std. dev. of 7 runs, 100000 loops each)\n"
     ]
    }
   ],
   "source": [
    "%%timeit\n",
    "\n",
    "filtered.get('location')"
   ]
  },
  {
   "cell_type": "code",
   "execution_count": 18,
   "metadata": {},
   "outputs": [
    {
     "data": {
      "text/plain": [
       "tuple"
      ]
     },
     "execution_count": 18,
     "metadata": {},
     "output_type": "execute_result"
    }
   ],
   "source": [
    "type(filtered.get('location'))"
   ]
  },
  {
   "cell_type": "code",
   "execution_count": 19,
   "metadata": {},
   "outputs": [
    {
     "name": "stdout",
     "output_type": "stream",
     "text": [
      "9.4 µs ± 23.8 ns per loop (mean ± std. dev. of 7 runs, 100000 loops each)\n"
     ]
    }
   ],
   "source": [
    "%%timeit\n",
    "\n",
    "filtered['location']"
   ]
  },
  {
   "cell_type": "code",
   "execution_count": 20,
   "metadata": {},
   "outputs": [
    {
     "data": {
      "text/plain": [
       "tuple"
      ]
     },
     "execution_count": 20,
     "metadata": {},
     "output_type": "execute_result"
    }
   ],
   "source": [
    "type(filtered['location'])"
   ]
  },
  {
   "cell_type": "markdown",
   "metadata": {},
   "source": [
    "#### 3\n",
    "\n",
    "`DataFrame.at['index', 'col']` vs `DataFrame.get('col').item()` vs `DataFrame['col'].item()`\n",
    "\n",
    "assuming that `Dataframe` contains only one row (indexed as `'index'`)"
   ]
  },
  {
   "cell_type": "code",
   "execution_count": 21,
   "metadata": {},
   "outputs": [],
   "source": [
    "filtered = df.loc[['()']]"
   ]
  },
  {
   "cell_type": "code",
   "execution_count": 22,
   "metadata": {},
   "outputs": [
    {
     "data": {
      "text/plain": [
       "hpctoolkit_dataframe.HPCtoolkitDataFrame"
      ]
     },
     "execution_count": 22,
     "metadata": {},
     "output_type": "execute_result"
    }
   ],
   "source": [
    "type(filtered)"
   ]
  },
  {
   "cell_type": "code",
   "execution_count": 23,
   "metadata": {},
   "outputs": [
    {
     "name": "stdout",
     "output_type": "stream",
     "text": [
      "522 µs ± 5.37 µs per loop (mean ± std. dev. of 7 runs, 1000 loops each)\n"
     ]
    }
   ],
   "source": [
    "%%timeit\n",
    "\n",
    "df.loc[['()']]"
   ]
  },
  {
   "cell_type": "code",
   "execution_count": 24,
   "metadata": {},
   "outputs": [
    {
     "name": "stdout",
     "output_type": "stream",
     "text": [
      "3.69 µs ± 55.5 ns per loop (mean ± std. dev. of 7 runs, 100000 loops each)\n"
     ]
    }
   ],
   "source": [
    "%%timeit\n",
    "\n",
    "filtered.at['()', 'location']"
   ]
  },
  {
   "cell_type": "code",
   "execution_count": 25,
   "metadata": {},
   "outputs": [
    {
     "data": {
      "text/plain": [
       "tuple"
      ]
     },
     "execution_count": 25,
     "metadata": {},
     "output_type": "execute_result"
    }
   ],
   "source": [
    "type(filtered.at['()', 'location'])"
   ]
  },
  {
   "cell_type": "code",
   "execution_count": 26,
   "metadata": {},
   "outputs": [
    {
     "name": "stdout",
     "output_type": "stream",
     "text": [
      "2.61 µs ± 104 ns per loop (mean ± std. dev. of 7 runs, 100000 loops each)\n"
     ]
    }
   ],
   "source": [
    "%%timeit\n",
    "\n",
    "filtered.get('location').item()"
   ]
  },
  {
   "cell_type": "code",
   "execution_count": 27,
   "metadata": {},
   "outputs": [
    {
     "data": {
      "text/plain": [
       "tuple"
      ]
     },
     "execution_count": 27,
     "metadata": {},
     "output_type": "execute_result"
    }
   ],
   "source": [
    "type(filtered.get('location').item())"
   ]
  },
  {
   "cell_type": "code",
   "execution_count": 28,
   "metadata": {},
   "outputs": [
    {
     "name": "stdout",
     "output_type": "stream",
     "text": [
      "2.43 µs ± 34.7 ns per loop (mean ± std. dev. of 7 runs, 100000 loops each)\n"
     ]
    }
   ],
   "source": [
    "%%timeit\n",
    "\n",
    "filtered['location'].item()"
   ]
  },
  {
   "cell_type": "code",
   "execution_count": 29,
   "metadata": {
    "scrolled": true
   },
   "outputs": [
    {
     "data": {
      "text/plain": [
       "tuple"
      ]
     },
     "execution_count": 29,
     "metadata": {},
     "output_type": "execute_result"
    }
   ],
   "source": [
    "type(filtered['location'].item())"
   ]
  }
 ],
 "metadata": {
  "kernelspec": {
   "display_name": "Python 3",
   "language": "python",
   "name": "python3"
  },
  "language_info": {
   "codemirror_mode": {
    "name": "ipython",
    "version": 3
   },
   "file_extension": ".py",
   "mimetype": "text/x-python",
   "name": "python",
   "nbconvert_exporter": "python",
   "pygments_lexer": "ipython3",
   "version": "3.6.6"
  }
 },
 "nbformat": 4,
 "nbformat_minor": 2
}
