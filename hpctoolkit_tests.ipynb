{
 "cells": [
  {
   "cell_type": "code",
   "execution_count": 1,
   "metadata": {},
   "outputs": [],
   "source": [
    "import datetime\n",
    "\n",
    "import line_profiler\n",
    "\n",
    "from profiling_flash import profile_db_path\n",
    "import hpctoolkit_dataframe\n",
    "from hpctoolkit_dataframe import HPCtoolkitDataFrame"
   ]
  },
  {
   "cell_type": "markdown",
   "metadata": {},
   "source": [
    "### Profiling data analysis itself"
   ]
  },
  {
   "cell_type": "code",
   "execution_count": 2,
   "metadata": {
    "scrolled": false
   },
   "outputs": [
    {
     "name": "stdout",
     "output_type": "stream",
     "text": [
      "CPU times: user 2.87 s, sys: 21.4 ms, total: 2.89 s\n",
      "Wall time: 2.88 s\n"
     ]
    }
   ],
   "source": [
    "%%time\n",
    "\n",
    "\n",
    "profiler = line_profiler.LineProfiler()\n",
    "profiler.add_module(hpctoolkit_dataframe)\n",
    "profiler.enable()\n",
    "\n",
    "_profile_path = profile_db_path(\n",
    "    datetime.datetime(2018, 9, 18, 14, 44, 19, 473557), test_name='subset_Sedov_baseline').joinpath('experiment.xml')\n",
    "df = HPCtoolkitDataFrame(path=_profile_path, max_depth=None)\n",
    "\n",
    "profiler.disable()"
   ]
  },
  {
   "cell_type": "code",
   "execution_count": 3,
   "metadata": {},
   "outputs": [
    {
     "name": "stdout",
     "output_type": "stream",
     "text": [
      "CPU times: user 1.68 s, sys: 4.26 ms, total: 1.68 s\n",
      "Wall time: 1.68 s\n"
     ]
    }
   ],
   "source": [
    "%%time\n",
    "\n",
    "profiler.enable()\n",
    "\n",
    "hot_path = df.hot_path(threshold=0.01)\n",
    "\n",
    "profiler.disable()"
   ]
  },
  {
   "cell_type": "code",
   "execution_count": 4,
   "metadata": {},
   "outputs": [
    {
     "name": "stdout",
     "output_type": "stream",
     "text": [
      "CPU times: user 1.32 ms, sys: 91 µs, total: 1.41 ms\n",
      "Wall time: 1.22 ms\n"
     ]
    }
   ],
   "source": [
    "%%time\n",
    "\n",
    "profiler.enable()\n",
    "\n",
    "df.compact\n",
    "\n",
    "profiler.disable()"
   ]
  },
  {
   "cell_type": "code",
   "execution_count": 5,
   "metadata": {
    "scrolled": false
   },
   "outputs": [
    {
     "name": "stdout",
     "output_type": "stream",
     "text": [
      "Timer unit: 1e-06 s\n",
      "\n",
      "Total time: 0.068866 s\n",
      "File: /nfs2/mbysiek/Projects/docker-transpyle-flash/hpctoolkit_dataframe.py\n",
      "Function: _read_xml at line 49\n",
      "\n",
      "Line #      Hits         Time  Per Hit   % Time  Line Contents\n",
      "==============================================================\n",
      "    49                                           def _read_xml(path: pathlib.Path) -> ET.ElementTree:\n",
      "    50         1       1210.0   1210.0      1.8      with path.open() as xml_file:\n",
      "    51         1      67655.0  67655.0     98.2          xml_data = ET.parse(xml_file)\n",
      "    52         1          1.0      1.0      0.0      return xml_data\n",
      "\n",
      "Total time: 3.8e-05 s\n",
      "File: /nfs2/mbysiek/Projects/docker-transpyle-flash/hpctoolkit_dataframe.py\n",
      "Function: _metrics_formula_sub_predicate at line 55\n",
      "\n",
      "Line #      Hits         Time  Per Hit   % Time  Line Contents\n",
      "==============================================================\n",
      "    55                                           def _metrics_formula_sub_predicate(match: t.Match) -> str:\n",
      "    56        36         38.0      1.1    100.0      return 'data.get(self._metrics_by_id[{}])'.format(match.group()[1:])\n",
      "\n",
      "Total time: 0.001302 s\n",
      "File: /nfs2/mbysiek/Projects/docker-transpyle-flash/hpctoolkit_dataframe.py\n",
      "Function: _derive_metrics_formulas at line 59\n",
      "\n",
      "Line #      Hits         Time  Per Hit   % Time  Line Contents\n",
      "==============================================================\n",
      "    59                                           def _derive_metrics_formulas(\n",
      "    60                                                   metrics: ET.Element) -> t.Dict[str, t.Tuple[str, t.Callable[[pd.DataFrame, dict], t.Any]]]:\n",
      "    61         1          1.0      1.0      0.1      metrics_formulas = {}\n",
      "    62        23          9.0      0.4      0.7      for metric in metrics:\n",
      "    63        22        230.0     10.5     17.7          formulas = metric.findall('./MetricFormula')\n",
      "    64        44         23.0      0.5      1.8          for formula in formulas:\n",
      "    65        40         26.0      0.7      2.0              if formula.attrib['t'] != 'finalize':\n",
      "    66        22          4.0      0.2      0.3                  continue\n",
      "    67        18         10.0      0.6      0.8              raw_formula = formula.attrib['frm']\n",
      "    68        18        388.0     21.6     29.8              formula_code = re.sub('\\$[0-9]+', _metrics_formula_sub_predicate, raw_formula)\n",
      "    69        18        583.0     32.4     44.8              compiled_formula = eval('lambda self, data: {}'.format(formula_code), None, None)\n",
      "    70        18         18.0      1.0      1.4              metrics_formulas[metric.attrib['n']] = (formula_code, compiled_formula)\n",
      "    71        18          9.0      0.5      0.7              break\n",
      "    72         1          1.0      1.0      0.1      return metrics_formulas\n",
      "\n",
      "Total time: 0.522348 s\n",
      "File: /nfs2/mbysiek/Projects/docker-transpyle-flash/hpctoolkit_dataframe.py\n",
      "Function: _callpath_filter at line 75\n",
      "\n",
      "Line #      Hits         Time  Per Hit   % Time  Line Contents\n",
      "==============================================================\n",
      "    75                                           def _callpath_filter(series: pd.Series, fragments: t.Sequence[t.Sequence[int]],\n",
      "    76                                                                prefix: t.Sequence[int], suffix: t.Sequence[int]) -> bool:\n",
      "    77     24400     481069.0     19.7     92.1      callpath = series.at['callpath']\n",
      "    78     24400       9101.0      0.4      1.7      if fragments:\n",
      "    79                                                   raise NotImplementedError(\n",
      "    80                                                       'filtering by arbitrary fragment \"{}\" not supported'.format(fragments))\n",
      "    81                                               # for fragment in fragments:\n",
      "    82                                               #    assert fragment, fragments\n",
      "    83                                               #    # TODO: implement\n",
      "    84     24400      19162.0      0.8      3.7      if prefix and (len(callpath) < len(prefix) or callpath[:len(prefix)] != prefix):\n",
      "    85      2157        593.0      0.3      0.1          return False\n",
      "    86     22243       6402.0      0.3      1.2      if suffix and (len(callpath) < len(suffix) or callpath[-len(suffix):] != suffix):\n",
      "    87                                                   return False\n",
      "    88     22243       6021.0      0.3      1.2      return True\n",
      "\n",
      "Total time: 0 s\n",
      "File: /nfs2/mbysiek/Projects/docker-transpyle-flash/hpctoolkit_dataframe.py\n",
      "Function: _str_or_regex_sequence_filter at line 91\n",
      "\n",
      "Line #      Hits         Time  Per Hit   % Time  Line Contents\n",
      "==============================================================\n",
      "    91                                           def _str_or_regex_sequence_filter(\n",
      "    92                                                   series: pd.Series, column: str, fragments: t.Sequence[t.Sequence[t.Union[t.Pattern, str]]],\n",
      "    93                                                   prefix: t.Sequence[t.Union[t.Pattern, str]],\n",
      "    94                                                   suffix: t.Sequence[t.Union[t.Pattern, str]]) -> bool:\n",
      "    95                                               value = series.at[column]\n",
      "    96                                               if fragments:\n",
      "    97                                                   raise NotImplementedError(\n",
      "    98                                                       'filtering by arbitrary fragment \"{}\" not supported'.format(fragments))\n",
      "    99                                               # for fragment in fragments:\n",
      "   100                                               #    assert fragment, fragments\n",
      "   101                                               #    # TODO: implement\n",
      "   102                                               if prefix:\n",
      "   103                                                   if len(value) < len(prefix):\n",
      "   104                                                       return False\n",
      "   105                                                   for value_item, prefix_item in zip(value[:len(prefix)], prefix):\n",
      "   106                                                       if not (prefix_item.fullmatch(value_item) if isinstance(prefix_item, t.Pattern)\n",
      "   107                                                               else prefix_item == value_item):\n",
      "   108                                                           return False\n",
      "   109                                               if suffix:\n",
      "   110                                                   if len(value) < len(suffix):\n",
      "   111                                                       return False\n",
      "   112                                                   for value_item, suffix_item in zip(value[-len(suffix):], suffix):\n",
      "   113                                                       if not (suffix_item.fullmatch(value_item) if isinstance(suffix_item, t.Pattern)\n",
      "   114                                                               else suffix_item == value_item):\n",
      "   115                                                           return False\n",
      "   116                                               return True\n",
      "\n",
      "Total time: 0.458115 s\n",
      "File: /nfs2/mbysiek/Projects/docker-transpyle-flash/hpctoolkit_dataframe.py\n",
      "Function: _depth_filter at line 119\n",
      "\n",
      "Line #      Hits         Time  Per Hit   % Time  Line Contents\n",
      "==============================================================\n",
      "   119                                           def _depth_filter(\n",
      "   120                                                   series: pd.Series, min_depth: t.Optional[int], max_depth: t.Optional[int]) -> bool:\n",
      "   121     22243     440763.0     19.8     96.2      depth = len(series.at['callpath'])\n",
      "   122     22243      11811.0      0.5      2.6      if min_depth is not None and depth < min_depth or max_depth is not None and depth > max_depth:\n",
      "   123     22007       5470.0      0.2      1.2          return False\n",
      "   124       236         71.0      0.3      0.0      return True\n",
      "\n",
      "Total time: 0.843588 s\n",
      "File: /nfs2/mbysiek/Projects/docker-transpyle-flash/hpctoolkit_dataframe.py\n",
      "Function: __init__ at line 150\n",
      "\n",
      "Line #      Hits         Time  Per Hit   % Time  Line Contents\n",
      "==============================================================\n",
      "   150                                               def __init__(self, *args,\n",
      "   151                                                            path: pathlib.Path = None, max_depth: t.Optional[int] = None, **kwargs):\n",
      "   152      1224       3422.0      2.8      0.4          if path is None:\n",
      "   153      1223      21916.0     17.9      2.6              super().__init__(*args, **kwargs)\n",
      "   154      1223       2367.0      1.9      0.3              return\n",
      "   155         1         17.0     17.0      0.0          self._db_path = path\n",
      "   156                                           \n",
      "   157         1      68951.0  68951.0      8.2          profile_data = _read_xml(path).find('./SecCallPathProfile')\n",
      "   158         1         16.0     16.0      0.0          _LOG.info('%s: %s', path, profile_data.attrib['n'])\n",
      "   159                                           \n",
      "   160         1         33.0     33.0      0.0          metrics = profile_data.find('./SecHeader/MetricTable')\n",
      "   161         1         14.0     14.0      0.0          _LOG.debug('%s: %s', path, [(_, _.attrib) for _ in metrics])\n",
      "   162         1         35.0     35.0      0.0          self._metrics_by_id = {int(_.attrib['i']): _.attrib['n'] for _ in metrics}\n",
      "   163         1        482.0    482.0      0.1          _LOG.info('%s: %s', path, pprint.pformat(self._metrics_by_id))\n",
      "   164                                           \n",
      "   165         1       1393.0   1393.0      0.2          self._metrics_formulas = _derive_metrics_formulas(metrics)\n",
      "   166         1       2029.0   2029.0      0.2          _LOG.info('%s: %s', path, pprint.pformat(self._metrics_formulas))\n",
      "   167                                           \n",
      "   168         1         36.0     36.0      0.0          modules = profile_data.find('./SecHeader/LoadModuleTable')\n",
      "   169         1          8.0      8.0      0.0          _LOG.debug('%s: %s', path, [(_, _.attrib) for _ in modules])\n",
      "   170         1        192.0    192.0      0.0          self._modules_by_id = {int(_.attrib['i']): pathlib.Path(_.attrib['n']) for _ in modules}\n",
      "   171         1        324.0    324.0      0.0          _LOG.info('%s: %s', path, pprint.pformat(self._modules_by_id))\n",
      "   172                                           \n",
      "   173         1         37.0     37.0      0.0          files = profile_data.find('./SecHeader/FileTable')\n",
      "   174         1         24.0     24.0      0.0          _LOG.debug('%s: %s', path, [(_, _.attrib) for _ in files])\n",
      "   175         1       2625.0   2625.0      0.3          self._files_by_id = {int(_.attrib['i']): pathlib.Path(_.attrib['n']) for _ in files}\n",
      "   176         1       4141.0   4141.0      0.5          _LOG.info('%s: %s', path, pprint.pformat(self._files_by_id))\n",
      "   177                                           \n",
      "   178         1         39.0     39.0      0.0          procedures = profile_data.find('./SecHeader/ProcedureTable')\n",
      "   179         1         46.0     46.0      0.0          _LOG.debug('%s: %s', path, [(_, _.attrib) for _ in procedures])\n",
      "   180         1        119.0    119.0      0.0          self._procedures_by_id = {int(_.attrib['i']): _.attrib['n'] for _ in procedures}\n",
      "   181         1       5455.0   5455.0      0.6          _LOG.info('%s: %s', path, pprint.pformat(self._procedures_by_id))\n",
      "   182                                           \n",
      "   183         1         30.0     30.0      0.0          measurements = profile_data.find('./SecCallPathProfileData')\n",
      "   184         1          8.0      8.0      0.0          _LOG.debug('%s: %s', path, [(_, _.attrib) for _ in measurements])\n",
      "   185                                           \n",
      "   186         1          7.0      7.0      0.0          columns = [metric for _, metric in sorted(self._metrics_by_id.items())]\n",
      "   187                                           \n",
      "   188                                                   # customize meanings of columns\n",
      "   189         1         22.0     22.0      0.0          percentage_column = self._determine_percentage_column_base(columns)\n",
      "   190                                                   compact_columns = [\n",
      "   191         1          2.0      2.0      0.0              percentage_column + suffix\n",
      "   192         1          4.0      4.0      0.0              for suffix in self._compact_column_suffixes]\n",
      "   193                                           \n",
      "   194         1          3.0      3.0      0.0          columns += _LOCATION_COLUMNS\n",
      "   195         1          2.0      2.0      0.0          compact_columns += _COMPACT_LOCATION_COLUMNS\n",
      "   196                                           \n",
      "   197                                                   self._meaningful_columns = {\n",
      "   198         1          1.0      1.0      0.0              'percentage': percentage_column,\n",
      "   199         1          2.0      2.0      0.0              'hot_path': percentage_column + self._hot_path_column_suffix,\n",
      "   200         1          8.0      8.0      0.0              'compact': compact_columns}\n",
      "   201                                           \n",
      "   202         1     717892.0 717892.0     85.1          rows = self._add_measurements(measurements, max_depth=max_depth)\n",
      "   203         1        385.0    385.0      0.0          index = [_['id'] for _ in rows]\n",
      "   204         1        105.0    105.0      0.0          assert len(index) == len(set(index)), index\n",
      "   205         1       8125.0   8125.0      1.0          super().__init__(data=rows, index=index, columns=columns)\n",
      "   206         1       2411.0   2411.0      0.3          self._fix_root_measurement()\n",
      "   207         1        808.0    808.0      0.1          self._add_percentage_columns()\n",
      "   208                                           \n",
      "   209         1         37.0     37.0      0.0          assert self._meaningful_columns['hot_path'] in self.columns, \\\n",
      "   210                                                       (self._meaningful_columns['hot_path'], self.columns)\n",
      "   211         1         15.0     15.0      0.0          assert all(_ in self.columns for _ in compact_columns), \\\n",
      "   212                                                       (compact_columns, self.columns)\n",
      "\n",
      "Total time: 0.110913 s\n",
      "File: /nfs2/mbysiek/Projects/docker-transpyle-flash/hpctoolkit_dataframe.py\n",
      "Function: _evaluate_measurements_data at line 214\n",
      "\n",
      "Line #      Hits         Time  Per Hit   % Time  Line Contents\n",
      "==============================================================\n",
      "   214                                               def _evaluate_measurements_data(self, data: dict) -> dict:\n",
      "   215      2158       1168.0      0.5      1.1          processed_data = {}\n",
      "   216     46442      17569.0      0.4     15.8          for column, entry in data.items():\n",
      "   217     44284      16896.0      0.4     15.2              if column not in self._metrics_formulas:\n",
      "   218      7720       2558.0      0.3      2.3                  processed_data[column] = entry\n",
      "   219      7720       2095.0      0.3      1.9                  continue\n",
      "   220     36564      14225.0      0.4     12.8              formula_code, formula = self._metrics_formulas[column]\n",
      "   221     36564      10486.0      0.3      9.5              try:\n",
      "   222     36564      45306.0      1.2     40.8                  processed_data[column] = formula(self, data)\n",
      "   223                                                       except ValueError as error:\n",
      "   224                                                           raise ValueError(\n",
      "   225                                                               '{}: error while evaluating \"\"\"{}\"\"\" to compute \"{}\" in row {}'\n",
      "   226                                                               .format(self._db_path, formula_code, column, data)) from error\n",
      "   227      2158        610.0      0.3      0.5          return processed_data\n",
      "\n",
      "Total time: 0.451966 s\n",
      "File: /nfs2/mbysiek/Projects/docker-transpyle-flash/hpctoolkit_dataframe.py\n",
      "Function: _add_measurements at line 229\n",
      "\n",
      "Line #      Hits         Time  Per Hit   % Time  Line Contents\n",
      "==============================================================\n",
      "   229                                               def _add_measurements(self, measurements: ET.Element, location: t.Dict[str, t.Any] = None, *,\n",
      "   230                                                                     max_depth: t.Optional[int] = None,\n",
      "   231                                                                     add_local: bool = True) -> t.List[pd.Series]:\n",
      "   232                                                   # split measurements into M and non-M items\n",
      "   233      2586       2010.0      0.8      0.4          local_measurements = {}\n",
      "   234      2586       1766.0      0.7      0.4          nonlocal_measurements = []\n",
      "   235     55875      38934.0      0.7      8.6          for measurement in measurements:\n",
      "   236     53289      37734.0      0.7      8.3              if measurement.tag != 'M':\n",
      "   237      2585       2170.0      0.8      0.5                  nonlocal_measurements.append(measurement)\n",
      "   238     50704      32264.0      0.6      7.1              elif add_local:\n",
      "   239                                                           local_measurements[self._metrics_by_id[int(measurement.attrib['n'])]] = \\\n",
      "   240     44284      62968.0      1.4     13.9                      float(measurement.attrib['v'])\n",
      "   241                                           \n",
      "   242      2586       1811.0      0.7      0.4          if location is None:\n",
      "   243         1          1.0      1.0      0.0              location = {'line': 0, 'id': -1, 'callpath': (), 'type': 'root'}\n",
      "   244                                           \n",
      "   245      2586       1756.0      0.7      0.4          if add_local:\n",
      "   246      2158     177765.0     82.4     39.3              local_measurements = self._evaluate_measurements_data(local_measurements)\n",
      "   247      2158       2990.0      1.4      0.7              local_measurements.update(location)\n",
      "   248      2158       1722.0      0.8      0.4              rows = [local_measurements]\n",
      "   249                                                   else:\n",
      "   250       428        271.0      0.6      0.1              rows = []\n",
      "   251                                           \n",
      "   252      2586       1772.0      0.7      0.4          if max_depth is not None and max_depth <= 0:\n",
      "   253                                                       return rows\n",
      "   254                                           \n",
      "   255      5171       4268.0      0.8      0.9          for measurement in nonlocal_measurements:\n",
      "   256      2585       2432.0      0.9      0.5              if measurement.tag not in _MEASUREMENT_TYPES:\n",
      "   257                                                           raise NotImplementedError(\n",
      "   258                                                               '{}: measurement type \"{}\" not recognized:\\nattributes={}\\nsubnodes={}'\n",
      "   259                                                               .format(self._db_path, measurement.tag, measurement.attrib,\n",
      "   260                                                                       [_ for _ in measurement]))\n",
      "   261                                           \n",
      "   262      2585       2444.0      0.9      0.5              if self._skip_callsite and measurement.tag == 'C':\n",
      "   263       428        333.0      0.8      0.1                  rows += self._add_measurements(measurement, location,\n",
      "   264       428        398.0      0.9      0.1                                                 max_depth=max_depth, add_local=False)\n",
      "   265       428        298.0      0.7      0.1                  continue\n",
      "   266                                           \n",
      "   267      2157       2113.0      1.0      0.5              new_location = {}\n",
      "   268      2157       2585.0      1.2      0.6              new_location.update(location)\n",
      "   269     17256      13672.0      0.8      3.0              for (attrib, field), transformer in _LOCATION_DATA_TRANSFORMERS.items():\n",
      "   270     15099      11692.0      0.8      2.6                  if attrib not in measurement.attrib:\n",
      "   271      6860       4646.0      0.7      1.0                      continue\n",
      "   272      8239       5828.0      0.7      1.3                  if field is None:\n",
      "   273      6540       4944.0      0.8      1.1                      field = _LOCATION_TYPES[attrib]\n",
      "   274      8239      16483.0      2.0      3.6                  new_location[field] = transformer(self, measurement.attrib[attrib])\n",
      "   275                                           \n",
      "   276      2157       1628.0      0.8      0.4              assert 'id' in new_location, \\\n",
      "   277                                                           (measurement.tag, measurement.attrib, [_ for _ in measurement])\n",
      "   278      2157       1938.0      0.9      0.4              new_location['type'] = _MEASUREMENT_TYPES[measurement.tag]\n",
      "   279      2157       3282.0      1.5      0.7              new_location['callpath'] = (*location['callpath'], new_location['id'])\n",
      "   280                                           \n",
      "   281      2157       1872.0      0.9      0.4              rows += self._add_measurements(\n",
      "   282      2157       1581.0      0.7      0.3                  measurement, new_location, max_depth=None if max_depth is None else max_depth - 1,\n",
      "   283      2157       1926.0      0.9      0.4                  add_local=True)\n",
      "   284                                           \n",
      "   285      2586       1669.0      0.6      0.4          return rows\n",
      "\n",
      "Total time: 0.002337 s\n",
      "File: /nfs2/mbysiek/Projects/docker-transpyle-flash/hpctoolkit_dataframe.py\n",
      "Function: _fix_root_measurement at line 287\n",
      "\n",
      "Line #      Hits         Time  Per Hit   % Time  Line Contents\n",
      "==============================================================\n",
      "   287                                               def _fix_root_measurement(self):\n",
      "   288         1        370.0    370.0     15.8          pattern = re.compile(r'(?P<prefix>.+:.+) \\(E\\)')\n",
      "   289         1          1.0      1.0      0.0          column_pairs = []\n",
      "   290        32         57.0      1.8      2.4          for target_column in self.columns:\n",
      "   291        31         31.0      1.0      1.3              match = pattern.fullmatch(target_column)\n",
      "   292        31          7.0      0.2      0.3              if match is None:\n",
      "   293        20          7.0      0.3      0.3                  continue\n",
      "   294        11         27.0      2.5      1.2              source_column = '{} (I)'.format(match['prefix'])\n",
      "   295        11         61.0      5.5      2.6              if source_column in self.columns:\n",
      "   296        11          5.0      0.5      0.2                  column_pairs.append((target_column, source_column))\n",
      "   297        11          3.0      0.3      0.1                  continue\n",
      "   298                                                       _LOG.warning('%s: no target column \"%s\" found for \"%s\", cannot fix root measurement',\n",
      "   299                                                                    self._db_path, target_column, source_column)\n",
      "   300        12         10.0      0.8      0.4          for target_column, source_column in column_pairs:\n",
      "   301        11       1758.0    159.8     75.2              self.at[_ROOT_INDEX, target_column] = self.at[_ROOT_INDEX, source_column]\n",
      "\n",
      "Total time: 3e-06 s\n",
      "File: /nfs2/mbysiek/Projects/docker-transpyle-flash/hpctoolkit_dataframe.py\n",
      "Function: _determine_percentage_column_base at line 303\n",
      "\n",
      "Line #      Hits         Time  Per Hit   % Time  Line Contents\n",
      "==============================================================\n",
      "   303                                               def _determine_percentage_column_base(self, columns) -> str:\n",
      "   304         1          0.0      0.0      0.0          percentage_column = None\n",
      "   305         1          2.0      2.0     66.7          for candidate in self._percentage_column_candidates:\n",
      "   306         1          1.0      1.0     33.3              col = self._fundamental_column_prefix + candidate\n",
      "   307         1          0.0      0.0      0.0              if col in columns:\n",
      "   308         1          0.0      0.0      0.0                  percentage_column = col\n",
      "   309         1          0.0      0.0      0.0                  break\n",
      "   310         1          0.0      0.0      0.0          if percentage_column is None:\n",
      "   311                                                       unique_prefixes = list(ordered_set.OrderedSet(_.partition(':')[0] for _ in columns))\n",
      "   312                                                       _LOG.warning(\n",
      "   313                                                           '%s: percentage column candidates %s%s not found, trying %s:%s', self._db_path,\n",
      "   314                                                           self._fundamental_column_prefix, self._percentage_column_candidates,\n",
      "   315                                                           unique_prefixes, self._percentage_column_candidates)\n",
      "   316                                                       for prefix in unique_prefixes:\n",
      "   317                                                           for candidate in self._percentage_column_candidates:\n",
      "   318                                                               col = '{}:{}'.format(prefix, candidate)\n",
      "   319                                                               if col in columns:\n",
      "   320                                                                   percentage_column = col\n",
      "   321                                                                   break\n",
      "   322                                                           if percentage_column is not None:\n",
      "   323                                                               break\n",
      "   324         1          0.0      0.0      0.0          assert percentage_column is not None, columns\n",
      "   325         1          0.0      0.0      0.0          return percentage_column\n",
      "\n",
      "Total time: 2.05452 s\n",
      "File: /nfs2/mbysiek/Projects/docker-transpyle-flash/hpctoolkit_dataframe.py\n",
      "Function: _add_percentage_columns at line 327\n",
      "\n",
      "Line #      Hits         Time  Per Hit   % Time  Line Contents\n",
      "==============================================================\n",
      "   327                                               def _add_percentage_columns(\n",
      "   328                                                       self, columns_and_methods: t.Sequence[t.Tuple[str, str]] = None) -> None:\n",
      "   329         1          0.0      0.0      0.0          if columns_and_methods is None:\n",
      "   330         1          1.0      1.0      0.0              base_column = self._meaningful_columns['percentage']\n",
      "   331         1          1.0      1.0      0.0              columns_and_methods = ((base_column, 'total'), (base_column, 'parent'))\n",
      "   332         3          4.0      1.3      0.0          for base_column, method in columns_and_methods:\n",
      "   333         2          1.0      0.5      0.0              self.add_ratio_column(\n",
      "   334         2    2054515.0 1027257.5    100.0                  base_column, '{} ratio of {}'.format(base_column, method), method)\n",
      "\n",
      "Total time: 2.03368 s\n",
      "File: /nfs2/mbysiek/Projects/docker-transpyle-flash/hpctoolkit_dataframe.py\n",
      "Function: add_ratio_column at line 336\n",
      "\n",
      "Line #      Hits         Time  Per Hit   % Time  Line Contents\n",
      "==============================================================\n",
      "   336                                               def add_ratio_column(self, base_column: str, column_name: str, method: str) -> None:\n",
      "   337                                                   \"\"\"Add a new column with ratio information taken from the base column.\n",
      "   338                                           \n",
      "   339                                                   There are two methods of calculating the ratios.\n",
      "   340                                           \n",
      "   341                                                   \"total\"\n",
      "   342                                                   Compare all values in the base column to the value in that column at the root.\n",
      "   343                                           \n",
      "   344                                                   \"parent\"\n",
      "   345                                                   Compare each value in the base column to the value in that column\n",
      "   346                                                   at one level higher in the call path.\n",
      "   347                                                   \"\"\"\n",
      "   348         2         34.0     17.0      0.0          assert base_column in self.columns, (base_column, self.columns)\n",
      "   349         2          5.0      2.5      0.0          assert column_name not in self.columns, (column_name, self.columns)\n",
      "   350         2         10.0      5.0      0.0          column_index = self.columns.get_loc(base_column) + 1\n",
      "   351         2       2032.0   1016.0      0.1          simple_self = self[[base_column, 'callpath']]\n",
      "   352         2          2.0      1.0      0.0          if method == 'total':\n",
      "   353         1        893.0    893.0      0.0              filtered = simple_self.loc[[_ROOT_INDEX]]\n",
      "   354         1         98.0     98.0      0.0              total = filtered[base_column].item()\n",
      "   355         1     291579.0 291579.0     14.3              data = [row.at[base_column] / total for _, row in simple_self.iterrows()]\n",
      "   356                                                   else:\n",
      "   357         1          0.0      0.0      0.0              assert method == 'parent'\n",
      "   358         1          1.0      1.0      0.0              data = []\n",
      "   359         1          1.0      1.0      0.0              _cache = {}\n",
      "   360      2159     289582.0    134.1     14.2              for _, row in simple_self.iterrows():\n",
      "   361      2158      65996.0     30.6      3.2                  value = row.at[base_column]\n",
      "   362      2158      47652.0     22.1      2.3                  base_callpath = row.at['callpath']\n",
      "   363      2158       1629.0      0.8      0.1                  base = None\n",
      "   364      3331       2611.0      0.8      0.1                  while base is None or base < value:\n",
      "   365      2158       2531.0      1.2      0.1                      base_callpath = base_callpath[:-1]\n",
      "   366      2158       2033.0      0.9      0.1                      if base_callpath in _cache:\n",
      "   367       985        805.0      0.8      0.0                          base = _cache[base_callpath]\n",
      "   368       985        617.0      0.6      0.0                          break\n",
      "   369      1173        668.0      0.6      0.0                      try:\n",
      "   370      1173    1207241.0   1029.2     59.4                          filtered = simple_self.loc[simple_self['callpath'] == base_callpath]\n",
      "   371                                                               except KeyError:\n",
      "   372                                                                   _LOG.exception('%s: no measurements for callpath %s',\n",
      "   373                                                                                  self._db_path, base_callpath)\n",
      "   374                                                                   continue\n",
      "   375      1173       4106.0      3.5      0.2                      assert len(filtered) == 1, \\\n",
      "   376                                                                   (base_column, row.at['callpath'], base_callpath, filtered)\n",
      "   377      1173     107203.0     91.4      5.3                      base = filtered[base_column].item()\n",
      "   378      1173       1856.0      1.6      0.1                      _cache[base_callpath] = base\n",
      "   379      2158       2562.0      1.2      0.1                  data.append(value / base)\n",
      "   380         1        174.0    174.0      0.0              del _cache\n",
      "   381         2       1758.0    879.0      0.1          self.insert(column_index, column_name, data)\n",
      "\n",
      "Total time: 0.885183 s\n",
      "File: /nfs2/mbysiek/Projects/docker-transpyle-flash/hpctoolkit_dataframe.py\n",
      "Function: at_paths at line 387\n",
      "\n",
      "Line #      Hits         Time  Per Hit   % Time  Line Contents\n",
      "==============================================================\n",
      "   387                                               def at_paths(self, *fragments, prefix: tuple = (), suffix: tuple = ()) -> pd.DataFrame:\n",
      "   388        22     871696.0  39622.5     98.5          mask = self.apply(_callpath_filter, axis=1, args=(fragments, prefix, suffix))\n",
      "   389        22      13487.0    613.0      1.5          return self[mask]\n",
      "\n",
      "Total time: 0.770822 s\n",
      "File: /nfs2/mbysiek/Projects/docker-transpyle-flash/hpctoolkit_dataframe.py\n",
      "Function: at_depths at line 391\n",
      "\n",
      "Line #      Hits         Time  Per Hit   % Time  Line Contents\n",
      "==============================================================\n",
      "   391                                               def at_depths(self, min_depth: t.Optional[int] = None,\n",
      "   392                                                             max_depth: t.Optional[int] = None) -> pd.DataFrame:\n",
      "   393        22     758782.0  34490.1     98.4          mask = self.apply(_depth_filter, axis=1, args=(min_depth, max_depth))\n",
      "   394        22      12040.0    547.3      1.6          return self[mask]\n",
      "\n",
      "Total time: 0.770925 s\n",
      "File: /nfs2/mbysiek/Projects/docker-transpyle-flash/hpctoolkit_dataframe.py\n",
      "Function: at_depth at line 396\n",
      "\n",
      "Line #      Hits         Time  Per Hit   % Time  Line Contents\n",
      "==============================================================\n",
      "   396                                               def at_depth(self, depth: int) -> pd.DataFrame:\n",
      "   397        22     770925.0  35042.0    100.0          return self.at_depths(depth, depth)\n",
      "\n",
      "Total time: 1.67816 s\n",
      "File: /nfs2/mbysiek/Projects/docker-transpyle-flash/hpctoolkit_dataframe.py\n",
      "Function: hot_path at line 399\n",
      "\n",
      "Line #      Hits         Time  Per Hit   % Time  Line Contents\n",
      "==============================================================\n",
      "   399                                               def hot_path(self, callpath: t.Sequence[int] = (), threshold: int = 0.05,\n",
      "   400                                                            base_column: str = None) -> pd.DataFrame:\n",
      "   401         1          5.0      5.0      0.0          if base_column is None:\n",
      "   402         1          2.0      2.0      0.0              base_column = self._meaningful_columns['hot_path']\n",
      "   403         1         27.0     27.0      0.0          assert base_column in self.columns, (base_column, self.columns)\n",
      "   404         1       3821.0   3821.0      0.2          simple_self = self[[base_column, 'callpath']]\n",
      "   405         1          1.0      1.0      0.0          hot_callpaths = []\n",
      "   406                                           \n",
      "   407         1          0.0      0.0      0.0          while True:\n",
      "   408        22         22.0      1.0      0.0              hot_callpaths.append(callpath)\n",
      "   409                                           \n",
      "   410        22     885608.0  40254.9     52.8              simple_self = simple_self.at_paths(prefix=callpath)\n",
      "   411        22        238.0     10.8      0.0              _LOG.debug('%s: %i at target callpath', self._db_path, len(simple_self))\n",
      "   412        22     771073.0  35048.8     45.9              at_depth = simple_self.at_depth(len(callpath) + 1)\n",
      "   413        22        200.0      9.1      0.0              _LOG.debug('%s: %i at depth %i', self._db_path, len(at_depth), len(callpath) + 1)\n",
      "   414                                           \n",
      "   415        22        236.0     10.7      0.0              if at_depth.empty:\n",
      "   416         1          1.0      1.0      0.0                  break\n",
      "   417                                           \n",
      "   418        21       4509.0    214.7      0.3              hottest_index = at_depth[base_column].idxmax()\n",
      "   419        21       9987.0    475.6      0.6              hottest_row = simple_self.loc[hottest_index]\n",
      "   420        21        654.0     31.1      0.0              callpath = hottest_row.at['callpath']\n",
      "   421        21        474.0     22.6      0.0              if hottest_row.at[base_column] < threshold:\n",
      "   422                                                           break\n",
      "   423                                           \n",
      "   424         1       1305.0   1305.0      0.1          return self[self.callpath.isin(hot_callpaths)]\n",
      "\n"
     ]
    }
   ],
   "source": [
    "profiler.print_stats()"
   ]
  },
  {
   "cell_type": "code",
   "execution_count": 6,
   "metadata": {},
   "outputs": [
    {
     "data": {
      "text/plain": [
       "CPUTIME (usec):Sum (I)                        float64\n",
       "CPUTIME (usec):Mean (I)                       float64\n",
       "CPUTIME (usec):Mean (I) ratio of parent       float64\n",
       "CPUTIME (usec):Mean (I) ratio of total        float64\n",
       "CPUTIME (usec):Mean:num-src (I)               float64\n",
       "CPUTIME (usec):StdDev (I)                  complex128\n",
       "CPUTIME (usec):StdDev:accum2 (I)              float64\n",
       "CPUTIME (usec):StdDev:num-src (I)             float64\n",
       "CPUTIME (usec):CfVar (I)                   complex128\n",
       "CPUTIME (usec):CfVar:accum2 (I)               float64\n",
       "CPUTIME (usec):CfVar:num-src (I)              float64\n",
       "CPUTIME (usec):Min (I)                        float64\n",
       "CPUTIME (usec):Max (I)                        float64\n",
       "CPUTIME (usec):Sum (E)                        float64\n",
       "CPUTIME (usec):Mean (E)                       float64\n",
       "CPUTIME (usec):Mean:num-src (E)               float64\n",
       "CPUTIME (usec):StdDev (E)                  complex128\n",
       "CPUTIME (usec):StdDev:accum2 (E)              float64\n",
       "CPUTIME (usec):StdDev:num-src (E)             float64\n",
       "CPUTIME (usec):CfVar (E)                   complex128\n",
       "CPUTIME (usec):CfVar:accum2 (E)               float64\n",
       "CPUTIME (usec):CfVar:num-src (E)              float64\n",
       "CPUTIME (usec):Min (E)                        float64\n",
       "CPUTIME (usec):Max (E)                        float64\n",
       "callpath                                       object\n",
       "module path                                    object\n",
       "module                                         object\n",
       "file path                                      object\n",
       "file                                           object\n",
       "line                                            int64\n",
       "procedure                                      object\n",
       "id                                              int64\n",
       "type                                           object\n",
       "dtype: object"
      ]
     },
     "execution_count": 6,
     "metadata": {},
     "output_type": "execute_result"
    }
   ],
   "source": [
    "df.dtypes"
   ]
  },
  {
   "cell_type": "code",
   "execution_count": 7,
   "metadata": {
    "scrolled": false
   },
   "outputs": [
    {
     "data": {
      "text/html": [
       "<div>\n",
       "<style scoped>\n",
       "    .dataframe tbody tr th:only-of-type {\n",
       "        vertical-align: middle;\n",
       "    }\n",
       "\n",
       "    .dataframe tbody tr th {\n",
       "        vertical-align: top;\n",
       "    }\n",
       "\n",
       "    .dataframe thead th {\n",
       "        text-align: right;\n",
       "    }\n",
       "</style>\n",
       "<table border=\"1\" class=\"dataframe\">\n",
       "  <thead>\n",
       "    <tr style=\"text-align: right;\">\n",
       "      <th></th>\n",
       "      <th>CPUTIME (usec):Mean (I)</th>\n",
       "      <th>CPUTIME (usec):Mean (I) ratio of total</th>\n",
       "      <th>CPUTIME (usec):Mean (I) ratio of parent</th>\n",
       "      <th>module</th>\n",
       "      <th>file</th>\n",
       "      <th>line</th>\n",
       "      <th>procedure</th>\n",
       "      <th>type</th>\n",
       "    </tr>\n",
       "  </thead>\n",
       "  <tbody>\n",
       "    <tr>\n",
       "      <th>-1</th>\n",
       "      <td>21146300.0</td>\n",
       "      <td>1.000000</td>\n",
       "      <td>1.000000</td>\n",
       "      <td>NaN</td>\n",
       "      <td>NaN</td>\n",
       "      <td>0</td>\n",
       "      <td>NaN</td>\n",
       "      <td>root</td>\n",
       "    </tr>\n",
       "    <tr>\n",
       "      <th>6</th>\n",
       "      <td>21122400.0</td>\n",
       "      <td>0.998870</td>\n",
       "      <td>0.998870</td>\n",
       "      <td>libmonitor.so.0.0.0</td>\n",
       "      <td>&lt;unknown file&gt; [libmonitor.so.0.0.0]</td>\n",
       "      <td>0</td>\n",
       "      <td>&lt;program root&gt;</td>\n",
       "      <td>procedure frame</td>\n",
       "    </tr>\n",
       "    <tr>\n",
       "      <th>8</th>\n",
       "      <td>21122400.0</td>\n",
       "      <td>0.998870</td>\n",
       "      <td>1.000000</td>\n",
       "      <td>flash4</td>\n",
       "      <td>Flash.F90</td>\n",
       "      <td>43</td>\n",
       "      <td>main</td>\n",
       "      <td>procedure frame</td>\n",
       "    </tr>\n",
       "    <tr>\n",
       "      <th>9</th>\n",
       "      <td>21122400.0</td>\n",
       "      <td>0.998870</td>\n",
       "      <td>1.000000</td>\n",
       "      <td>flash4</td>\n",
       "      <td>Flash.F90</td>\n",
       "      <td>43</td>\n",
       "      <td></td>\n",
       "      <td>procedure</td>\n",
       "    </tr>\n",
       "    <tr>\n",
       "      <th>10</th>\n",
       "      <td>21122400.0</td>\n",
       "      <td>0.998870</td>\n",
       "      <td>1.000000</td>\n",
       "      <td>flash4</td>\n",
       "      <td>Flash.F90</td>\n",
       "      <td>47</td>\n",
       "      <td>flash</td>\n",
       "      <td>procedure</td>\n",
       "    </tr>\n",
       "    <tr>\n",
       "      <th>154</th>\n",
       "      <td>20625700.0</td>\n",
       "      <td>0.975381</td>\n",
       "      <td>0.976485</td>\n",
       "      <td>flash4</td>\n",
       "      <td>Driver_evolveFlash.F90</td>\n",
       "      <td>38</td>\n",
       "      <td>driver_evolveflash_</td>\n",
       "      <td>procedure frame</td>\n",
       "    </tr>\n",
       "    <tr>\n",
       "      <th>170</th>\n",
       "      <td>20525700.0</td>\n",
       "      <td>0.970652</td>\n",
       "      <td>0.995152</td>\n",
       "      <td>flash4</td>\n",
       "      <td>Driver_evolveFlash.F90</td>\n",
       "      <td>164</td>\n",
       "      <td>driver_evolveflash_</td>\n",
       "      <td>loop</td>\n",
       "    </tr>\n",
       "    <tr>\n",
       "      <th>194</th>\n",
       "      <td>17406600.0</td>\n",
       "      <td>0.823151</td>\n",
       "      <td>0.848039</td>\n",
       "      <td>flash4</td>\n",
       "      <td>Hydro.F90</td>\n",
       "      <td>55</td>\n",
       "      <td>hydro_</td>\n",
       "      <td>procedure frame</td>\n",
       "    </tr>\n",
       "    <tr>\n",
       "      <th>707</th>\n",
       "      <td>12961200.0</td>\n",
       "      <td>0.612930</td>\n",
       "      <td>0.744614</td>\n",
       "      <td>flash4</td>\n",
       "      <td>hy_advance.F90</td>\n",
       "      <td>207</td>\n",
       "      <td>hy_advance_</td>\n",
       "      <td>procedure frame</td>\n",
       "    </tr>\n",
       "    <tr>\n",
       "      <th>708</th>\n",
       "      <td>12961200.0</td>\n",
       "      <td>0.612930</td>\n",
       "      <td>1.000000</td>\n",
       "      <td>flash4</td>\n",
       "      <td>hy_advance.F90</td>\n",
       "      <td>75</td>\n",
       "      <td>&lt;inline&gt;</td>\n",
       "      <td>procedure</td>\n",
       "    </tr>\n",
       "    <tr>\n",
       "      <th>768</th>\n",
       "      <td>12625900.0</td>\n",
       "      <td>0.597074</td>\n",
       "      <td>0.974130</td>\n",
       "      <td>flash4</td>\n",
       "      <td>hy_advance.F90</td>\n",
       "      <td>75</td>\n",
       "      <td>&lt;inline&gt;</td>\n",
       "      <td>loop</td>\n",
       "    </tr>\n",
       "    <tr>\n",
       "      <th>773</th>\n",
       "      <td>12617900.0</td>\n",
       "      <td>0.596695</td>\n",
       "      <td>0.999366</td>\n",
       "      <td>flash4</td>\n",
       "      <td>hy_computeFluxes.F90</td>\n",
       "      <td>78</td>\n",
       "      <td>hy_computefluxes_</td>\n",
       "      <td>procedure frame</td>\n",
       "    </tr>\n",
       "    <tr>\n",
       "      <th>819</th>\n",
       "      <td>9575540.0</td>\n",
       "      <td>0.452823</td>\n",
       "      <td>0.758885</td>\n",
       "      <td>flash4</td>\n",
       "      <td>hy_getRiemannState.F90</td>\n",
       "      <td>68</td>\n",
       "      <td>hy_getriemannstate_</td>\n",
       "      <td>procedure frame</td>\n",
       "    </tr>\n",
       "    <tr>\n",
       "      <th>836</th>\n",
       "      <td>9535720.0</td>\n",
       "      <td>0.450940</td>\n",
       "      <td>0.995841</td>\n",
       "      <td>flash4</td>\n",
       "      <td>hy_getRiemannState.F90</td>\n",
       "      <td>476</td>\n",
       "      <td>hy_getriemannstate_</td>\n",
       "      <td>loop</td>\n",
       "    </tr>\n",
       "    <tr>\n",
       "      <th>837</th>\n",
       "      <td>9535720.0</td>\n",
       "      <td>0.450940</td>\n",
       "      <td>1.000000</td>\n",
       "      <td>flash4</td>\n",
       "      <td>hy_getRiemannState.F90</td>\n",
       "      <td>477</td>\n",
       "      <td>hy_getriemannstate_</td>\n",
       "      <td>loop</td>\n",
       "    </tr>\n",
       "    <tr>\n",
       "      <th>879</th>\n",
       "      <td>8722130.0</td>\n",
       "      <td>0.412466</td>\n",
       "      <td>0.914680</td>\n",
       "      <td>flash4</td>\n",
       "      <td>hy_dataReconstOneStep.F90</td>\n",
       "      <td>82</td>\n",
       "      <td>hy_datareconstonestep_</td>\n",
       "      <td>procedure frame</td>\n",
       "    </tr>\n",
       "    <tr>\n",
       "      <th>976</th>\n",
       "      <td>7901000.0</td>\n",
       "      <td>0.373635</td>\n",
       "      <td>0.905857</td>\n",
       "      <td>flash4</td>\n",
       "      <td>hy_dataReconstOneStep.F90</td>\n",
       "      <td>485</td>\n",
       "      <td>hy_datareconstonestep_</td>\n",
       "      <td>loop</td>\n",
       "    </tr>\n",
       "    <tr>\n",
       "      <th>984</th>\n",
       "      <td>7789260.0</td>\n",
       "      <td>0.368351</td>\n",
       "      <td>0.985857</td>\n",
       "      <td>flash4</td>\n",
       "      <td>hy_DataReconstructNormalDir_PPM.F90</td>\n",
       "      <td>73</td>\n",
       "      <td>hy_datareconstructnormaldir_ppm_</td>\n",
       "      <td>procedure frame</td>\n",
       "    </tr>\n",
       "    <tr>\n",
       "      <th>1043</th>\n",
       "      <td>1319760.0</td>\n",
       "      <td>0.062411</td>\n",
       "      <td>0.169433</td>\n",
       "      <td>flash4</td>\n",
       "      <td>hy_upwindTransverseFlux.F90</td>\n",
       "      <td>43</td>\n",
       "      <td>hy_upwindtransverseflux_</td>\n",
       "      <td>procedure frame</td>\n",
       "    </tr>\n",
       "    <tr>\n",
       "      <th>1051</th>\n",
       "      <td>1168350.0</td>\n",
       "      <td>0.055251</td>\n",
       "      <td>0.885275</td>\n",
       "      <td>flash4</td>\n",
       "      <td>hy_upwindTransverseFlux.F90</td>\n",
       "      <td>132</td>\n",
       "      <td>hy_upwindtransverseflux_</td>\n",
       "      <td>loop</td>\n",
       "    </tr>\n",
       "    <tr>\n",
       "      <th>1059</th>\n",
       "      <td>338927.0</td>\n",
       "      <td>0.016028</td>\n",
       "      <td>0.290090</td>\n",
       "      <td>flash4</td>\n",
       "      <td>hy_upwindTransverseFlux.F90</td>\n",
       "      <td>144</td>\n",
       "      <td>hy_upwindtransverseflux_</td>\n",
       "      <td>loop</td>\n",
       "    </tr>\n",
       "    <tr>\n",
       "      <th>1060</th>\n",
       "      <td>338927.0</td>\n",
       "      <td>0.016028</td>\n",
       "      <td>1.000000</td>\n",
       "      <td>flash4</td>\n",
       "      <td>hy_upwindTransverseFlux.F90</td>\n",
       "      <td>144</td>\n",
       "      <td>hy_upwindtransverseflux_</td>\n",
       "      <td>statement</td>\n",
       "    </tr>\n",
       "  </tbody>\n",
       "</table>\n",
       "</div>"
      ],
      "text/plain": [
       "       CPUTIME (usec):Mean (I)  CPUTIME (usec):Mean (I) ratio of total  \\\n",
       "-1                  21146300.0                                1.000000   \n",
       " 6                  21122400.0                                0.998870   \n",
       " 8                  21122400.0                                0.998870   \n",
       " 9                  21122400.0                                0.998870   \n",
       " 10                 21122400.0                                0.998870   \n",
       " 154                20625700.0                                0.975381   \n",
       " 170                20525700.0                                0.970652   \n",
       " 194                17406600.0                                0.823151   \n",
       " 707                12961200.0                                0.612930   \n",
       " 708                12961200.0                                0.612930   \n",
       " 768                12625900.0                                0.597074   \n",
       " 773                12617900.0                                0.596695   \n",
       " 819                 9575540.0                                0.452823   \n",
       " 836                 9535720.0                                0.450940   \n",
       " 837                 9535720.0                                0.450940   \n",
       " 879                 8722130.0                                0.412466   \n",
       " 976                 7901000.0                                0.373635   \n",
       " 984                 7789260.0                                0.368351   \n",
       " 1043                1319760.0                                0.062411   \n",
       " 1051                1168350.0                                0.055251   \n",
       " 1059                 338927.0                                0.016028   \n",
       " 1060                 338927.0                                0.016028   \n",
       "\n",
       "       CPUTIME (usec):Mean (I) ratio of parent               module  \\\n",
       "-1                                    1.000000                  NaN   \n",
       " 6                                    0.998870  libmonitor.so.0.0.0   \n",
       " 8                                    1.000000               flash4   \n",
       " 9                                    1.000000               flash4   \n",
       " 10                                   1.000000               flash4   \n",
       " 154                                  0.976485               flash4   \n",
       " 170                                  0.995152               flash4   \n",
       " 194                                  0.848039               flash4   \n",
       " 707                                  0.744614               flash4   \n",
       " 708                                  1.000000               flash4   \n",
       " 768                                  0.974130               flash4   \n",
       " 773                                  0.999366               flash4   \n",
       " 819                                  0.758885               flash4   \n",
       " 836                                  0.995841               flash4   \n",
       " 837                                  1.000000               flash4   \n",
       " 879                                  0.914680               flash4   \n",
       " 976                                  0.905857               flash4   \n",
       " 984                                  0.985857               flash4   \n",
       " 1043                                 0.169433               flash4   \n",
       " 1051                                 0.885275               flash4   \n",
       " 1059                                 0.290090               flash4   \n",
       " 1060                                 1.000000               flash4   \n",
       "\n",
       "                                       file  line  \\\n",
       "-1                                      NaN     0   \n",
       " 6     <unknown file> [libmonitor.so.0.0.0]     0   \n",
       " 8                                Flash.F90    43   \n",
       " 9                                Flash.F90    43   \n",
       " 10                               Flash.F90    47   \n",
       " 154                 Driver_evolveFlash.F90    38   \n",
       " 170                 Driver_evolveFlash.F90   164   \n",
       " 194                              Hydro.F90    55   \n",
       " 707                         hy_advance.F90   207   \n",
       " 708                         hy_advance.F90    75   \n",
       " 768                         hy_advance.F90    75   \n",
       " 773                   hy_computeFluxes.F90    78   \n",
       " 819                 hy_getRiemannState.F90    68   \n",
       " 836                 hy_getRiemannState.F90   476   \n",
       " 837                 hy_getRiemannState.F90   477   \n",
       " 879              hy_dataReconstOneStep.F90    82   \n",
       " 976              hy_dataReconstOneStep.F90   485   \n",
       " 984    hy_DataReconstructNormalDir_PPM.F90    73   \n",
       " 1043           hy_upwindTransverseFlux.F90    43   \n",
       " 1051           hy_upwindTransverseFlux.F90   132   \n",
       " 1059           hy_upwindTransverseFlux.F90   144   \n",
       " 1060           hy_upwindTransverseFlux.F90   144   \n",
       "\n",
       "                              procedure             type  \n",
       "-1                                  NaN             root  \n",
       " 6                       <program root>  procedure frame  \n",
       " 8                                 main  procedure frame  \n",
       " 9                                             procedure  \n",
       " 10                               flash        procedure  \n",
       " 154                driver_evolveflash_  procedure frame  \n",
       " 170                driver_evolveflash_             loop  \n",
       " 194                             hydro_  procedure frame  \n",
       " 707                        hy_advance_  procedure frame  \n",
       " 708                           <inline>        procedure  \n",
       " 768                           <inline>             loop  \n",
       " 773                  hy_computefluxes_  procedure frame  \n",
       " 819                hy_getriemannstate_  procedure frame  \n",
       " 836                hy_getriemannstate_             loop  \n",
       " 837                hy_getriemannstate_             loop  \n",
       " 879             hy_datareconstonestep_  procedure frame  \n",
       " 976             hy_datareconstonestep_             loop  \n",
       " 984   hy_datareconstructnormaldir_ppm_  procedure frame  \n",
       " 1043          hy_upwindtransverseflux_  procedure frame  \n",
       " 1051          hy_upwindtransverseflux_             loop  \n",
       " 1059          hy_upwindtransverseflux_             loop  \n",
       " 1060          hy_upwindtransverseflux_        statement  "
      ]
     },
     "execution_count": 7,
     "metadata": {},
     "output_type": "execute_result"
    }
   ],
   "source": [
    "hot_path.compact"
   ]
  },
  {
   "cell_type": "markdown",
   "metadata": {},
   "source": [
    "### Profiling data access"
   ]
  },
  {
   "cell_type": "markdown",
   "metadata": {},
   "source": [
    "#### 1\n",
    "\n",
    "`DataFrame.loc[[str(...)]]` vs `DataFrame[DataFrame.col == ...]` vs `DataFrame[DataFrame['col'] == ...]`\n",
    "\n",
    "assuming that `DataFrame` is indexed by stringified column `col`"
   ]
  },
  {
   "cell_type": "code",
   "execution_count": 7,
   "metadata": {},
   "outputs": [
    {
     "name": "stdout",
     "output_type": "stream",
     "text": [
      "579 µs ± 34.3 µs per loop (mean ± std. dev. of 7 runs, 1000 loops each)\n"
     ]
    }
   ],
   "source": [
    "%%timeit\n",
    "\n",
    "df.loc[[str(())]]"
   ]
  },
  {
   "cell_type": "code",
   "execution_count": 8,
   "metadata": {},
   "outputs": [
    {
     "data": {
      "text/plain": [
       "hpctoolkit_dataframe.HPCtoolkitDataFrame"
      ]
     },
     "execution_count": 8,
     "metadata": {},
     "output_type": "execute_result"
    }
   ],
   "source": [
    "type(df.loc[[str(())]])"
   ]
  },
  {
   "cell_type": "code",
   "execution_count": 9,
   "metadata": {
    "scrolled": true
   },
   "outputs": [
    {
     "name": "stdout",
     "output_type": "stream",
     "text": [
      "544 µs ± 36.8 µs per loop (mean ± std. dev. of 7 runs, 1000 loops each)\n"
     ]
    }
   ],
   "source": [
    "%%timeit\n",
    "\n",
    "df[df.location == ()]"
   ]
  },
  {
   "cell_type": "code",
   "execution_count": 10,
   "metadata": {},
   "outputs": [
    {
     "data": {
      "text/plain": [
       "hpctoolkit_dataframe.HPCtoolkitDataFrame"
      ]
     },
     "execution_count": 10,
     "metadata": {},
     "output_type": "execute_result"
    }
   ],
   "source": [
    "type(df[df.location == ()])"
   ]
  },
  {
   "cell_type": "code",
   "execution_count": 11,
   "metadata": {},
   "outputs": [
    {
     "name": "stdout",
     "output_type": "stream",
     "text": [
      "529 µs ± 36.3 µs per loop (mean ± std. dev. of 7 runs, 1000 loops each)\n"
     ]
    }
   ],
   "source": [
    "%%timeit\n",
    "\n",
    "df[df['location'] == ()]"
   ]
  },
  {
   "cell_type": "markdown",
   "metadata": {},
   "source": [
    "#### 2\n",
    "\n",
    "`Series.at[...]` vs `Series.get(...)` vs `Series[...]`"
   ]
  },
  {
   "cell_type": "code",
   "execution_count": 12,
   "metadata": {},
   "outputs": [],
   "source": [
    "filtered = df.loc['()']"
   ]
  },
  {
   "cell_type": "code",
   "execution_count": 13,
   "metadata": {},
   "outputs": [
    {
     "data": {
      "text/plain": [
       "pandas.core.series.Series"
      ]
     },
     "execution_count": 13,
     "metadata": {},
     "output_type": "execute_result"
    }
   ],
   "source": [
    "type(filtered)"
   ]
  },
  {
   "cell_type": "code",
   "execution_count": 14,
   "metadata": {},
   "outputs": [
    {
     "name": "stdout",
     "output_type": "stream",
     "text": [
      "135 µs ± 1.68 µs per loop (mean ± std. dev. of 7 runs, 10000 loops each)\n"
     ]
    }
   ],
   "source": [
    "%%timeit\n",
    "\n",
    "df.loc['()']"
   ]
  },
  {
   "cell_type": "code",
   "execution_count": 15,
   "metadata": {},
   "outputs": [
    {
     "name": "stdout",
     "output_type": "stream",
     "text": [
      "7.71 µs ± 56.3 ns per loop (mean ± std. dev. of 7 runs, 100000 loops each)\n"
     ]
    }
   ],
   "source": [
    "%%timeit\n",
    "\n",
    "filtered.at['location']"
   ]
  },
  {
   "cell_type": "code",
   "execution_count": 16,
   "metadata": {},
   "outputs": [
    {
     "data": {
      "text/plain": [
       "tuple"
      ]
     },
     "execution_count": 16,
     "metadata": {},
     "output_type": "execute_result"
    }
   ],
   "source": [
    "type(filtered.at['location'])"
   ]
  },
  {
   "cell_type": "code",
   "execution_count": 17,
   "metadata": {},
   "outputs": [
    {
     "name": "stdout",
     "output_type": "stream",
     "text": [
      "9.82 µs ± 256 ns per loop (mean ± std. dev. of 7 runs, 100000 loops each)\n"
     ]
    }
   ],
   "source": [
    "%%timeit\n",
    "\n",
    "filtered.get('location')"
   ]
  },
  {
   "cell_type": "code",
   "execution_count": 18,
   "metadata": {},
   "outputs": [
    {
     "data": {
      "text/plain": [
       "tuple"
      ]
     },
     "execution_count": 18,
     "metadata": {},
     "output_type": "execute_result"
    }
   ],
   "source": [
    "type(filtered.get('location'))"
   ]
  },
  {
   "cell_type": "code",
   "execution_count": 19,
   "metadata": {},
   "outputs": [
    {
     "name": "stdout",
     "output_type": "stream",
     "text": [
      "9.4 µs ± 23.8 ns per loop (mean ± std. dev. of 7 runs, 100000 loops each)\n"
     ]
    }
   ],
   "source": [
    "%%timeit\n",
    "\n",
    "filtered['location']"
   ]
  },
  {
   "cell_type": "code",
   "execution_count": 20,
   "metadata": {},
   "outputs": [
    {
     "data": {
      "text/plain": [
       "tuple"
      ]
     },
     "execution_count": 20,
     "metadata": {},
     "output_type": "execute_result"
    }
   ],
   "source": [
    "type(filtered['location'])"
   ]
  },
  {
   "cell_type": "markdown",
   "metadata": {},
   "source": [
    "#### 3\n",
    "\n",
    "`DataFrame.at['index', 'col']` vs `DataFrame.get('col').item()` vs `DataFrame['col'].item()`\n",
    "\n",
    "assuming that `Dataframe` contains only one row (indexed as `'index'`)"
   ]
  },
  {
   "cell_type": "code",
   "execution_count": 21,
   "metadata": {},
   "outputs": [],
   "source": [
    "filtered = df.loc[['()']]"
   ]
  },
  {
   "cell_type": "code",
   "execution_count": 22,
   "metadata": {},
   "outputs": [
    {
     "data": {
      "text/plain": [
       "hpctoolkit_dataframe.HPCtoolkitDataFrame"
      ]
     },
     "execution_count": 22,
     "metadata": {},
     "output_type": "execute_result"
    }
   ],
   "source": [
    "type(filtered)"
   ]
  },
  {
   "cell_type": "code",
   "execution_count": 23,
   "metadata": {},
   "outputs": [
    {
     "name": "stdout",
     "output_type": "stream",
     "text": [
      "522 µs ± 5.37 µs per loop (mean ± std. dev. of 7 runs, 1000 loops each)\n"
     ]
    }
   ],
   "source": [
    "%%timeit\n",
    "\n",
    "df.loc[['()']]"
   ]
  },
  {
   "cell_type": "code",
   "execution_count": 24,
   "metadata": {},
   "outputs": [
    {
     "name": "stdout",
     "output_type": "stream",
     "text": [
      "3.69 µs ± 55.5 ns per loop (mean ± std. dev. of 7 runs, 100000 loops each)\n"
     ]
    }
   ],
   "source": [
    "%%timeit\n",
    "\n",
    "filtered.at['()', 'location']"
   ]
  },
  {
   "cell_type": "code",
   "execution_count": 25,
   "metadata": {},
   "outputs": [
    {
     "data": {
      "text/plain": [
       "tuple"
      ]
     },
     "execution_count": 25,
     "metadata": {},
     "output_type": "execute_result"
    }
   ],
   "source": [
    "type(filtered.at['()', 'location'])"
   ]
  },
  {
   "cell_type": "code",
   "execution_count": 26,
   "metadata": {},
   "outputs": [
    {
     "name": "stdout",
     "output_type": "stream",
     "text": [
      "2.61 µs ± 104 ns per loop (mean ± std. dev. of 7 runs, 100000 loops each)\n"
     ]
    }
   ],
   "source": [
    "%%timeit\n",
    "\n",
    "filtered.get('location').item()"
   ]
  },
  {
   "cell_type": "code",
   "execution_count": 27,
   "metadata": {},
   "outputs": [
    {
     "data": {
      "text/plain": [
       "tuple"
      ]
     },
     "execution_count": 27,
     "metadata": {},
     "output_type": "execute_result"
    }
   ],
   "source": [
    "type(filtered.get('location').item())"
   ]
  },
  {
   "cell_type": "code",
   "execution_count": 28,
   "metadata": {},
   "outputs": [
    {
     "name": "stdout",
     "output_type": "stream",
     "text": [
      "2.43 µs ± 34.7 ns per loop (mean ± std. dev. of 7 runs, 100000 loops each)\n"
     ]
    }
   ],
   "source": [
    "%%timeit\n",
    "\n",
    "filtered['location'].item()"
   ]
  },
  {
   "cell_type": "code",
   "execution_count": 29,
   "metadata": {
    "scrolled": true
   },
   "outputs": [
    {
     "data": {
      "text/plain": [
       "tuple"
      ]
     },
     "execution_count": 29,
     "metadata": {},
     "output_type": "execute_result"
    }
   ],
   "source": [
    "type(filtered['location'].item())"
   ]
  }
 ],
 "metadata": {
  "kernelspec": {
   "display_name": "Python 3",
   "language": "python",
   "name": "python3"
  },
  "language_info": {
   "codemirror_mode": {
    "name": "ipython",
    "version": 3
   },
   "file_extension": ".py",
   "mimetype": "text/x-python",
   "name": "python",
   "nbconvert_exporter": "python",
   "pygments_lexer": "ipython3",
   "version": "3.6.6"
  }
 },
 "nbformat": 4,
 "nbformat_minor": 2
}
